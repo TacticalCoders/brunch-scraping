{
 "cells": [
  {
   "cell_type": "markdown",
   "metadata": {},
   "source": [
    "## 키워드 to 문서 NLI 데이터셋 만들기"
   ]
  },
  {
   "cell_type": "code",
   "execution_count": 252,
   "metadata": {},
   "outputs": [],
   "source": [
    "import pandas as pd\n",
    "\n",
    "data = pd.read_csv(\"cluster_five_result_with_keyword.csv\")"
   ]
  },
  {
   "cell_type": "code",
   "execution_count": 253,
   "metadata": {},
   "outputs": [],
   "source": [
    "data = data[['cluster_0', 'cluster_1', 'cluster_2', 'cluster_3', 'cluster_4','keyword']]"
   ]
  },
  {
   "cell_type": "code",
   "execution_count": 254,
   "metadata": {},
   "outputs": [
    {
     "data": {
      "text/html": [
       "<div>\n",
       "<style scoped>\n",
       "    .dataframe tbody tr th:only-of-type {\n",
       "        vertical-align: middle;\n",
       "    }\n",
       "\n",
       "    .dataframe tbody tr th {\n",
       "        vertical-align: top;\n",
       "    }\n",
       "\n",
       "    .dataframe thead th {\n",
       "        text-align: right;\n",
       "    }\n",
       "</style>\n",
       "<table border=\"1\" class=\"dataframe\">\n",
       "  <thead>\n",
       "    <tr style=\"text-align: right;\">\n",
       "      <th></th>\n",
       "      <th>cluster_0</th>\n",
       "      <th>cluster_1</th>\n",
       "      <th>cluster_2</th>\n",
       "      <th>cluster_3</th>\n",
       "      <th>cluster_4</th>\n",
       "      <th>keyword</th>\n",
       "    </tr>\n",
       "  </thead>\n",
       "  <tbody>\n",
       "    <tr>\n",
       "      <th>0</th>\n",
       "      <td>35</td>\n",
       "      <td>32</td>\n",
       "      <td>173</td>\n",
       "      <td>267</td>\n",
       "      <td>364</td>\n",
       "      <td>HR</td>\n",
       "    </tr>\n",
       "    <tr>\n",
       "      <th>1</th>\n",
       "      <td>27</td>\n",
       "      <td>73</td>\n",
       "      <td>112</td>\n",
       "      <td>192</td>\n",
       "      <td>341</td>\n",
       "      <td>아토피</td>\n",
       "    </tr>\n",
       "    <tr>\n",
       "      <th>2</th>\n",
       "      <td>13</td>\n",
       "      <td>28</td>\n",
       "      <td>128</td>\n",
       "      <td>169</td>\n",
       "      <td>175</td>\n",
       "      <td>향수병</td>\n",
       "    </tr>\n",
       "    <tr>\n",
       "      <th>3</th>\n",
       "      <td>38</td>\n",
       "      <td>68</td>\n",
       "      <td>65</td>\n",
       "      <td>251</td>\n",
       "      <td>186</td>\n",
       "      <td>본능</td>\n",
       "    </tr>\n",
       "    <tr>\n",
       "      <th>4</th>\n",
       "      <td>38</td>\n",
       "      <td>82</td>\n",
       "      <td>119</td>\n",
       "      <td>246</td>\n",
       "      <td>329</td>\n",
       "      <td>상념</td>\n",
       "    </tr>\n",
       "    <tr>\n",
       "      <th>...</th>\n",
       "      <td>...</td>\n",
       "      <td>...</td>\n",
       "      <td>...</td>\n",
       "      <td>...</td>\n",
       "      <td>...</td>\n",
       "      <td>...</td>\n",
       "    </tr>\n",
       "    <tr>\n",
       "      <th>6763</th>\n",
       "      <td>6</td>\n",
       "      <td>48</td>\n",
       "      <td>90</td>\n",
       "      <td>219</td>\n",
       "      <td>334</td>\n",
       "      <td>제사</td>\n",
       "    </tr>\n",
       "    <tr>\n",
       "      <th>6764</th>\n",
       "      <td>28</td>\n",
       "      <td>64</td>\n",
       "      <td>159</td>\n",
       "      <td>201</td>\n",
       "      <td>163</td>\n",
       "      <td>천상병</td>\n",
       "    </tr>\n",
       "    <tr>\n",
       "      <th>6765</th>\n",
       "      <td>35</td>\n",
       "      <td>76</td>\n",
       "      <td>143</td>\n",
       "      <td>191</td>\n",
       "      <td>336</td>\n",
       "      <td>핼러윈</td>\n",
       "    </tr>\n",
       "    <tr>\n",
       "      <th>6766</th>\n",
       "      <td>9</td>\n",
       "      <td>20</td>\n",
       "      <td>27</td>\n",
       "      <td>70</td>\n",
       "      <td>115</td>\n",
       "      <td>자유학기제</td>\n",
       "    </tr>\n",
       "    <tr>\n",
       "      <th>6767</th>\n",
       "      <td>49</td>\n",
       "      <td>93</td>\n",
       "      <td>139</td>\n",
       "      <td>254</td>\n",
       "      <td>340</td>\n",
       "      <td>내공</td>\n",
       "    </tr>\n",
       "  </tbody>\n",
       "</table>\n",
       "<p>6768 rows × 6 columns</p>\n",
       "</div>"
      ],
      "text/plain": [
       "      cluster_0  cluster_1  cluster_2  cluster_3  cluster_4 keyword\n",
       "0            35         32        173        267        364      HR\n",
       "1            27         73        112        192        341     아토피\n",
       "2            13         28        128        169        175     향수병\n",
       "3            38         68         65        251        186      본능\n",
       "4            38         82        119        246        329      상념\n",
       "...         ...        ...        ...        ...        ...     ...\n",
       "6763          6         48         90        219        334      제사\n",
       "6764         28         64        159        201        163     천상병\n",
       "6765         35         76        143        191        336     핼러윈\n",
       "6766          9         20         27         70        115   자유학기제\n",
       "6767         49         93        139        254        340      내공\n",
       "\n",
       "[6768 rows x 6 columns]"
      ]
     },
     "execution_count": 254,
     "metadata": {},
     "output_type": "execute_result"
    }
   ],
   "source": [
    "data"
   ]
  },
  {
   "cell_type": "code",
   "execution_count": 11,
   "metadata": {},
   "outputs": [],
   "source": [
    "words = data['keyword'].to_list()"
   ]
  },
  {
   "cell_type": "code",
   "execution_count": 16,
   "metadata": {},
   "outputs": [
    {
     "data": {
      "text/plain": [
       "6768"
      ]
     },
     "execution_count": 16,
     "metadata": {},
     "output_type": "execute_result"
    }
   ],
   "source": [
    "len(words)"
   ]
  },
  {
   "cell_type": "code",
   "execution_count": 91,
   "metadata": {},
   "outputs": [],
   "source": [
    "import random\n",
    "\n",
    "def get_rand_word(words):\n",
    "    rand_idx = random.randint(0,len(words)-1)\n",
    "    return words[rand_idx]"
   ]
  },
  {
   "cell_type": "code",
   "execution_count": 31,
   "metadata": {},
   "outputs": [
    {
     "data": {
      "text/plain": [
       "'우주론'"
      ]
     },
     "execution_count": 31,
     "metadata": {},
     "output_type": "execute_result"
    }
   ],
   "source": [
    "get_rand_word(words)"
   ]
  },
  {
   "cell_type": "code",
   "execution_count": 29,
   "metadata": {},
   "outputs": [],
   "source": [
    "def get_clusters(data, word):\n",
    "    \n",
    "    clusters = []\n",
    "    \n",
    "    row = data[data['keyword'] == word]\n",
    "    clusters.append(row['cluster_0'].values[0])\n",
    "    clusters.append(row['cluster_1'].values[0])\n",
    "    clusters.append(row['cluster_2'].values[0])\n",
    "    clusters.append(row['cluster_3'].values[0])\n",
    "    clusters.append(row['cluster_4'].values[0])\n",
    "    \n",
    "    return clusters"
   ]
  },
  {
   "cell_type": "code",
   "execution_count": 32,
   "metadata": {},
   "outputs": [
    {
     "data": {
      "text/plain": [
       "[39, 25, 108, 91, 155]"
      ]
     },
     "execution_count": 32,
     "metadata": {},
     "output_type": "execute_result"
    }
   ],
   "source": [
    "get_clusters(data, '우주론')"
   ]
  },
  {
   "cell_type": "markdown",
   "metadata": {},
   "source": [
    "몇 개의 클러스터가 같은지 확인하는 함수"
   ]
  },
  {
   "cell_type": "code",
   "execution_count": 71,
   "metadata": {},
   "outputs": [],
   "source": [
    "def counts_same_cluster(cluster1, cluster2):\n",
    "    cnt = 0\n",
    "    for i in cluster1:\n",
    "        if i in cluster2:\n",
    "            cnt += 1\n",
    "    return cnt"
   ]
  },
  {
   "cell_type": "code",
   "execution_count": 72,
   "metadata": {},
   "outputs": [
    {
     "name": "stdout",
     "output_type": "stream",
     "text": [
      "스트레칭 작업노트\n",
      "[0, 12, 39, 16, 17] [17, 54, 41, 4, 42]\n"
     ]
    },
    {
     "data": {
      "text/plain": [
       "1"
      ]
     },
     "execution_count": 72,
     "metadata": {},
     "output_type": "execute_result"
    }
   ],
   "source": [
    "word1 = get_rand_word(words)\n",
    "word2 = get_rand_word(words)\n",
    "print(word1, word2)\n",
    "cluster1 = get_clusters(data, word1)\n",
    "cluster2 = get_clusters(data, word2)\n",
    "print(cluster1, cluster2)\n",
    "counts_same_cluster(cluster1, cluster2)"
   ]
  },
  {
   "cell_type": "markdown",
   "metadata": {},
   "source": [
    "### 일치하는 클러스터 수에 따라 neutral과 contradiction 단어 리스트 구하기\n",
    "\n",
    "entail키워드에 속하는 모든 키워드에 대해야 일치하는 클러스터가 0개라면 contradiction, 1 ~ 3 개이면 neutral이다.\n",
    "\n",
    "entailment는 기존의 태그 3개이다."
   ]
  },
  {
   "cell_type": "code",
   "execution_count": 229,
   "metadata": {},
   "outputs": [],
   "source": [
    "def get_contradiction_words(data, words, entail_keywords):\n",
    "    contradiction_words = []\n",
    "    while len(contradiction_words) != 3:\n",
    "        rand_word = get_rand_word(words)   \n",
    "        cluster = get_clusters(data, rand_word)\n",
    "        \n",
    "        is_contradict = True\n",
    "        for keyword in entail_keywords:\n",
    "            entail_cluster = get_clusters(data, keyword)\n",
    "            cnt = counts_same_cluster(cluster, entail_cluster)\n",
    "            if cnt > 1:\n",
    "                is_contradict = False\n",
    "        if is_contradict:\n",
    "            contradiction_words.append(rand_word)\n",
    "    return contradiction_words"
   ]
  },
  {
   "cell_type": "code",
   "execution_count": 245,
   "metadata": {},
   "outputs": [
    {
     "data": {
      "text/plain": [
       "['돌담길', '조직성과', '맨몸운동']"
      ]
     },
     "execution_count": 245,
     "metadata": {},
     "output_type": "execute_result"
    }
   ],
   "source": [
    "get_contradiction_words(data, words, ['챗봇', 'AI', '미래'])"
   ]
  },
  {
   "cell_type": "code",
   "execution_count": 222,
   "metadata": {},
   "outputs": [],
   "source": [
    "def get_neutral_words(data, words, entail_keywords):\n",
    "    neutral_words = []\n",
    "    while len(neutral_words) != 2:\n",
    "        rand_word = get_rand_word(words)   \n",
    "        cluster = get_clusters(data, rand_word)\n",
    "        is_neutral = True\n",
    "        for keyword in entail_keywords:\n",
    "            entail_cluster = get_clusters(data, keyword)\n",
    "            cnt = counts_same_cluster(cluster, entail_cluster)\n",
    "            if cnt < 1 or cnt > 3:\n",
    "                is_neutral = False\n",
    "        if is_neutral:\n",
    "            neutral_words.append(rand_word)\n",
    "    return neutral_words"
   ]
  },
  {
   "cell_type": "code",
   "execution_count": 247,
   "metadata": {},
   "outputs": [
    {
     "data": {
      "text/plain": [
       "['브랜드관리', '커리어패스']"
      ]
     },
     "execution_count": 247,
     "metadata": {},
     "output_type": "execute_result"
    }
   ],
   "source": [
    "get_neutral_words(data, words, ['카피라이터','AI', '콘텐츠'])"
   ]
  },
  {
   "cell_type": "markdown",
   "metadata": {},
   "source": [
    "### 기존 데이터 읽어오기"
   ]
  },
  {
   "cell_type": "code",
   "execution_count": 101,
   "metadata": {},
   "outputs": [],
   "source": [
    "import jsonlines\n",
    "\n",
    "data_list = []\n",
    "\n",
    "with jsonlines.open(\"./data/brunch/brunch_dataset_50_long.jsonl\") as f:\n",
    "    for line in f.iter():\n",
    "        data_list.append(line)"
   ]
  },
  {
   "cell_type": "code",
   "execution_count": 102,
   "metadata": {
    "scrolled": true
   },
   "outputs": [
    {
     "data": {
      "text/html": [
       "<div>\n",
       "<style scoped>\n",
       "    .dataframe tbody tr th:only-of-type {\n",
       "        vertical-align: middle;\n",
       "    }\n",
       "\n",
       "    .dataframe tbody tr th {\n",
       "        vertical-align: top;\n",
       "    }\n",
       "\n",
       "    .dataframe thead th {\n",
       "        text-align: right;\n",
       "    }\n",
       "</style>\n",
       "<table border=\"1\" class=\"dataframe\">\n",
       "  <thead>\n",
       "    <tr style=\"text-align: right;\">\n",
       "      <th></th>\n",
       "      <th>title</th>\n",
       "      <th>sub_title</th>\n",
       "      <th>body_text</th>\n",
       "      <th>keyword</th>\n",
       "      <th>likes</th>\n",
       "      <th>post_date</th>\n",
       "      <th>post_url</th>\n",
       "      <th>author_id</th>\n",
       "    </tr>\n",
       "  </thead>\n",
       "  <tbody>\n",
       "    <tr>\n",
       "      <th>0</th>\n",
       "      <td>구글을 대체할 AI 챗봇 ChatGPT</td>\n",
       "      <td>브런치의 미래</td>\n",
       "      <td>\\n일론머스크와 샘알트만이 설립한 OpenAI에서 ChatGPT이라는 대화형 인공지...</td>\n",
       "      <td>[챗봇, AI, 미래]</td>\n",
       "      <td>76</td>\n",
       "      <td>2023-01-18</td>\n",
       "      <td>https://brunch.co.kr/@jejung/178</td>\n",
       "      <td>@jejung</td>\n",
       "    </tr>\n",
       "    <tr>\n",
       "      <th>1</th>\n",
       "      <td>AI 와 예술의 공존, 저작권에 대하여</td>\n",
       "      <td>NaN</td>\n",
       "      <td>\\nAI 기술이 나날이 발전을 더하며 그동안 산업계에서 주로 활용되었던 기술이 이제...</td>\n",
       "      <td>[AI, 예술, NFT]</td>\n",
       "      <td>75</td>\n",
       "      <td>2023-01-04</td>\n",
       "      <td>https://brunch.co.kr/@jejung/176</td>\n",
       "      <td>@jejung</td>\n",
       "    </tr>\n",
       "    <tr>\n",
       "      <th>2</th>\n",
       "      <td>AI가 자동으로 콘텐츠를 써주는 서비스의 성능은?</td>\n",
       "      <td>AI 기반의 카피라이터, '뤼튼' 서비스를 써보았다.</td>\n",
       "      <td>\\n\\n매일 뭐라도 올리려고 소재를 찾다가, 눈에 띄는 문구가 하나 있었다. 이미 ...</td>\n",
       "      <td>[카피라이터, AI, 콘텐츠]</td>\n",
       "      <td>52</td>\n",
       "      <td>2022-11-09</td>\n",
       "      <td>https://brunch.co.kr/@paulie/264</td>\n",
       "      <td>@paulie</td>\n",
       "    </tr>\n",
       "    <tr>\n",
       "      <th>3</th>\n",
       "      <td>AI가 만들어준 찰스 1세와 헨리에타 마리아입니다;;;</td>\n",
       "      <td>(22)책 출간: ai그림 만들기</td>\n",
       "      <td>\\n오늘 획기적인 사이트를 하나 알고 들어가 봤습니다.\\n\\nhttps://nove...</td>\n",
       "      <td>[텀블벅, AI, 독립출판물]</td>\n",
       "      <td>64</td>\n",
       "      <td>2022-10-13</td>\n",
       "      <td>https://brunch.co.kr/@f635a2b84449453/143</td>\n",
       "      <td>@f635a2b84449453</td>\n",
       "    </tr>\n",
       "    <tr>\n",
       "      <th>4</th>\n",
       "      <td>브런치북이 클래스101 AI VOD로 재탄생했습니다</td>\n",
       "      <td>브런치북 AI 클래스 프로젝트 수상작 AI VOD 론칭</td>\n",
       "      <td>\\n브런치북이 전자책, 오디오북에 이어 또 한 번의 변신을 거듭합니다. 브런치북 A...</td>\n",
       "      <td>[브런치북, 클래스, AI]</td>\n",
       "      <td>217</td>\n",
       "      <td>2022-10-05</td>\n",
       "      <td>https://brunch.co.kr/@brunch/313</td>\n",
       "      <td>@brunch</td>\n",
       "    </tr>\n",
       "    <tr>\n",
       "      <th>...</th>\n",
       "      <td>...</td>\n",
       "      <td>...</td>\n",
       "      <td>...</td>\n",
       "      <td>...</td>\n",
       "      <td>...</td>\n",
       "      <td>...</td>\n",
       "      <td>...</td>\n",
       "      <td>...</td>\n",
       "    </tr>\n",
       "    <tr>\n",
       "      <th>23307</th>\n",
       "      <td>업무 인수인계 잘하기</td>\n",
       "      <td>릴레이에서 바톤을 놓친다면</td>\n",
       "      <td>\\n좋은 직장과 안 좋은 직장을 알 수 있는 기준은 참 많지만, 하나를 골라보라면 ...</td>\n",
       "      <td>[업무, 조직, 회사]</td>\n",
       "      <td>55</td>\n",
       "      <td>2016-03-08</td>\n",
       "      <td>https://brunch.co.kr/@lunarshore/37</td>\n",
       "      <td>@lunarshore</td>\n",
       "    </tr>\n",
       "    <tr>\n",
       "      <th>23308</th>\n",
       "      <td>면접자는 모르는 대기업, 중소기업, 외국계 기업의 특징</td>\n",
       "      <td>당신의 미래를 시작할 곳은 어디인가요</td>\n",
       "      <td>\\n** 이 문서는 2017년 기준으로 개정된 문서입니다\\n** 유튜브 채널의 좋아...</td>\n",
       "      <td>[면접, 인재, 회사]</td>\n",
       "      <td>118</td>\n",
       "      <td>2016-03-04</td>\n",
       "      <td>https://brunch.co.kr/@hdyoon/3</td>\n",
       "      <td>@hdyoon</td>\n",
       "    </tr>\n",
       "    <tr>\n",
       "      <th>23309</th>\n",
       "      <td>남들이 피하는 일을 선택하라</td>\n",
       "      <td>돌파구 노트</td>\n",
       "      <td>\\n\\n본인에게 일의 선택권이 주어진다면 어떤 업무를 선택하겠는가? 대부분의 사람들...</td>\n",
       "      <td>[회사, 도전, 일]</td>\n",
       "      <td>83</td>\n",
       "      <td>2016-01-17</td>\n",
       "      <td>https://brunch.co.kr/@breakthrough/26</td>\n",
       "      <td>@breakthrough</td>\n",
       "    </tr>\n",
       "    <tr>\n",
       "      <th>23310</th>\n",
       "      <td>일 잘하는 법</td>\n",
       "      <td>돌파구 노트</td>\n",
       "      <td>\\n일을 잘한다는 의미는 무엇일까? 간단히 이야기하면 주어진 시간 안에 업무 목표를...</td>\n",
       "      <td>[일, 회사, 평가]</td>\n",
       "      <td>91</td>\n",
       "      <td>2016-01-13</td>\n",
       "      <td>https://brunch.co.kr/@breakthrough/25</td>\n",
       "      <td>@breakthrough</td>\n",
       "    </tr>\n",
       "    <tr>\n",
       "      <th>23311</th>\n",
       "      <td>리더의 에티켓</td>\n",
       "      <td>돌파구 노트</td>\n",
       "      <td>\\n\\n현재 함께 일하고 있는 상사에 대해서 어떻게 생각하는가? 아마도 상사의 장점...</td>\n",
       "      <td>[리더, 에티켓, 회사]</td>\n",
       "      <td>83</td>\n",
       "      <td>2015-11-09</td>\n",
       "      <td>https://brunch.co.kr/@breakthrough/11</td>\n",
       "      <td>@breakthrough</td>\n",
       "    </tr>\n",
       "  </tbody>\n",
       "</table>\n",
       "<p>23312 rows × 8 columns</p>\n",
       "</div>"
      ],
      "text/plain": [
       "                                title                       sub_title  \\\n",
       "0               구글을 대체할 AI 챗봇 ChatGPT                        브런치의 미래    \n",
       "1               AI 와 예술의 공존, 저작권에 대하여                             NaN   \n",
       "2         AI가 자동으로 콘텐츠를 써주는 서비스의 성능은?  AI 기반의 카피라이터, '뤼튼' 서비스를 써보았다.    \n",
       "3      AI가 만들어준 찰스 1세와 헨리에타 마리아입니다;;;              (22)책 출간: ai그림 만들기   \n",
       "4        브런치북이 클래스101 AI VOD로 재탄생했습니다  브런치북 AI 클래스 프로젝트 수상작 AI VOD 론칭   \n",
       "...                               ...                             ...   \n",
       "23307                     업무 인수인계 잘하기                  릴레이에서 바톤을 놓친다면   \n",
       "23308  면접자는 모르는 대기업, 중소기업, 외국계 기업의 특징            당신의 미래를 시작할 곳은 어디인가요   \n",
       "23309                 남들이 피하는 일을 선택하라                          돌파구 노트   \n",
       "23310                         일 잘하는 법                          돌파구 노트   \n",
       "23311                         리더의 에티켓                          돌파구 노트   \n",
       "\n",
       "                                               body_text           keyword  \\\n",
       "0      \\n일론머스크와 샘알트만이 설립한 OpenAI에서 ChatGPT이라는 대화형 인공지...      [챗봇, AI, 미래]   \n",
       "1      \\nAI 기술이 나날이 발전을 더하며 그동안 산업계에서 주로 활용되었던 기술이 이제...     [AI, 예술, NFT]   \n",
       "2      \\n\\n매일 뭐라도 올리려고 소재를 찾다가, 눈에 띄는 문구가 하나 있었다. 이미 ...  [카피라이터, AI, 콘텐츠]   \n",
       "3      \\n오늘 획기적인 사이트를 하나 알고 들어가 봤습니다.\\n\\nhttps://nove...  [텀블벅, AI, 독립출판물]   \n",
       "4      \\n브런치북이 전자책, 오디오북에 이어 또 한 번의 변신을 거듭합니다. 브런치북 A...   [브런치북, 클래스, AI]   \n",
       "...                                                  ...               ...   \n",
       "23307  \\n좋은 직장과 안 좋은 직장을 알 수 있는 기준은 참 많지만, 하나를 골라보라면 ...      [업무, 조직, 회사]   \n",
       "23308  \\n** 이 문서는 2017년 기준으로 개정된 문서입니다\\n** 유튜브 채널의 좋아...      [면접, 인재, 회사]   \n",
       "23309  \\n\\n본인에게 일의 선택권이 주어진다면 어떤 업무를 선택하겠는가? 대부분의 사람들...       [회사, 도전, 일]   \n",
       "23310  \\n일을 잘한다는 의미는 무엇일까? 간단히 이야기하면 주어진 시간 안에 업무 목표를...       [일, 회사, 평가]   \n",
       "23311  \\n\\n현재 함께 일하고 있는 상사에 대해서 어떻게 생각하는가? 아마도 상사의 장점...     [리더, 에티켓, 회사]   \n",
       "\n",
       "       likes    post_date                                   post_url  \\\n",
       "0         76   2023-01-18           https://brunch.co.kr/@jejung/178   \n",
       "1         75   2023-01-04           https://brunch.co.kr/@jejung/176   \n",
       "2         52   2022-11-09           https://brunch.co.kr/@paulie/264   \n",
       "3         64   2022-10-13  https://brunch.co.kr/@f635a2b84449453/143   \n",
       "4        217   2022-10-05           https://brunch.co.kr/@brunch/313   \n",
       "...      ...          ...                                        ...   \n",
       "23307     55   2016-03-08        https://brunch.co.kr/@lunarshore/37   \n",
       "23308    118   2016-03-04             https://brunch.co.kr/@hdyoon/3   \n",
       "23309     83   2016-01-17      https://brunch.co.kr/@breakthrough/26   \n",
       "23310     91   2016-01-13      https://brunch.co.kr/@breakthrough/25   \n",
       "23311     83   2015-11-09      https://brunch.co.kr/@breakthrough/11   \n",
       "\n",
       "              author_id  \n",
       "0               @jejung  \n",
       "1               @jejung  \n",
       "2               @paulie  \n",
       "3      @f635a2b84449453  \n",
       "4               @brunch  \n",
       "...                 ...  \n",
       "23307       @lunarshore  \n",
       "23308           @hdyoon  \n",
       "23309     @breakthrough  \n",
       "23310     @breakthrough  \n",
       "23311     @breakthrough  \n",
       "\n",
       "[23312 rows x 8 columns]"
      ]
     },
     "execution_count": 102,
     "metadata": {},
     "output_type": "execute_result"
    }
   ],
   "source": [
    "import pandas as pd\n",
    "\n",
    "data_df = pd.DataFrame(data_list)\n",
    "data_df"
   ]
  },
  {
   "cell_type": "markdown",
   "metadata": {},
   "source": [
    "### 기존 데이터에 neutral/contradiction 단어 추가하기\n",
    "\n",
    "기존데이터에 각 행을 순회하며 neutral 단어들과 contradiction 단어를 추가한다.\n",
    "\n",
    "이때는 데이터 프레임이 아닌 json(딕셔너리)의 리스트인 data_list를 활용한다."
   ]
  },
  {
   "cell_type": "code",
   "execution_count": 258,
   "metadata": {},
   "outputs": [],
   "source": [
    "for row in data_list:\n",
    "    entail_keyword = row['keyword']\n",
    "    contra_words = get_contradiction_words(data, words, entail_keyword)\n",
    "    row['contradiction'] = contra_words"
   ]
  },
  {
   "cell_type": "code",
   "execution_count": 267,
   "metadata": {},
   "outputs": [
    {
     "data": {
      "text/plain": [
       "{'title': '연애보다 사랑',\n",
       " 'sub_title': '멈춘다고 죽지는 않던데',\n",
       " 'body_text': '\\n나는 삼십 대가 되고 나서야 노화만큼 안타까워진 것이 하나 더 늘었다. 사랑이었다.\\n\\n어릴 적에 난 연애와 사랑을 하나라고 여겼다. 좋아하는 마음으로 시작된 연애는 마음을 깊고 단단하게 만들어주기도 했다.\\n\\n나는 사랑을 했고, 사랑이 변했고, 사랑이 떠나가는 과정을 여러 번 거쳐가며 이제야 연애라는 단어와 사랑이라는 단어의 정의를 알게 되었다.\\n\\n그 둘은 결이 같다고 한들 다른 감정을 가진다. 연애는 성적인 매력에 이끌려 서로 좋아하여 사귀는 것이고 사랑은 어떤 사람이나 존재를 몹시 아끼고 귀중히 여기는 마음이다.\\n\\n연애가 즐겁고 행복했던 열정의 순간이 있었다. 그것은 시간의 지남에 따라 익숙해졌고, 무뎌졌고, 사라졌다. 며칠 전 현관문을 열고 들어가던 중 외롭다는 감정이 느껴졌고, 연애를 해볼까 했지만 결론은 당장은 아니란 것이었다.\\n\\n내 시간을 소요하고 싶은 누군가가 당장 주변에 있지 않았고, 소개팅을 해야 하나 싶었지만 상대방을 나에게 맞춰 재단하고 따져대는 행동이 불순하고 귀찮아하지 않기로 했다. \\n\\n나는 연애가 하고 싶은 건 아닌 것 같다. 연애보다 사랑이 하고 싶다. 누군가를 몹시 귀하고 아꼈던 지난날의 내가 그리웠다보다. 서로 다른 둘이 만나 사랑이라는 감정으로 서로를 아끼고 귀하게 여겼던 날들을 추억한다. 더 이상 누군가를 그렇게 온전하게 사랑할 수 있을지 의문이 들어 사랑에 대한 마음이 더 애달파졌다.\\n\\n사람은 고쳐 쓰는 게 아니니 잘 맞는 사람을 만나야 한다는 말에 공감한다. 하지만 처음부터 맞는 사람이 어디 쉽게 있을까. 맞지 않은 사람을 사랑해 노력했던 시간도 나에게는 사랑이었다. 노력해도 소용없다는 이유를 붙이고 어차피 헤어지게 될 거란 살을 붙여 사랑에 소극적인 사람이 되었다. \\n\\n용기 없음을 인정하고 싶지 않았지만 결국 용기 없는 사람이 되었다. 누군가를 잃는 슬픔에 태연하지 못한 어른은 연애보다 사랑을 하기를 실행하지 않고 단지 소망했다. \\n\\n나는 연애보다 사랑이 하고 싶어졌다. \\n\\n',\n",
       " 'keyword': ['연애', '사랑', '이별'],\n",
       " 'likes': 107,\n",
       " 'post_date': ' 2021-11-16',\n",
       " 'post_url': 'https://brunch.co.kr/@namhyosu/85',\n",
       " 'author_id': '@namhyosu',\n",
       " 'contradiction': ['휴재', '분갈이', '선셋']}"
      ]
     },
     "execution_count": 267,
     "metadata": {},
     "output_type": "execute_result"
    }
   ],
   "source": [
    "data_list[10008]"
   ]
  },
  {
   "cell_type": "code",
   "execution_count": 268,
   "metadata": {},
   "outputs": [
    {
     "ename": "KeyboardInterrupt",
     "evalue": "",
     "output_type": "error",
     "traceback": [
      "\u001b[0;31m---------------------------------------------------------------------------\u001b[0m",
      "\u001b[0;31mKeyboardInterrupt\u001b[0m                         Traceback (most recent call last)",
      "Cell \u001b[0;32mIn[268], line 3\u001b[0m\n\u001b[1;32m      1\u001b[0m \u001b[38;5;28;01mfor\u001b[39;00m row \u001b[38;5;129;01min\u001b[39;00m data_list:\n\u001b[1;32m      2\u001b[0m     entail_keyword \u001b[38;5;241m=\u001b[39m row[\u001b[38;5;124m'\u001b[39m\u001b[38;5;124mkeyword\u001b[39m\u001b[38;5;124m'\u001b[39m]\n\u001b[0;32m----> 3\u001b[0m     neutral_words \u001b[38;5;241m=\u001b[39m \u001b[43mget_neutral_words\u001b[49m\u001b[43m(\u001b[49m\u001b[43mdata\u001b[49m\u001b[43m,\u001b[49m\u001b[43m \u001b[49m\u001b[43mwords\u001b[49m\u001b[43m,\u001b[49m\u001b[43m \u001b[49m\u001b[43mentail_keyword\u001b[49m\u001b[43m)\u001b[49m\n\u001b[1;32m      4\u001b[0m     row[\u001b[38;5;124m'\u001b[39m\u001b[38;5;124mneutral\u001b[39m\u001b[38;5;124m'\u001b[39m] \u001b[38;5;241m=\u001b[39m neutral_words\n",
      "Cell \u001b[0;32mIn[222], line 5\u001b[0m, in \u001b[0;36mget_neutral_words\u001b[0;34m(data, words, entail_keywords)\u001b[0m\n\u001b[1;32m      3\u001b[0m \u001b[38;5;28;01mwhile\u001b[39;00m \u001b[38;5;28mlen\u001b[39m(neutral_words) \u001b[38;5;241m!=\u001b[39m \u001b[38;5;241m2\u001b[39m:\n\u001b[1;32m      4\u001b[0m     rand_word \u001b[38;5;241m=\u001b[39m get_rand_word(words)   \n\u001b[0;32m----> 5\u001b[0m     cluster \u001b[38;5;241m=\u001b[39m \u001b[43mget_clusters\u001b[49m\u001b[43m(\u001b[49m\u001b[43mdata\u001b[49m\u001b[43m,\u001b[49m\u001b[43m \u001b[49m\u001b[43mrand_word\u001b[49m\u001b[43m)\u001b[49m\n\u001b[1;32m      6\u001b[0m     is_neutral \u001b[38;5;241m=\u001b[39m \u001b[38;5;28;01mTrue\u001b[39;00m\n\u001b[1;32m      7\u001b[0m     \u001b[38;5;28;01mfor\u001b[39;00m keyword \u001b[38;5;129;01min\u001b[39;00m entail_keywords:\n",
      "Cell \u001b[0;32mIn[29], line 5\u001b[0m, in \u001b[0;36mget_clusters\u001b[0;34m(data, word)\u001b[0m\n\u001b[1;32m      1\u001b[0m \u001b[38;5;28;01mdef\u001b[39;00m \u001b[38;5;21mget_clusters\u001b[39m(data, word):\n\u001b[1;32m      3\u001b[0m     clusters \u001b[38;5;241m=\u001b[39m []\n\u001b[0;32m----> 5\u001b[0m     row \u001b[38;5;241m=\u001b[39m data[\u001b[43mdata\u001b[49m\u001b[43m[\u001b[49m\u001b[38;5;124;43m'\u001b[39;49m\u001b[38;5;124;43mkeyword\u001b[39;49m\u001b[38;5;124;43m'\u001b[39;49m\u001b[43m]\u001b[49m\u001b[43m \u001b[49m\u001b[38;5;241;43m==\u001b[39;49m\u001b[43m \u001b[49m\u001b[43mword\u001b[49m]\n\u001b[1;32m      6\u001b[0m     clusters\u001b[38;5;241m.\u001b[39mappend(row[\u001b[38;5;124m'\u001b[39m\u001b[38;5;124mcluster_0\u001b[39m\u001b[38;5;124m'\u001b[39m]\u001b[38;5;241m.\u001b[39mvalues[\u001b[38;5;241m0\u001b[39m])\n\u001b[1;32m      7\u001b[0m     clusters\u001b[38;5;241m.\u001b[39mappend(row[\u001b[38;5;124m'\u001b[39m\u001b[38;5;124mcluster_1\u001b[39m\u001b[38;5;124m'\u001b[39m]\u001b[38;5;241m.\u001b[39mvalues[\u001b[38;5;241m0\u001b[39m])\n",
      "File \u001b[0;32m~/anaconda3/envs/koelectra/lib/python3.9/site-packages/pandas/core/ops/common.py:72\u001b[0m, in \u001b[0;36m_unpack_zerodim_and_defer.<locals>.new_method\u001b[0;34m(self, other)\u001b[0m\n\u001b[1;32m     68\u001b[0m             \u001b[38;5;28;01mreturn\u001b[39;00m \u001b[38;5;28mNotImplemented\u001b[39m\n\u001b[1;32m     70\u001b[0m other \u001b[38;5;241m=\u001b[39m item_from_zerodim(other)\n\u001b[0;32m---> 72\u001b[0m \u001b[38;5;28;01mreturn\u001b[39;00m \u001b[43mmethod\u001b[49m\u001b[43m(\u001b[49m\u001b[38;5;28;43mself\u001b[39;49m\u001b[43m,\u001b[49m\u001b[43m \u001b[49m\u001b[43mother\u001b[49m\u001b[43m)\u001b[49m\n",
      "File \u001b[0;32m~/anaconda3/envs/koelectra/lib/python3.9/site-packages/pandas/core/arraylike.py:42\u001b[0m, in \u001b[0;36mOpsMixin.__eq__\u001b[0;34m(self, other)\u001b[0m\n\u001b[1;32m     40\u001b[0m \u001b[38;5;129m@unpack_zerodim_and_defer\u001b[39m(\u001b[38;5;124m\"\u001b[39m\u001b[38;5;124m__eq__\u001b[39m\u001b[38;5;124m\"\u001b[39m)\n\u001b[1;32m     41\u001b[0m \u001b[38;5;28;01mdef\u001b[39;00m \u001b[38;5;21m__eq__\u001b[39m(\u001b[38;5;28mself\u001b[39m, other):\n\u001b[0;32m---> 42\u001b[0m     \u001b[38;5;28;01mreturn\u001b[39;00m \u001b[38;5;28;43mself\u001b[39;49m\u001b[38;5;241;43m.\u001b[39;49m\u001b[43m_cmp_method\u001b[49m\u001b[43m(\u001b[49m\u001b[43mother\u001b[49m\u001b[43m,\u001b[49m\u001b[43m \u001b[49m\u001b[43moperator\u001b[49m\u001b[38;5;241;43m.\u001b[39;49m\u001b[43meq\u001b[49m\u001b[43m)\u001b[49m\n",
      "File \u001b[0;32m~/anaconda3/envs/koelectra/lib/python3.9/site-packages/pandas/core/series.py:6243\u001b[0m, in \u001b[0;36mSeries._cmp_method\u001b[0;34m(self, other, op)\u001b[0m\n\u001b[1;32m   6240\u001b[0m rvalues \u001b[38;5;241m=\u001b[39m extract_array(other, extract_numpy\u001b[38;5;241m=\u001b[39m\u001b[38;5;28;01mTrue\u001b[39;00m, extract_range\u001b[38;5;241m=\u001b[39m\u001b[38;5;28;01mTrue\u001b[39;00m)\n\u001b[1;32m   6242\u001b[0m \u001b[38;5;28;01mwith\u001b[39;00m np\u001b[38;5;241m.\u001b[39merrstate(\u001b[38;5;28mall\u001b[39m\u001b[38;5;241m=\u001b[39m\u001b[38;5;124m\"\u001b[39m\u001b[38;5;124mignore\u001b[39m\u001b[38;5;124m\"\u001b[39m):\n\u001b[0;32m-> 6243\u001b[0m     res_values \u001b[38;5;241m=\u001b[39m \u001b[43mops\u001b[49m\u001b[38;5;241;43m.\u001b[39;49m\u001b[43mcomparison_op\u001b[49m\u001b[43m(\u001b[49m\u001b[43mlvalues\u001b[49m\u001b[43m,\u001b[49m\u001b[43m \u001b[49m\u001b[43mrvalues\u001b[49m\u001b[43m,\u001b[49m\u001b[43m \u001b[49m\u001b[43mop\u001b[49m\u001b[43m)\u001b[49m\n\u001b[1;32m   6245\u001b[0m \u001b[38;5;28;01mreturn\u001b[39;00m \u001b[38;5;28mself\u001b[39m\u001b[38;5;241m.\u001b[39m_construct_result(res_values, name\u001b[38;5;241m=\u001b[39mres_name)\n",
      "File \u001b[0;32m~/anaconda3/envs/koelectra/lib/python3.9/site-packages/pandas/core/ops/array_ops.py:287\u001b[0m, in \u001b[0;36mcomparison_op\u001b[0;34m(left, right, op)\u001b[0m\n\u001b[1;32m    284\u001b[0m     \u001b[38;5;28;01mreturn\u001b[39;00m invalid_comparison(lvalues, rvalues, op)\n\u001b[1;32m    286\u001b[0m \u001b[38;5;28;01melif\u001b[39;00m is_object_dtype(lvalues\u001b[38;5;241m.\u001b[39mdtype) \u001b[38;5;129;01mor\u001b[39;00m \u001b[38;5;28misinstance\u001b[39m(rvalues, \u001b[38;5;28mstr\u001b[39m):\n\u001b[0;32m--> 287\u001b[0m     res_values \u001b[38;5;241m=\u001b[39m \u001b[43mcomp_method_OBJECT_ARRAY\u001b[49m\u001b[43m(\u001b[49m\u001b[43mop\u001b[49m\u001b[43m,\u001b[49m\u001b[43m \u001b[49m\u001b[43mlvalues\u001b[49m\u001b[43m,\u001b[49m\u001b[43m \u001b[49m\u001b[43mrvalues\u001b[49m\u001b[43m)\u001b[49m\n\u001b[1;32m    289\u001b[0m \u001b[38;5;28;01melse\u001b[39;00m:\n\u001b[1;32m    290\u001b[0m     res_values \u001b[38;5;241m=\u001b[39m _na_arithmetic_op(lvalues, rvalues, op, is_cmp\u001b[38;5;241m=\u001b[39m\u001b[38;5;28;01mTrue\u001b[39;00m)\n",
      "File \u001b[0;32m~/anaconda3/envs/koelectra/lib/python3.9/site-packages/pandas/core/ops/array_ops.py:75\u001b[0m, in \u001b[0;36mcomp_method_OBJECT_ARRAY\u001b[0;34m(op, x, y)\u001b[0m\n\u001b[1;32m     73\u001b[0m     result \u001b[38;5;241m=\u001b[39m libops\u001b[38;5;241m.\u001b[39mvec_compare(x\u001b[38;5;241m.\u001b[39mravel(), y\u001b[38;5;241m.\u001b[39mravel(), op)\n\u001b[1;32m     74\u001b[0m \u001b[38;5;28;01melse\u001b[39;00m:\n\u001b[0;32m---> 75\u001b[0m     result \u001b[38;5;241m=\u001b[39m \u001b[43mlibops\u001b[49m\u001b[38;5;241;43m.\u001b[39;49m\u001b[43mscalar_compare\u001b[49m\u001b[43m(\u001b[49m\u001b[43mx\u001b[49m\u001b[38;5;241;43m.\u001b[39;49m\u001b[43mravel\u001b[49m\u001b[43m(\u001b[49m\u001b[43m)\u001b[49m\u001b[43m,\u001b[49m\u001b[43m \u001b[49m\u001b[43my\u001b[49m\u001b[43m,\u001b[49m\u001b[43m \u001b[49m\u001b[43mop\u001b[49m\u001b[43m)\u001b[49m\n\u001b[1;32m     76\u001b[0m \u001b[38;5;28;01mreturn\u001b[39;00m result\u001b[38;5;241m.\u001b[39mreshape(x\u001b[38;5;241m.\u001b[39mshape)\n",
      "\u001b[0;31mKeyboardInterrupt\u001b[0m: "
     ]
    }
   ],
   "source": [
    "for row in data_list:\n",
    "    entail_keyword = row['keyword']\n",
    "    neutral_words = get_neutral_words(data, words, entail_keyword)\n",
    "    row['neutral'] = neutral_words"
   ]
  },
  {
   "cell_type": "code",
   "execution_count": 272,
   "metadata": {},
   "outputs": [],
   "source": [
    "for row in data_list:\n",
    "    row.pop('neutral', None)"
   ]
  },
  {
   "cell_type": "code",
   "execution_count": 273,
   "metadata": {},
   "outputs": [],
   "source": [
    "aug_data_df = pd.DataFrame(data_list)\n",
    "aug_data_df.to_csv('brunch_keyword_NLI_dataset.csv')"
   ]
  },
  {
   "cell_type": "code",
   "execution_count": 274,
   "metadata": {},
   "outputs": [
    {
     "data": {
      "text/html": [
       "<div>\n",
       "<style scoped>\n",
       "    .dataframe tbody tr th:only-of-type {\n",
       "        vertical-align: middle;\n",
       "    }\n",
       "\n",
       "    .dataframe tbody tr th {\n",
       "        vertical-align: top;\n",
       "    }\n",
       "\n",
       "    .dataframe thead th {\n",
       "        text-align: right;\n",
       "    }\n",
       "</style>\n",
       "<table border=\"1\" class=\"dataframe\">\n",
       "  <thead>\n",
       "    <tr style=\"text-align: right;\">\n",
       "      <th></th>\n",
       "      <th>title</th>\n",
       "      <th>sub_title</th>\n",
       "      <th>body_text</th>\n",
       "      <th>keyword</th>\n",
       "      <th>likes</th>\n",
       "      <th>post_date</th>\n",
       "      <th>post_url</th>\n",
       "      <th>author_id</th>\n",
       "      <th>contradiction</th>\n",
       "    </tr>\n",
       "  </thead>\n",
       "  <tbody>\n",
       "    <tr>\n",
       "      <th>0</th>\n",
       "      <td>구글을 대체할 AI 챗봇 ChatGPT</td>\n",
       "      <td>브런치의 미래</td>\n",
       "      <td>\\n일론머스크와 샘알트만이 설립한 OpenAI에서 ChatGPT이라는 대화형 인공지...</td>\n",
       "      <td>[챗봇, AI, 미래]</td>\n",
       "      <td>76</td>\n",
       "      <td>2023-01-18</td>\n",
       "      <td>https://brunch.co.kr/@jejung/178</td>\n",
       "      <td>@jejung</td>\n",
       "      <td>[선입견, 신뢰관계, 홈스쿨링]</td>\n",
       "    </tr>\n",
       "    <tr>\n",
       "      <th>1</th>\n",
       "      <td>AI 와 예술의 공존, 저작권에 대하여</td>\n",
       "      <td>NaN</td>\n",
       "      <td>\\nAI 기술이 나날이 발전을 더하며 그동안 산업계에서 주로 활용되었던 기술이 이제...</td>\n",
       "      <td>[AI, 예술, NFT]</td>\n",
       "      <td>75</td>\n",
       "      <td>2023-01-04</td>\n",
       "      <td>https://brunch.co.kr/@jejung/176</td>\n",
       "      <td>@jejung</td>\n",
       "      <td>[영화관, 시계, 노예]</td>\n",
       "    </tr>\n",
       "    <tr>\n",
       "      <th>2</th>\n",
       "      <td>AI가 자동으로 콘텐츠를 써주는 서비스의 성능은?</td>\n",
       "      <td>AI 기반의 카피라이터, '뤼튼' 서비스를 써보았다.</td>\n",
       "      <td>\\n\\n매일 뭐라도 올리려고 소재를 찾다가, 눈에 띄는 문구가 하나 있었다. 이미 ...</td>\n",
       "      <td>[카피라이터, AI, 콘텐츠]</td>\n",
       "      <td>52</td>\n",
       "      <td>2022-11-09</td>\n",
       "      <td>https://brunch.co.kr/@paulie/264</td>\n",
       "      <td>@paulie</td>\n",
       "      <td>[쌩얼, 화법, 가족영화]</td>\n",
       "    </tr>\n",
       "    <tr>\n",
       "      <th>3</th>\n",
       "      <td>AI가 만들어준 찰스 1세와 헨리에타 마리아입니다;;;</td>\n",
       "      <td>(22)책 출간: ai그림 만들기</td>\n",
       "      <td>\\n오늘 획기적인 사이트를 하나 알고 들어가 봤습니다.\\n\\nhttps://nove...</td>\n",
       "      <td>[텀블벅, AI, 독립출판물]</td>\n",
       "      <td>64</td>\n",
       "      <td>2022-10-13</td>\n",
       "      <td>https://brunch.co.kr/@f635a2b84449453/143</td>\n",
       "      <td>@f635a2b84449453</td>\n",
       "      <td>[아트소믈리에, 기준금리, 보리밥]</td>\n",
       "    </tr>\n",
       "    <tr>\n",
       "      <th>4</th>\n",
       "      <td>브런치북이 클래스101 AI VOD로 재탄생했습니다</td>\n",
       "      <td>브런치북 AI 클래스 프로젝트 수상작 AI VOD 론칭</td>\n",
       "      <td>\\n브런치북이 전자책, 오디오북에 이어 또 한 번의 변신을 거듭합니다. 브런치북 A...</td>\n",
       "      <td>[브런치북, 클래스, AI]</td>\n",
       "      <td>217</td>\n",
       "      <td>2022-10-05</td>\n",
       "      <td>https://brunch.co.kr/@brunch/313</td>\n",
       "      <td>@brunch</td>\n",
       "      <td>[도서관, 기차, MVP]</td>\n",
       "    </tr>\n",
       "    <tr>\n",
       "      <th>...</th>\n",
       "      <td>...</td>\n",
       "      <td>...</td>\n",
       "      <td>...</td>\n",
       "      <td>...</td>\n",
       "      <td>...</td>\n",
       "      <td>...</td>\n",
       "      <td>...</td>\n",
       "      <td>...</td>\n",
       "      <td>...</td>\n",
       "    </tr>\n",
       "    <tr>\n",
       "      <th>23307</th>\n",
       "      <td>업무 인수인계 잘하기</td>\n",
       "      <td>릴레이에서 바톤을 놓친다면</td>\n",
       "      <td>\\n좋은 직장과 안 좋은 직장을 알 수 있는 기준은 참 많지만, 하나를 골라보라면 ...</td>\n",
       "      <td>[업무, 조직, 회사]</td>\n",
       "      <td>55</td>\n",
       "      <td>2016-03-08</td>\n",
       "      <td>https://brunch.co.kr/@lunarshore/37</td>\n",
       "      <td>@lunarshore</td>\n",
       "      <td>[민음사, 티켓팅, 카이사르]</td>\n",
       "    </tr>\n",
       "    <tr>\n",
       "      <th>23308</th>\n",
       "      <td>면접자는 모르는 대기업, 중소기업, 외국계 기업의 특징</td>\n",
       "      <td>당신의 미래를 시작할 곳은 어디인가요</td>\n",
       "      <td>\\n** 이 문서는 2017년 기준으로 개정된 문서입니다\\n** 유튜브 채널의 좋아...</td>\n",
       "      <td>[면접, 인재, 회사]</td>\n",
       "      <td>118</td>\n",
       "      <td>2016-03-04</td>\n",
       "      <td>https://brunch.co.kr/@hdyoon/3</td>\n",
       "      <td>@hdyoon</td>\n",
       "      <td>[서울역, 안마기, 콘텐츠기획자]</td>\n",
       "    </tr>\n",
       "    <tr>\n",
       "      <th>23309</th>\n",
       "      <td>남들이 피하는 일을 선택하라</td>\n",
       "      <td>돌파구 노트</td>\n",
       "      <td>\\n\\n본인에게 일의 선택권이 주어진다면 어떤 업무를 선택하겠는가? 대부분의 사람들...</td>\n",
       "      <td>[회사, 도전, 일]</td>\n",
       "      <td>83</td>\n",
       "      <td>2016-01-17</td>\n",
       "      <td>https://brunch.co.kr/@breakthrough/26</td>\n",
       "      <td>@breakthrough</td>\n",
       "      <td>[넷플릭스_스토리텔러, 상대방, 환율]</td>\n",
       "    </tr>\n",
       "    <tr>\n",
       "      <th>23310</th>\n",
       "      <td>일 잘하는 법</td>\n",
       "      <td>돌파구 노트</td>\n",
       "      <td>\\n일을 잘한다는 의미는 무엇일까? 간단히 이야기하면 주어진 시간 안에 업무 목표를...</td>\n",
       "      <td>[일, 회사, 평가]</td>\n",
       "      <td>91</td>\n",
       "      <td>2016-01-13</td>\n",
       "      <td>https://brunch.co.kr/@breakthrough/25</td>\n",
       "      <td>@breakthrough</td>\n",
       "      <td>[kbs아나운서, 생선, 브랜드전략]</td>\n",
       "    </tr>\n",
       "    <tr>\n",
       "      <th>23311</th>\n",
       "      <td>리더의 에티켓</td>\n",
       "      <td>돌파구 노트</td>\n",
       "      <td>\\n\\n현재 함께 일하고 있는 상사에 대해서 어떻게 생각하는가? 아마도 상사의 장점...</td>\n",
       "      <td>[리더, 에티켓, 회사]</td>\n",
       "      <td>83</td>\n",
       "      <td>2015-11-09</td>\n",
       "      <td>https://brunch.co.kr/@breakthrough/11</td>\n",
       "      <td>@breakthrough</td>\n",
       "      <td>[연애편지, 체험, 동백]</td>\n",
       "    </tr>\n",
       "  </tbody>\n",
       "</table>\n",
       "<p>23312 rows × 9 columns</p>\n",
       "</div>"
      ],
      "text/plain": [
       "                                title                       sub_title  \\\n",
       "0               구글을 대체할 AI 챗봇 ChatGPT                        브런치의 미래    \n",
       "1               AI 와 예술의 공존, 저작권에 대하여                             NaN   \n",
       "2         AI가 자동으로 콘텐츠를 써주는 서비스의 성능은?  AI 기반의 카피라이터, '뤼튼' 서비스를 써보았다.    \n",
       "3      AI가 만들어준 찰스 1세와 헨리에타 마리아입니다;;;              (22)책 출간: ai그림 만들기   \n",
       "4        브런치북이 클래스101 AI VOD로 재탄생했습니다  브런치북 AI 클래스 프로젝트 수상작 AI VOD 론칭   \n",
       "...                               ...                             ...   \n",
       "23307                     업무 인수인계 잘하기                  릴레이에서 바톤을 놓친다면   \n",
       "23308  면접자는 모르는 대기업, 중소기업, 외국계 기업의 특징            당신의 미래를 시작할 곳은 어디인가요   \n",
       "23309                 남들이 피하는 일을 선택하라                          돌파구 노트   \n",
       "23310                         일 잘하는 법                          돌파구 노트   \n",
       "23311                         리더의 에티켓                          돌파구 노트   \n",
       "\n",
       "                                               body_text           keyword  \\\n",
       "0      \\n일론머스크와 샘알트만이 설립한 OpenAI에서 ChatGPT이라는 대화형 인공지...      [챗봇, AI, 미래]   \n",
       "1      \\nAI 기술이 나날이 발전을 더하며 그동안 산업계에서 주로 활용되었던 기술이 이제...     [AI, 예술, NFT]   \n",
       "2      \\n\\n매일 뭐라도 올리려고 소재를 찾다가, 눈에 띄는 문구가 하나 있었다. 이미 ...  [카피라이터, AI, 콘텐츠]   \n",
       "3      \\n오늘 획기적인 사이트를 하나 알고 들어가 봤습니다.\\n\\nhttps://nove...  [텀블벅, AI, 독립출판물]   \n",
       "4      \\n브런치북이 전자책, 오디오북에 이어 또 한 번의 변신을 거듭합니다. 브런치북 A...   [브런치북, 클래스, AI]   \n",
       "...                                                  ...               ...   \n",
       "23307  \\n좋은 직장과 안 좋은 직장을 알 수 있는 기준은 참 많지만, 하나를 골라보라면 ...      [업무, 조직, 회사]   \n",
       "23308  \\n** 이 문서는 2017년 기준으로 개정된 문서입니다\\n** 유튜브 채널의 좋아...      [면접, 인재, 회사]   \n",
       "23309  \\n\\n본인에게 일의 선택권이 주어진다면 어떤 업무를 선택하겠는가? 대부분의 사람들...       [회사, 도전, 일]   \n",
       "23310  \\n일을 잘한다는 의미는 무엇일까? 간단히 이야기하면 주어진 시간 안에 업무 목표를...       [일, 회사, 평가]   \n",
       "23311  \\n\\n현재 함께 일하고 있는 상사에 대해서 어떻게 생각하는가? 아마도 상사의 장점...     [리더, 에티켓, 회사]   \n",
       "\n",
       "       likes    post_date                                   post_url  \\\n",
       "0         76   2023-01-18           https://brunch.co.kr/@jejung/178   \n",
       "1         75   2023-01-04           https://brunch.co.kr/@jejung/176   \n",
       "2         52   2022-11-09           https://brunch.co.kr/@paulie/264   \n",
       "3         64   2022-10-13  https://brunch.co.kr/@f635a2b84449453/143   \n",
       "4        217   2022-10-05           https://brunch.co.kr/@brunch/313   \n",
       "...      ...          ...                                        ...   \n",
       "23307     55   2016-03-08        https://brunch.co.kr/@lunarshore/37   \n",
       "23308    118   2016-03-04             https://brunch.co.kr/@hdyoon/3   \n",
       "23309     83   2016-01-17      https://brunch.co.kr/@breakthrough/26   \n",
       "23310     91   2016-01-13      https://brunch.co.kr/@breakthrough/25   \n",
       "23311     83   2015-11-09      https://brunch.co.kr/@breakthrough/11   \n",
       "\n",
       "              author_id          contradiction  \n",
       "0               @jejung      [선입견, 신뢰관계, 홈스쿨링]  \n",
       "1               @jejung          [영화관, 시계, 노예]  \n",
       "2               @paulie         [쌩얼, 화법, 가족영화]  \n",
       "3      @f635a2b84449453    [아트소믈리에, 기준금리, 보리밥]  \n",
       "4               @brunch         [도서관, 기차, MVP]  \n",
       "...                 ...                    ...  \n",
       "23307       @lunarshore       [민음사, 티켓팅, 카이사르]  \n",
       "23308           @hdyoon     [서울역, 안마기, 콘텐츠기획자]  \n",
       "23309     @breakthrough  [넷플릭스_스토리텔러, 상대방, 환율]  \n",
       "23310     @breakthrough   [kbs아나운서, 생선, 브랜드전략]  \n",
       "23311     @breakthrough         [연애편지, 체험, 동백]  \n",
       "\n",
       "[23312 rows x 9 columns]"
      ]
     },
     "execution_count": 274,
     "metadata": {},
     "output_type": "execute_result"
    }
   ],
   "source": [
    "aug_data_df"
   ]
  },
  {
   "cell_type": "markdown",
   "metadata": {},
   "source": [
    "### contradiction title 추가하기"
   ]
  },
  {
   "cell_type": "code",
   "execution_count": 275,
   "metadata": {},
   "outputs": [],
   "source": [
    "title_list = aug_data_df['title'].to_list()"
   ]
  },
  {
   "cell_type": "code",
   "execution_count": 276,
   "metadata": {},
   "outputs": [
    {
     "data": {
      "text/plain": [
       "['구글을 대체할 AI 챗봇 ChatGPT',\n",
       " 'AI 와 예술의 공존, 저작권에 대하여',\n",
       " 'AI가 자동으로 콘텐츠를 써주는 서비스의 성능은?',\n",
       " 'AI가 만들어준 찰스 1세와 헨리에타 마리아입니다;;;',\n",
       " '브런치북이 클래스101 AI VOD로 재탄생했습니다',\n",
       " '여행',\n",
       " '브런치북 AI 클래스 프로젝트 수상작을 소개합니다',\n",
       " '[예고] 클래스101, 브런치북 AI 클래스 프로젝트',\n",
       " '인공지능과의 전쟁',\n",
       " '인공지능은 인간과 사랑을 나눌 수 있을까']"
      ]
     },
     "execution_count": 276,
     "metadata": {},
     "output_type": "execute_result"
    }
   ],
   "source": [
    "title_list[:10]"
   ]
  },
  {
   "cell_type": "code",
   "execution_count": 277,
   "metadata": {},
   "outputs": [],
   "source": [
    "import random\n",
    "\n",
    "for row in data_list:\n",
    "    while True:\n",
    "        max_idx = len(data_list) - 1\n",
    "        rand_idx = random.randint(0, max_idx)\n",
    "        if row['title'] != title_list[rand_idx]:\n",
    "            row['contradiction_title']  = title_list[rand_idx]\n",
    "            break"
   ]
  },
  {
   "cell_type": "code",
   "execution_count": 278,
   "metadata": {},
   "outputs": [
    {
     "data": {
      "text/plain": [
       "{'title': '프로덕트 역기획 : 틱톡의 추천 알고리즘',\n",
       " 'sub_title': nan,\n",
       " 'body_text': '\\n이번 프로덕트 역기획 포스트를 작성하기 위해서 말로만 듣던 틱톡을 늦게서야 설치하고 사용해 보았는데, 사용 소감은 이렇다. \\'진작 써봤으면 큰일 날 뻔했다.\\' 사실 틱톡은 프라이버시 문제로 설치를 꺼리던 앱이었는데, 막상 인스톨을 하고 사용해보니 무슨.. 이런 개미지옥 같은 앱이 다 있나 싶었다. 선호도 정보를 제공한 건 앱 사용 전 관심 주제 확인이 전부였음에도 어떻게 이렇게 재밌는 영상만 쏙쏙 골라 보여줄 수 있는지. 거기다 피드는 내려도 내려도 끝이 없었다. 인스타그램의 무한 스크롤 피드처럼 로딩이 발생되는 것도 아니었다. 농담이 아니라 브레이크도 없이 혼자 피식거리며 15~20분 정도를 피드 감상으로만 보낸 것 같다. 인스타그램을 쓸 때도 스크린 타임 기능은 써본 적이 없었는데, 틱톡은 필수로 제한해 놔야만 할 것 같다는 위기감이 생길 정도였으니.. 말 다했지, 뭐. \\n\\n틱톡은 이미 잘 알려진 바와 같이 15초~1분 이내의 짧은 영상을 제작, 공유할 수 있는 소셜 네트워크 서비스이다. 한국에서는 아무 노래 챌린지로도 잘 알려져 있고, 미국 및 일본 등지에서도 10대들 사이에서 많은 인기를 끌고 있다. 비교적 짧은 시간 내 급성장한 서비스로 중국과 글로벌 서비스의 월간 사용자 수가 15억 명에 달할 정도라 하니 그 인기를 짐작할 만하다. 놀랍게도 틱톡이라는 서비스가 출시된 지는 약 4년 정도밖에 되지 않았다. 틱톡은 어떻게 단기간 내 이렇게 많은 사용자를 끌어모을 수 있었을까? 그리고 어떤 방식으로 돈을 벌고 있을까?\\n\\n틱톡의 비즈니스 모델은?\\n\\n틱톡은 주로 광고와 인앱 구매로 돈을 벌고 있기 때문에 최대한 많은 사용자들을 유입시키고 그들의 체류 시간을 늘리는 것을 목표로 삼고 있다. 전 세계의 10대들 사이에서 무섭게 유행으로 번진 앱이기는 하지만, 구매력이 부족한 미성년자를 유료 고객으로 전환시키는 것은 어려운 과제였다. 그런 사정으로 틱톡은 인앱 결제가 가능한 성인층으로 주 고객층의 범위를 넓히기 위해 노력 중인 것으로 보인다. 서비스의 공동 창업자는 인터뷰에서 \"틱톡을 통해 전 세계 사용자들의 창의력과 지식을 포착하고, 모두에게 인생 매 순간의 소중함을 다시금 일깨워주고 싶다\"라고 전한 바가 있다. 이러한 사업 목표와 미션을 달성하기 위해 다양한 방식으로 가설을 시험해온 틱톡은 어떻게 그 많은 사용자들을 유입시키고 그들의 체류 시간을 늘렸을까? 그리고 어떤 수익들을 낼 수 있었을까? \\n\\n1. 라이브 스트리밍\\n틱톡은 크리에이터-팬 간의 활발한 소통을 위해 라이브 스트리밍 기능을 지원하고 있다. 라이브 방송을 진행하는 동안 그들의 팬(팔로워)들은 크리에이터에게 코인을 보낼 수 있는데, 창작자들은 그 코인을 기프트로 교환할 수 있다. 인앱 결제는 대표적인 틱톡의 수익 모델 중 하나이며, 그들의 고객인 크리에이터들이 수익을 내는 방안이기도 한 동시에 팬과 크리에이터들의 상호 작용을 돕는 창구 역할도 하고 있다. 동전은 100개(99센트, 1200원)부터 1만 개(99.99달러, 12만 원)까지 묶어서 구입할 수 있고 수익 배분율은 아직 명확하게 밝혀진 바가 없다.\\n\\n2. 틱톡 포 비즈니스 : 전자 상거래(Sponsorship)와 Shop now\\n최근 청바지 브랜드의 조상님 급으로 잘 알려져 있는 리바이스가 틱톡 인플루언서들과 함께 유료 프로모션을 진행했다. 결과적으로 두 배가 넘는 트래픽이라는 성과를 거두며 성공적으로 마무리되었다. 국내에서도 SK텔레콤, 농심, 재능교육 등 다양한 기업들이 인플루언서들과의 협업(해시태그 챌린지)를 통해 콘텐츠 조회수를 높이고 있는데 이는 바이럴 해시태그를 이용해 광고(콘텐츠)를 최적화된 사용자들에게 매칭시키고 직접 참여를 유도하는 방식에 가깝다. 브랜드들은 인플루언서들의 영향력과 바이럴 해시태그, 그리고 이커머스 사이트로 바로 연결되는 Shop now라는 전체적인 features flow를 적극 활용함으로써 유의미한 결과를 거둘 수 있었던 것. 자세한 내용은 알고리즘 부분에서 이어진다.\\n\\n아직까지 시험 중인 수익 모델 중 하나이며, 틱톡 포 비즈니스의 리뉴얼로 광고주는 앱의 가장 첫 화면을 광고 페이지로 활용할 수 있게 됐다. 회사의 규모와는 관계없이 광고를 걸 수 있도록 광고주들을 대상으로 크레딧을 제공하고 있으며, TCM(TikTok Creator Marketplace)은 크리에이터와 브랜드 간의 효율적인 협업과 매칭을 위해 다양한 지원을 아끼지 않고 있다.\\n\\n3. Link in bio\\n틱톡커들은 유튜버들만큼 돈을 벌고 있을까? 틱톡은 유튜브와는 다르게 크리에이터의 수익 모델이 명확하지 않은 편이다. 링크 인 바이오와 같은 기능은 크리에이터들을 서비스에 잡아두기 위한 전략으로 보인다. 크리에이터들이 본인의 프로필 또는 게시물에 쇼핑몰 링크를 직접 걸어둘 수 있는 기능인데, 인스타그램의 \\'link in bio\\'가 이 기능의 시초다. 유저들이 해당 링크를 타고 제품을 구매할 시 부과되는 수수료가 있는 것으로 보이나, 이 기능 역시 일부 계정에 한해 실험 중인 것으로 보이며 수수료 정책을 검색해 보았지만 관련 내용은 발견하지 못했다.\\n\\n4. 분리된 비즈니스 모델\\n틱톡의 모기업인 중국의 바이트댄스는 자사 보유 앱(뉴스, 음악, 게임 등)을 글로벌 버전으로 복제하여 런칭하는 전략을 구사하고 있다. 그 대표적인 예가 틱톡인데, 중국 버전이 더우인이라면 글로벌 버전은 틱톡이다. 두 앱에서 사용자에게 제공하는 기능은 동일하지만, 콘텐츠 방화벽(검열) 기능의 차로 크리에이터들의 팔로워 수가 달라지는 현상이 발생되곤 한다. \\n\\n\\n위와 같은 방식으로 수익을 내기 위해서는 틱톡은 사용자들을 최대한 많이 유입시키고 고객들의 앱 체류시간을 늘려야 했다. 활성 사용자 수가 적은 서비스에 광고를 걸고 싶어 하는 광고주는 없다. 크리에이터들은 유명 브랜드와 협업을 위해 많은 수의 팔로워를 모아야했다. 틱톡은 기업 미션에 대한 방향성을 잃지 않으면서 사업적인 목표까지 달성해야 했는데, 그러기 위해서는 먼저 이 서비스가 어떻게 굴러가는 서비스인지 파악해 봐야 할 필요성이 있었다.\\n\\n틱톡을 이용하는 고객들의 핵심 행동을 놓고 보면 영상을 \\'만들고\\', \\'보는 것\\'에 초점이 맞춰져 있다. 좋은 사용자 경험을 위해서는 유저들이 최대한 즐겁게 영상을 제작하고 감상할 수 있어야 했다. 또한 광고와 같은 프로모션 콘텐츠들은 홍보하고자 하는 콘텐츠와 관련이 있는 사용자들에게 가닿을 수 있어야 했다. 틱톡의 모기업인 바이트댄스는 중국 내에서도 독보적인 AI기술을 보유한 IT기업으로 알려져있다. 대표적인 예시로 틱톡 외에도 뉴스, 광고 영역에서 자사의 알고리즘 방식을 서비스에 적용하고 있다. 무엇보다 사용자에게 최적화된 콘텐츠를 추천하는 것이 아니라 콘텐츠에 최적화된 사용자를 찾아내는 알고리즘을 적용하고 있다는 점이 다소 특이하다. (실제로 틱톡은 바이트댄스에서 제공하고 있는 인공지능 기반 맞춤형 뉴스 추천 서비스인 진르터우탸오의 알고리즘을 벤치마킹했다고 알려져있다.) \\n\\n바이트댄스는 2018년, 뮤지컬리라는 동영상 공유 SNS 앱을 인수한 뒤 빠른 성장세를 보였다. 동영상과 음악을 함께 공유할 수 있는 형태의 서비스였던 뮤지컬리와 통합된 틱톡은 사용자의 앱 체류 시간 및 콘텐츠 재생 횟수를 늘리기 위해서 For You 피드를 통해 사용자의 선호도 정보와 시청 성향에 맞춰 개인화된 추천 영상을 제공했다. 인공지능을 기반으로 사용자가 관심 가질 콘텐츠를 미리 예측해 사용자에게 최적화해 신속하게 알려주는 딥러닝 학습방식이다. 이러한 큐레이션은 내려도 내려도 끝이 없는 무한 스크롤 피드와 만나 더 큰 시너지를 냈다. (추천이 정확하지 않다면 오히려 반감을 살 수도 있는 대목이다.) \\n\\n틱톡은 이에 그치지 않고 다양한 배경 효과와 필터를 제공하며 크리에이터들이 더 기발한 영상을 만들 수 있도록 편집 기능을 개선했다. 또한 크리에이터-팬 간의 활발한 상호작용이 가능하도록 라이브 스트리밍과 같은 창구를 마련하는 등 단순히 사용자의 편의뿐만 아니라 수익성 측면에서도 고려한 흔적이 보인다.\\n\\n\\n기술 : 틱톡의 개인화 피드 구현\\n\\n틱톡은 사용자의 앱 이용시간과 콘텐츠 체류 시간을 늘리기 위해 개인화된 인피니트 스크롤 피드를 제공하고 있다. 여기서 틱톡이 생각한 개인화는 무엇이며 어떠한 데이터를 기반으로 구현되었는지 몇몇 아티클을 참고하여 작성해 보았다. 들어가기에 앞서, 틱톡은 자사의 핵심 알고리즘을 기술 커뮤니티에도 공개하지 않고 있다. 아래 내용은 구글링을 통해 찾아낸 자료들을 통해 정리된 글임을 강조한다.\\n\\n틱톡을 사용해본 적 없는 사람이라도 개인화된 피드 하면 어느 정도 추측해봄직한 사항들이 있다. 사용자인 내가 직접 앱에 제공한 데이터 정보를 기반으로 나의 취향에 맞는 콘텐츠를 추천받는 형식은 이미 낯설지 않다. 대표적인 선례로 유튜브와 넷플릭스가 있기 때문. 꼭 동영상 스트리밍 서비스가 아니더라도 자주 쓰는 인스타그램 역시 이에 해당된다. (인스타그램의 탐색 피드는 사용자가 자주 보는 게시글을 분석해 실시간으로 반영된다.)\\n\\n틱톡은 높은 완성도의 개인화된 피드 구축을 위해 머신러닝과 AI 기술을 적극 활용하고 있다. 위에서 언급한 바와 같이 인스타그램과 같은 요즘의 소셜 미디어는 사용자들이 제공하는 유저 데이터를 축적/가공해 머신러닝 알고리즘에 적용하고 있으며, 이를 통해 콘텐츠 피드를 사용자 취향에 맞게 제공하고 또다시 피드백(반복 학습)의 과정을 거쳐 추천의 정확성을 높였다. \\n\\n\\n결국 이러한 머신 러닝과 AI 기술의 활용도 결국 사용자들이 가장 흥미롭다고 생각하는 콘텐츠를 발견할 수 있게끔, 창작자들이 일상의 중요한 순간을 전 세계 사용자들에게 공유할 수 있게 하기 위함임을 잊지 말아야 한다. 그렇다면 틱톡은 어떤 데이터들을 기반으로 하여 콘텐츠 추천 알고리즘을 적용하고 있을지 알아보았다.\\n\\n1) 사용자의 행동 데이터 및 프로파일 지표\\n첫 번째는 유저의 행동 데이터와 사용자 프로파일이다. 틱톡이 수집하는 데이터는 크게 세 가지로 나눠볼 수 있는데, 임의 경로를 통해 수집된 각각의 데이터들은 틱톡의 추천 엔진에 추가된다. \\n\\n1-1. 콘텐츠 데이터 \\n각 콘텐츠마다의 고유한 특성을 수집. 신뢰도 높은 추천을 위해 시스템이 콘텐츠를 유형별로 식별하고 구별하는 것이 선행되어야 함.\\n\\n1-2. 사용자 데이터\\n사용자의 관심 분야, 나이, 성별, 인구 통계 등의 내용. 또한 ML 기반 고객 클러스터링의 잠재 기능도 포함된다. 추가적으로 사용자와 콘텐츠 간의 상호작용에서 발생하는 이벤트 역시 데이터 지표로 삼고 있는데, 해당 점수표를 기반으로 콘텐츠가 평균치 이상의 점수를 획득한다면 더 많은 사용자들에게 노출될 확률이 높아진다. 하지만 이런 상호작용을 기반으로 측정된 데이터는 사용자들이 선호도를 적극적으로 표시하지 않는다는 이유로 다른 데이터들에 비해 낮은 가중치를 받는다.\\n\\n\\nRewatch rate = 10 Points\\nCompletion rate = 8 Points\\nShares = 6 Points\\nComments = 4 Points\\nLikes = 2 Points\\n\\n1-3. 시나리오 데이터\\n다양한 상황을 기반으로 한 사용 시나리오와 유저 선호도 정보를 추적. (i.e 사용자가 출퇴근 시 보고 싶어 하는 동영상 유형 등)\\n\\n추천 엔진에 추가된 데이터들은 정확도 높은 콘텐츠 매칭을 위한 머신러닝에 활용되는데, 학습되는 기능은 아래와 같다.\\n\\n\\n2) 알고리즘\\n\\n틱톡은 크게 추천 알고리즘, 콘텐츠 분류 알고리즘, 사용자 프로파일링 알고리즘을 훈련하고 있는 것으로 추측된다. 그중에서도 콘텐츠 분석에는 계층적 분류 알고리즘을 적용하고 있는 것으로 보이는데 이는 군집분석과도 연결이 된다.\\n\\n\\n\\n1-1. 콘텐츠 분류 알고리즘 : 계층적 분류 알고리즘\\n\\n군집분석은 입력된 데이터들의 값을 파악하여 비슷한 성질을 지닌 데이터들끼리 특정 군집으로 묶어주는 분석 방법으로, 분석 대상을 그루핑 하여 특징 지음으로써 집단을 일반화하여 이해하는 데 도움을 주는 방법이기도 하다. 여기서 틱톡의 콘텐츠 분류에 적용된 것으로 보이는 계층적 분류 알고리즘은 하나의 cluster가 다른 cluster를 포함할 수 있는 구조이며 데이터를 계층적으로 군집화한 것을 뜻한다. 예를 들어 \"BTS\" 클러스터는 \"K-Pop\" 클러스터에 포함될 수 있는 것.\\n\\n틱톡은 콘텐츠 분류를 위해 DNN(심층신경망, Deep Neural Network)와 CNN(합성곱신경망, Convolution Neural Network), SVM(서포트 벡터 머신) 등의 모델을 계층별로 다르게 사용하고 있는 것으로 보인다.\\n\\n\\n\\n1-2. A Deep Learning Approach : 컴퓨터 비전 기술(Computer Vision Tasks)\\n\\n물론 콘텐츠는 해쉬태그, 키워드, 메타 데이터 등으로 분류될 수도 있지만 컴퓨터 비전 기술을 활용하여 훨씬 정교하게 분석될 수도 있다. 컴퓨터 비전 기술은 ‘컴퓨터가 인간과 같은 방식으로 이미지와 비디오에서 물체를 식별하고 처리할 수 있도록’ 하는 데 초점이 맞춰져 있으며, 신경망을 활용하여 라벨이 붙은 데이터를 시스템에 공급하여 패턴을 식별하고 향후 사용을 위해 분류할 수 있는 딥러닝 접근법이다. 틱톡은 주로 얼굴 특징 탐지를 사용하여 영상 속 사용자를 분류하고 있으며, 사람이 아닌 물체 역시 인식한다. 영상의 모든 부분을 읽고 맥락에 따라 카테고리를 분류하여 동영상을 평가한다. 영상 속 객체를 탐지하는 방식은 위와 같다. \\n\\n1-3. 자연어 처리(Natural Language Processing)\\n\\nNLP는 인간 언어를 이해하고 해석하는 기계 학습을 포함한다. 제공된 텍스트를 가져 와서 단어 뒤에 있는 의미를 추출하고 데이터를 수집하기 위한 분석 기법이다. 구성 요소를 살펴보면 아래와 같다.\\n\\n예시 “Lovely cat drives a car”\\n\\n관사(DET) : a\\n명사 : cat | car\\n명사구 (NP) : 관사 + 명사 | 관사 + 형용사 + 명사\\n동사 : drives | driving | drove\\n동사구 (VP) : NP V | V NP\\n형용사 (ADJ) : Lovely\\n\\n컴퓨터는 위의 구문을 분석해 이해할 수 있는 방식으로 문장을 재구성해 구문 분석 트리를 작성한다. 이는 단순히 문장의 구조만을 분석하는 것이 아니라 단어와 단어가 결합되는 방식의 유사점을 매핑하는 것에 가깝다. 객체(car=b1)마다의 추론을 생성하고 연관성을 할당하는 작업으로 이해하면 될 듯하다.\\n\\n\\n\\n3) 추천 알고리즘 : 콘텐츠 추천 적용되는 훈련 메커니즘\\n\\n틱톡은 사용자의 행동에 대한 피드백을 즉시 다음 피드에 반영한다. 예를 들어, 사용자가 새 동영상에 좋아요를 누르면 그 작업을 기반으로 다음에 보일 피드가 빠르게 변경되는 식. 틱톡은 Storm Cluster를 통해 다양한 사용자 액션의 샘플 데이터를 실시간으로 처리하고 있다. 이러한 훈련 메커니즘은 추천 피드를 사용자의 행동(클릭, 좋아요, 댓글 등)을 포착해 즉각적으로 추천 콘텐츠를 업데이트함에 있어서 용이하다. \\n\\n\\n콘텐츠 추천 메커니즘은 5단계로 요약이 가능하다.  \\n\\n1. 온라인 서버가 실시간 데이터 캡처를 하고, 이를 Kafka(실시간 데이터 피드를 관리하기 위한 아파치사의 플랫폼)에 공급한다.\\n2. Storm 클러스터는 Kafka 및 제품 기능에서 제공되는 데이터를 사용한다.\\n3. 기능 저장소는 업데이트된 기능 및 추천 레이블을 수집하여 새로운 훈련 메커니즘을 구성한다.\\n4. 온라인 훈련 파이프라인은 모델 매개 변수를 재훈련하고 이를 기능 저장소에도 동일하게 적용한다. \\n5. 사용자가 추천 목록을 업데이트 한 다음 새로운 피드백을 기록한다. 주요 초점은 사용자의 활동에 있으며 전체 정보를 재순환시킨다.\\n\\nWide & Deep Learning for Recommender System\\n\\n2016년, 구글은 알고리즘 기술을 Deep Learning의 관점에서 기술한 Wide & Deep Learning for Recommender Systems을 발표했다. 해당 알고리즘은 틱톡에 적용된 알고리즘과 유사하다는 평가를 받고 있어 본문에 추가했다. 이 알고리즘은 구글 플레이 앱스토어의 app-ranking system에 반영되어 있다.\\n\\n\\nRecommender system의 overview를 살펴보면 이렇다. \\n\\n-문맥적 Features를 포함할 수 있는 쿼리는 유저가 앱 스토어를 방문할 때 발생함.\\n-추천 시스템은 유저가 클릭 또는 구매 같은 특정한 액션을 수행할 수 있는 결과물(콘텐츠)를 반환함.\\n-유저 액션들은 학습기의 훈련 데이터로써 로그에 기록됨.\\n-후보 집합을 감소시킨 후에, 랭킹 (Ranking) 시스템은 모든 아이템 점수를 가지고 등급을 매김.\\n-점수는 보통 P(y|x)P(y|x) 로 나타내며, 유저 Features (ex. 국가, 언어, 인구통계), 상황별 (Contextual) Features (ex. 기기, 하루의 시간, 요일) 및 Impression Features (앱 연령, 앱의 과거 통계) 을 포함하여 Feature xx 에 주어진 유저 액션 레이블 yy 의 확률임.\\n\\n즉, 추천될 데이터가 너무 많으니 후보 집합을 뽑고 랭킹을 매기는 시스템인 것. Youtube의 추천 시스템도 이와 비슷한 recommender system이 적용되어 있다.\\n\\n\\n\\n\\nWide 모델은 앞서 말했듯 저장(Memorization)에 특화되어 있다. 사용자가 실행한 액션에 대한 상관관계를 기억하고 찾는 역할을 하는데 다소 평이한 추천만 가능하다는 단점이 있다.\\n\\n이를 보완할 수 있는 모델이 Deep 모델인데, wide 모델과는 달리 feature engineering을 통해 추천의 다양성을 확보할 수 있는 것이 장점이다. 단, 사용자와의 상호작용이 지나치게 많거나 복잡한 경우에 엉뚱한 콘텐츠를 추천할 수도 있다는 점이 단점이다.\\n\\nWide and deep 모델은 기억에 특화된 wide model과 일반화에 특화된 deep model을 결합한 형태의 모델이다. Wide 선형 모델과 deep feed-forward 신경망을 함께 학습하기 위한 것으로, 이 접근법은 저장법과 일반화의 강점을 조합한 것이다. 즉, sparse 입력 feature들을(즉, 많은 수의 가능한 특징값을 가진 분류적 특징) 포함하고 있는 큰 규모의 회귀법과 분류법 문제들에 유용하다.\\n\\n\\nConclusion. 틱톡의 차별화 요소와 추천 알고리즘이 만들어낸 성과\\n\\n틱톡의 메인 페이지는 크게 두 탭으로 나뉜다. Following과 For you 탭인데, 두 페이지 사이에는 큰 차이가 있다. 내가 팔로우한 크리에이터의 콘텐츠에 초점을 맞춰 보여주는 팔로잉 탭과 다르게 For you 탭의 경우 틱톡의 콘텐츠 큐레이션이 작동한다. 내부 알고리즘에 따라 시청시간, 메타 데이터, 해시태그 및 사운드 트랙 등 다양한 변수를 기반으로 콘텐츠가 추천된다. 여기서 틱톡의 차별점은 무한 스크롤이 가능한 피드다. 한 마디로 알고리즘을 통해 추천된 콘텐츠를 끊임없이 재생시키는 것. \\n\\n창과 창을 이동하지 않더라도 스와이프 동작 한 번이면 한 페이지 내에서 새로운 비디오가 다시 시작된다는 점은 재생 기록을 기반으로 이후에 시청할 비디오를 추천하는 유튜브의 알고리즘과 유사한 듯 보이면서도 상이하다. (유튜브는 시청시간을 기반으로 선호도 정보를 분석한 반면, 콘텐츠당 재생 시간이 짧을 수밖에 없는 틱톡은 재생 횟수에 초점을 맞췄다.)\\n\\n틱톡은 시청자 수와 앱 체류시간을 늘리기 위해 콘텐츠를 사람들이 더 많이 반복 시청할수록, 그리고 끝까지 시청 완료하는 만큼(시청 완료율이 높을수록) For you 탭에 추천될 확률이 커지게끔 추천 알고리즘을 구성해 놓았다. 이를 인지한 크리에이터들은 동영상이 계속 loop 재생될 수 있도록 영상 끝부분에 기발한 밈을 넣기 시작했고 결과적으로는 콘텐츠의 조회수와 완료율이 동반 상승하는 결과를 낳았다.\\n\\n이렇게 틱톡이라는 서비스의 개인화 피드 기능을 BM/TECH 관점에서 짚어보았는데 비즈니스 모델 측면에서 틱톡 포 비즈니스에 관한 내용이 일부 누락되어 있어 다소 아쉽기는 하다. 포스트를 작성하며 결국 핵심은 기술과 비즈니스의 균형을 맞춰 사업 목표와 고객 가치를 동시 달성하는 것에 있다는 점을 다시 한 번 깨달을 수 있었다. \\n\\n[참고한 글]\\nhttps://towardsdatascience.com/why-tiktok-made-its-user-so-obsessive-the-ai-algorithm-that-got-you-hooked-7895bb1ab423\\nhttps://chatbotslife.com/the-app-that-knows-you-better-than-you-know-yourself-an-analysis-of-the-tiktok-algorithm-be12eefaab5a\\nhttps://newsroom.tiktok.com/en-us/how-tiktok-recommends-videos-for-you\\nhttps://yamalab.tistory.com/101\\n',\n",
       " 'keyword': ['인공지능', 'AI', '알고리즘'],\n",
       " 'likes': 68,\n",
       " 'post_date': ' 2020-10-28',\n",
       " 'post_url': 'https://brunch.co.kr/@aykim13/49',\n",
       " 'author_id': '@aykim13',\n",
       " 'contradiction': ['보호시설', '한남', '소원'],\n",
       " 'contradiction_title': '포르투갈에 가기 전 알았다면 좋은 여행 팁 5가지'}"
      ]
     },
     "execution_count": 278,
     "metadata": {},
     "output_type": "execute_result"
    }
   ],
   "source": [
    "data_list[10]"
   ]
  },
  {
   "cell_type": "code",
   "execution_count": 279,
   "metadata": {
    "scrolled": true
   },
   "outputs": [
    {
     "data": {
      "text/html": [
       "<div>\n",
       "<style scoped>\n",
       "    .dataframe tbody tr th:only-of-type {\n",
       "        vertical-align: middle;\n",
       "    }\n",
       "\n",
       "    .dataframe tbody tr th {\n",
       "        vertical-align: top;\n",
       "    }\n",
       "\n",
       "    .dataframe thead th {\n",
       "        text-align: right;\n",
       "    }\n",
       "</style>\n",
       "<table border=\"1\" class=\"dataframe\">\n",
       "  <thead>\n",
       "    <tr style=\"text-align: right;\">\n",
       "      <th></th>\n",
       "      <th>title</th>\n",
       "      <th>sub_title</th>\n",
       "      <th>body_text</th>\n",
       "      <th>keyword</th>\n",
       "      <th>likes</th>\n",
       "      <th>post_date</th>\n",
       "      <th>post_url</th>\n",
       "      <th>author_id</th>\n",
       "      <th>contradiction</th>\n",
       "      <th>contradiction_title</th>\n",
       "    </tr>\n",
       "  </thead>\n",
       "  <tbody>\n",
       "    <tr>\n",
       "      <th>0</th>\n",
       "      <td>구글을 대체할 AI 챗봇 ChatGPT</td>\n",
       "      <td>브런치의 미래</td>\n",
       "      <td>\\n일론머스크와 샘알트만이 설립한 OpenAI에서 ChatGPT이라는 대화형 인공지...</td>\n",
       "      <td>[챗봇, AI, 미래]</td>\n",
       "      <td>76</td>\n",
       "      <td>2023-01-18</td>\n",
       "      <td>https://brunch.co.kr/@jejung/178</td>\n",
       "      <td>@jejung</td>\n",
       "      <td>[선입견, 신뢰관계, 홈스쿨링]</td>\n",
       "      <td>사랑하는 사람과 잘 싸우기</td>\n",
       "    </tr>\n",
       "    <tr>\n",
       "      <th>1</th>\n",
       "      <td>AI 와 예술의 공존, 저작권에 대하여</td>\n",
       "      <td>NaN</td>\n",
       "      <td>\\nAI 기술이 나날이 발전을 더하며 그동안 산업계에서 주로 활용되었던 기술이 이제...</td>\n",
       "      <td>[AI, 예술, NFT]</td>\n",
       "      <td>75</td>\n",
       "      <td>2023-01-04</td>\n",
       "      <td>https://brunch.co.kr/@jejung/176</td>\n",
       "      <td>@jejung</td>\n",
       "      <td>[영화관, 시계, 노예]</td>\n",
       "      <td>가끔은 대충 사는 것도</td>\n",
       "    </tr>\n",
       "    <tr>\n",
       "      <th>2</th>\n",
       "      <td>AI가 자동으로 콘텐츠를 써주는 서비스의 성능은?</td>\n",
       "      <td>AI 기반의 카피라이터, '뤼튼' 서비스를 써보았다.</td>\n",
       "      <td>\\n\\n매일 뭐라도 올리려고 소재를 찾다가, 눈에 띄는 문구가 하나 있었다. 이미 ...</td>\n",
       "      <td>[카피라이터, AI, 콘텐츠]</td>\n",
       "      <td>52</td>\n",
       "      <td>2022-11-09</td>\n",
       "      <td>https://brunch.co.kr/@paulie/264</td>\n",
       "      <td>@paulie</td>\n",
       "      <td>[쌩얼, 화법, 가족영화]</td>\n",
       "      <td>추석과의 추억</td>\n",
       "    </tr>\n",
       "    <tr>\n",
       "      <th>3</th>\n",
       "      <td>AI가 만들어준 찰스 1세와 헨리에타 마리아입니다;;;</td>\n",
       "      <td>(22)책 출간: ai그림 만들기</td>\n",
       "      <td>\\n오늘 획기적인 사이트를 하나 알고 들어가 봤습니다.\\n\\nhttps://nove...</td>\n",
       "      <td>[텀블벅, AI, 독립출판물]</td>\n",
       "      <td>64</td>\n",
       "      <td>2022-10-13</td>\n",
       "      <td>https://brunch.co.kr/@f635a2b84449453/143</td>\n",
       "      <td>@f635a2b84449453</td>\n",
       "      <td>[아트소믈리에, 기준금리, 보리밥]</td>\n",
       "      <td>4년 8개월의 백수생활</td>\n",
       "    </tr>\n",
       "    <tr>\n",
       "      <th>4</th>\n",
       "      <td>브런치북이 클래스101 AI VOD로 재탄생했습니다</td>\n",
       "      <td>브런치북 AI 클래스 프로젝트 수상작 AI VOD 론칭</td>\n",
       "      <td>\\n브런치북이 전자책, 오디오북에 이어 또 한 번의 변신을 거듭합니다. 브런치북 A...</td>\n",
       "      <td>[브런치북, 클래스, AI]</td>\n",
       "      <td>217</td>\n",
       "      <td>2022-10-05</td>\n",
       "      <td>https://brunch.co.kr/@brunch/313</td>\n",
       "      <td>@brunch</td>\n",
       "      <td>[도서관, 기차, MVP]</td>\n",
       "      <td>엄마의 공부, 방임인지 모범인지는 더 두고 볼 일이다.</td>\n",
       "    </tr>\n",
       "    <tr>\n",
       "      <th>...</th>\n",
       "      <td>...</td>\n",
       "      <td>...</td>\n",
       "      <td>...</td>\n",
       "      <td>...</td>\n",
       "      <td>...</td>\n",
       "      <td>...</td>\n",
       "      <td>...</td>\n",
       "      <td>...</td>\n",
       "      <td>...</td>\n",
       "      <td>...</td>\n",
       "    </tr>\n",
       "    <tr>\n",
       "      <th>23307</th>\n",
       "      <td>업무 인수인계 잘하기</td>\n",
       "      <td>릴레이에서 바톤을 놓친다면</td>\n",
       "      <td>\\n좋은 직장과 안 좋은 직장을 알 수 있는 기준은 참 많지만, 하나를 골라보라면 ...</td>\n",
       "      <td>[업무, 조직, 회사]</td>\n",
       "      <td>55</td>\n",
       "      <td>2016-03-08</td>\n",
       "      <td>https://brunch.co.kr/@lunarshore/37</td>\n",
       "      <td>@lunarshore</td>\n",
       "      <td>[민음사, 티켓팅, 카이사르]</td>\n",
       "      <td>미리 보는 UI 디자인 툴 전쟁</td>\n",
       "    </tr>\n",
       "    <tr>\n",
       "      <th>23308</th>\n",
       "      <td>면접자는 모르는 대기업, 중소기업, 외국계 기업의 특징</td>\n",
       "      <td>당신의 미래를 시작할 곳은 어디인가요</td>\n",
       "      <td>\\n** 이 문서는 2017년 기준으로 개정된 문서입니다\\n** 유튜브 채널의 좋아...</td>\n",
       "      <td>[면접, 인재, 회사]</td>\n",
       "      <td>118</td>\n",
       "      <td>2016-03-04</td>\n",
       "      <td>https://brunch.co.kr/@hdyoon/3</td>\n",
       "      <td>@hdyoon</td>\n",
       "      <td>[서울역, 안마기, 콘텐츠기획자]</td>\n",
       "      <td>나갈 때 퇴사 메일 쓰지 말 것</td>\n",
       "    </tr>\n",
       "    <tr>\n",
       "      <th>23309</th>\n",
       "      <td>남들이 피하는 일을 선택하라</td>\n",
       "      <td>돌파구 노트</td>\n",
       "      <td>\\n\\n본인에게 일의 선택권이 주어진다면 어떤 업무를 선택하겠는가? 대부분의 사람들...</td>\n",
       "      <td>[회사, 도전, 일]</td>\n",
       "      <td>83</td>\n",
       "      <td>2016-01-17</td>\n",
       "      <td>https://brunch.co.kr/@breakthrough/26</td>\n",
       "      <td>@breakthrough</td>\n",
       "      <td>[넷플릭스_스토리텔러, 상대방, 환율]</td>\n",
       "      <td>개털려봐야 비로소 깨닫는 삶.(feat. 일본북알프스)</td>\n",
       "    </tr>\n",
       "    <tr>\n",
       "      <th>23310</th>\n",
       "      <td>일 잘하는 법</td>\n",
       "      <td>돌파구 노트</td>\n",
       "      <td>\\n일을 잘한다는 의미는 무엇일까? 간단히 이야기하면 주어진 시간 안에 업무 목표를...</td>\n",
       "      <td>[일, 회사, 평가]</td>\n",
       "      <td>91</td>\n",
       "      <td>2016-01-13</td>\n",
       "      <td>https://brunch.co.kr/@breakthrough/25</td>\n",
       "      <td>@breakthrough</td>\n",
       "      <td>[kbs아나운서, 생선, 브랜드전략]</td>\n",
       "      <td>읽는 자가 배운 자를 이긴다</td>\n",
       "    </tr>\n",
       "    <tr>\n",
       "      <th>23311</th>\n",
       "      <td>리더의 에티켓</td>\n",
       "      <td>돌파구 노트</td>\n",
       "      <td>\\n\\n현재 함께 일하고 있는 상사에 대해서 어떻게 생각하는가? 아마도 상사의 장점...</td>\n",
       "      <td>[리더, 에티켓, 회사]</td>\n",
       "      <td>83</td>\n",
       "      <td>2015-11-09</td>\n",
       "      <td>https://brunch.co.kr/@breakthrough/11</td>\n",
       "      <td>@breakthrough</td>\n",
       "      <td>[연애편지, 체험, 동백]</td>\n",
       "      <td>직장 상사 엿 먹이는 방법</td>\n",
       "    </tr>\n",
       "  </tbody>\n",
       "</table>\n",
       "<p>23312 rows × 10 columns</p>\n",
       "</div>"
      ],
      "text/plain": [
       "                                title                       sub_title  \\\n",
       "0               구글을 대체할 AI 챗봇 ChatGPT                        브런치의 미래    \n",
       "1               AI 와 예술의 공존, 저작권에 대하여                             NaN   \n",
       "2         AI가 자동으로 콘텐츠를 써주는 서비스의 성능은?  AI 기반의 카피라이터, '뤼튼' 서비스를 써보았다.    \n",
       "3      AI가 만들어준 찰스 1세와 헨리에타 마리아입니다;;;              (22)책 출간: ai그림 만들기   \n",
       "4        브런치북이 클래스101 AI VOD로 재탄생했습니다  브런치북 AI 클래스 프로젝트 수상작 AI VOD 론칭   \n",
       "...                               ...                             ...   \n",
       "23307                     업무 인수인계 잘하기                  릴레이에서 바톤을 놓친다면   \n",
       "23308  면접자는 모르는 대기업, 중소기업, 외국계 기업의 특징            당신의 미래를 시작할 곳은 어디인가요   \n",
       "23309                 남들이 피하는 일을 선택하라                          돌파구 노트   \n",
       "23310                         일 잘하는 법                          돌파구 노트   \n",
       "23311                         리더의 에티켓                          돌파구 노트   \n",
       "\n",
       "                                               body_text           keyword  \\\n",
       "0      \\n일론머스크와 샘알트만이 설립한 OpenAI에서 ChatGPT이라는 대화형 인공지...      [챗봇, AI, 미래]   \n",
       "1      \\nAI 기술이 나날이 발전을 더하며 그동안 산업계에서 주로 활용되었던 기술이 이제...     [AI, 예술, NFT]   \n",
       "2      \\n\\n매일 뭐라도 올리려고 소재를 찾다가, 눈에 띄는 문구가 하나 있었다. 이미 ...  [카피라이터, AI, 콘텐츠]   \n",
       "3      \\n오늘 획기적인 사이트를 하나 알고 들어가 봤습니다.\\n\\nhttps://nove...  [텀블벅, AI, 독립출판물]   \n",
       "4      \\n브런치북이 전자책, 오디오북에 이어 또 한 번의 변신을 거듭합니다. 브런치북 A...   [브런치북, 클래스, AI]   \n",
       "...                                                  ...               ...   \n",
       "23307  \\n좋은 직장과 안 좋은 직장을 알 수 있는 기준은 참 많지만, 하나를 골라보라면 ...      [업무, 조직, 회사]   \n",
       "23308  \\n** 이 문서는 2017년 기준으로 개정된 문서입니다\\n** 유튜브 채널의 좋아...      [면접, 인재, 회사]   \n",
       "23309  \\n\\n본인에게 일의 선택권이 주어진다면 어떤 업무를 선택하겠는가? 대부분의 사람들...       [회사, 도전, 일]   \n",
       "23310  \\n일을 잘한다는 의미는 무엇일까? 간단히 이야기하면 주어진 시간 안에 업무 목표를...       [일, 회사, 평가]   \n",
       "23311  \\n\\n현재 함께 일하고 있는 상사에 대해서 어떻게 생각하는가? 아마도 상사의 장점...     [리더, 에티켓, 회사]   \n",
       "\n",
       "       likes    post_date                                   post_url  \\\n",
       "0         76   2023-01-18           https://brunch.co.kr/@jejung/178   \n",
       "1         75   2023-01-04           https://brunch.co.kr/@jejung/176   \n",
       "2         52   2022-11-09           https://brunch.co.kr/@paulie/264   \n",
       "3         64   2022-10-13  https://brunch.co.kr/@f635a2b84449453/143   \n",
       "4        217   2022-10-05           https://brunch.co.kr/@brunch/313   \n",
       "...      ...          ...                                        ...   \n",
       "23307     55   2016-03-08        https://brunch.co.kr/@lunarshore/37   \n",
       "23308    118   2016-03-04             https://brunch.co.kr/@hdyoon/3   \n",
       "23309     83   2016-01-17      https://brunch.co.kr/@breakthrough/26   \n",
       "23310     91   2016-01-13      https://brunch.co.kr/@breakthrough/25   \n",
       "23311     83   2015-11-09      https://brunch.co.kr/@breakthrough/11   \n",
       "\n",
       "              author_id          contradiction             contradiction_title  \n",
       "0               @jejung      [선입견, 신뢰관계, 홈스쿨링]                  사랑하는 사람과 잘 싸우기  \n",
       "1               @jejung          [영화관, 시계, 노예]                    가끔은 대충 사는 것도  \n",
       "2               @paulie         [쌩얼, 화법, 가족영화]                         추석과의 추억  \n",
       "3      @f635a2b84449453    [아트소믈리에, 기준금리, 보리밥]                   4년 8개월의 백수생활   \n",
       "4               @brunch         [도서관, 기차, MVP]  엄마의 공부, 방임인지 모범인지는 더 두고 볼 일이다.  \n",
       "...                 ...                    ...                             ...  \n",
       "23307       @lunarshore       [민음사, 티켓팅, 카이사르]               미리 보는 UI 디자인 툴 전쟁  \n",
       "23308           @hdyoon     [서울역, 안마기, 콘텐츠기획자]               나갈 때 퇴사 메일 쓰지 말 것  \n",
       "23309     @breakthrough  [넷플릭스_스토리텔러, 상대방, 환율]  개털려봐야 비로소 깨닫는 삶.(feat. 일본북알프스)  \n",
       "23310     @breakthrough   [kbs아나운서, 생선, 브랜드전략]                 읽는 자가 배운 자를 이긴다  \n",
       "23311     @breakthrough         [연애편지, 체험, 동백]                  직장 상사 엿 먹이는 방법  \n",
       "\n",
       "[23312 rows x 10 columns]"
      ]
     },
     "execution_count": 279,
     "metadata": {},
     "output_type": "execute_result"
    }
   ],
   "source": [
    "aug_data_df = pd.DataFrame(data_list)\n",
    "aug_data_df"
   ]
  },
  {
   "cell_type": "code",
   "execution_count": 280,
   "metadata": {},
   "outputs": [],
   "source": [
    "aug_data_df.rename(columns={\"contradiction\": \"contradiction_words\"}, inplace=True)"
   ]
  },
  {
   "cell_type": "code",
   "execution_count": 281,
   "metadata": {},
   "outputs": [],
   "source": [
    "aug_data_df.rename(columns={\"keyword\": \"keywords\"}, inplace=True)"
   ]
  },
  {
   "cell_type": "code",
   "execution_count": 282,
   "metadata": {
    "scrolled": true
   },
   "outputs": [
    {
     "data": {
      "text/html": [
       "<div>\n",
       "<style scoped>\n",
       "    .dataframe tbody tr th:only-of-type {\n",
       "        vertical-align: middle;\n",
       "    }\n",
       "\n",
       "    .dataframe tbody tr th {\n",
       "        vertical-align: top;\n",
       "    }\n",
       "\n",
       "    .dataframe thead th {\n",
       "        text-align: right;\n",
       "    }\n",
       "</style>\n",
       "<table border=\"1\" class=\"dataframe\">\n",
       "  <thead>\n",
       "    <tr style=\"text-align: right;\">\n",
       "      <th></th>\n",
       "      <th>title</th>\n",
       "      <th>sub_title</th>\n",
       "      <th>body_text</th>\n",
       "      <th>keywords</th>\n",
       "      <th>likes</th>\n",
       "      <th>post_date</th>\n",
       "      <th>post_url</th>\n",
       "      <th>author_id</th>\n",
       "      <th>contradiction_words</th>\n",
       "      <th>contradiction_title</th>\n",
       "    </tr>\n",
       "  </thead>\n",
       "  <tbody>\n",
       "    <tr>\n",
       "      <th>0</th>\n",
       "      <td>구글을 대체할 AI 챗봇 ChatGPT</td>\n",
       "      <td>브런치의 미래</td>\n",
       "      <td>\\n일론머스크와 샘알트만이 설립한 OpenAI에서 ChatGPT이라는 대화형 인공지...</td>\n",
       "      <td>[챗봇, AI, 미래]</td>\n",
       "      <td>76</td>\n",
       "      <td>2023-01-18</td>\n",
       "      <td>https://brunch.co.kr/@jejung/178</td>\n",
       "      <td>@jejung</td>\n",
       "      <td>[선입견, 신뢰관계, 홈스쿨링]</td>\n",
       "      <td>사랑하는 사람과 잘 싸우기</td>\n",
       "    </tr>\n",
       "    <tr>\n",
       "      <th>1</th>\n",
       "      <td>AI 와 예술의 공존, 저작권에 대하여</td>\n",
       "      <td>NaN</td>\n",
       "      <td>\\nAI 기술이 나날이 발전을 더하며 그동안 산업계에서 주로 활용되었던 기술이 이제...</td>\n",
       "      <td>[AI, 예술, NFT]</td>\n",
       "      <td>75</td>\n",
       "      <td>2023-01-04</td>\n",
       "      <td>https://brunch.co.kr/@jejung/176</td>\n",
       "      <td>@jejung</td>\n",
       "      <td>[영화관, 시계, 노예]</td>\n",
       "      <td>가끔은 대충 사는 것도</td>\n",
       "    </tr>\n",
       "    <tr>\n",
       "      <th>2</th>\n",
       "      <td>AI가 자동으로 콘텐츠를 써주는 서비스의 성능은?</td>\n",
       "      <td>AI 기반의 카피라이터, '뤼튼' 서비스를 써보았다.</td>\n",
       "      <td>\\n\\n매일 뭐라도 올리려고 소재를 찾다가, 눈에 띄는 문구가 하나 있었다. 이미 ...</td>\n",
       "      <td>[카피라이터, AI, 콘텐츠]</td>\n",
       "      <td>52</td>\n",
       "      <td>2022-11-09</td>\n",
       "      <td>https://brunch.co.kr/@paulie/264</td>\n",
       "      <td>@paulie</td>\n",
       "      <td>[쌩얼, 화법, 가족영화]</td>\n",
       "      <td>추석과의 추억</td>\n",
       "    </tr>\n",
       "    <tr>\n",
       "      <th>3</th>\n",
       "      <td>AI가 만들어준 찰스 1세와 헨리에타 마리아입니다;;;</td>\n",
       "      <td>(22)책 출간: ai그림 만들기</td>\n",
       "      <td>\\n오늘 획기적인 사이트를 하나 알고 들어가 봤습니다.\\n\\nhttps://nove...</td>\n",
       "      <td>[텀블벅, AI, 독립출판물]</td>\n",
       "      <td>64</td>\n",
       "      <td>2022-10-13</td>\n",
       "      <td>https://brunch.co.kr/@f635a2b84449453/143</td>\n",
       "      <td>@f635a2b84449453</td>\n",
       "      <td>[아트소믈리에, 기준금리, 보리밥]</td>\n",
       "      <td>4년 8개월의 백수생활</td>\n",
       "    </tr>\n",
       "    <tr>\n",
       "      <th>4</th>\n",
       "      <td>브런치북이 클래스101 AI VOD로 재탄생했습니다</td>\n",
       "      <td>브런치북 AI 클래스 프로젝트 수상작 AI VOD 론칭</td>\n",
       "      <td>\\n브런치북이 전자책, 오디오북에 이어 또 한 번의 변신을 거듭합니다. 브런치북 A...</td>\n",
       "      <td>[브런치북, 클래스, AI]</td>\n",
       "      <td>217</td>\n",
       "      <td>2022-10-05</td>\n",
       "      <td>https://brunch.co.kr/@brunch/313</td>\n",
       "      <td>@brunch</td>\n",
       "      <td>[도서관, 기차, MVP]</td>\n",
       "      <td>엄마의 공부, 방임인지 모범인지는 더 두고 볼 일이다.</td>\n",
       "    </tr>\n",
       "    <tr>\n",
       "      <th>...</th>\n",
       "      <td>...</td>\n",
       "      <td>...</td>\n",
       "      <td>...</td>\n",
       "      <td>...</td>\n",
       "      <td>...</td>\n",
       "      <td>...</td>\n",
       "      <td>...</td>\n",
       "      <td>...</td>\n",
       "      <td>...</td>\n",
       "      <td>...</td>\n",
       "    </tr>\n",
       "    <tr>\n",
       "      <th>23307</th>\n",
       "      <td>업무 인수인계 잘하기</td>\n",
       "      <td>릴레이에서 바톤을 놓친다면</td>\n",
       "      <td>\\n좋은 직장과 안 좋은 직장을 알 수 있는 기준은 참 많지만, 하나를 골라보라면 ...</td>\n",
       "      <td>[업무, 조직, 회사]</td>\n",
       "      <td>55</td>\n",
       "      <td>2016-03-08</td>\n",
       "      <td>https://brunch.co.kr/@lunarshore/37</td>\n",
       "      <td>@lunarshore</td>\n",
       "      <td>[민음사, 티켓팅, 카이사르]</td>\n",
       "      <td>미리 보는 UI 디자인 툴 전쟁</td>\n",
       "    </tr>\n",
       "    <tr>\n",
       "      <th>23308</th>\n",
       "      <td>면접자는 모르는 대기업, 중소기업, 외국계 기업의 특징</td>\n",
       "      <td>당신의 미래를 시작할 곳은 어디인가요</td>\n",
       "      <td>\\n** 이 문서는 2017년 기준으로 개정된 문서입니다\\n** 유튜브 채널의 좋아...</td>\n",
       "      <td>[면접, 인재, 회사]</td>\n",
       "      <td>118</td>\n",
       "      <td>2016-03-04</td>\n",
       "      <td>https://brunch.co.kr/@hdyoon/3</td>\n",
       "      <td>@hdyoon</td>\n",
       "      <td>[서울역, 안마기, 콘텐츠기획자]</td>\n",
       "      <td>나갈 때 퇴사 메일 쓰지 말 것</td>\n",
       "    </tr>\n",
       "    <tr>\n",
       "      <th>23309</th>\n",
       "      <td>남들이 피하는 일을 선택하라</td>\n",
       "      <td>돌파구 노트</td>\n",
       "      <td>\\n\\n본인에게 일의 선택권이 주어진다면 어떤 업무를 선택하겠는가? 대부분의 사람들...</td>\n",
       "      <td>[회사, 도전, 일]</td>\n",
       "      <td>83</td>\n",
       "      <td>2016-01-17</td>\n",
       "      <td>https://brunch.co.kr/@breakthrough/26</td>\n",
       "      <td>@breakthrough</td>\n",
       "      <td>[넷플릭스_스토리텔러, 상대방, 환율]</td>\n",
       "      <td>개털려봐야 비로소 깨닫는 삶.(feat. 일본북알프스)</td>\n",
       "    </tr>\n",
       "    <tr>\n",
       "      <th>23310</th>\n",
       "      <td>일 잘하는 법</td>\n",
       "      <td>돌파구 노트</td>\n",
       "      <td>\\n일을 잘한다는 의미는 무엇일까? 간단히 이야기하면 주어진 시간 안에 업무 목표를...</td>\n",
       "      <td>[일, 회사, 평가]</td>\n",
       "      <td>91</td>\n",
       "      <td>2016-01-13</td>\n",
       "      <td>https://brunch.co.kr/@breakthrough/25</td>\n",
       "      <td>@breakthrough</td>\n",
       "      <td>[kbs아나운서, 생선, 브랜드전략]</td>\n",
       "      <td>읽는 자가 배운 자를 이긴다</td>\n",
       "    </tr>\n",
       "    <tr>\n",
       "      <th>23311</th>\n",
       "      <td>리더의 에티켓</td>\n",
       "      <td>돌파구 노트</td>\n",
       "      <td>\\n\\n현재 함께 일하고 있는 상사에 대해서 어떻게 생각하는가? 아마도 상사의 장점...</td>\n",
       "      <td>[리더, 에티켓, 회사]</td>\n",
       "      <td>83</td>\n",
       "      <td>2015-11-09</td>\n",
       "      <td>https://brunch.co.kr/@breakthrough/11</td>\n",
       "      <td>@breakthrough</td>\n",
       "      <td>[연애편지, 체험, 동백]</td>\n",
       "      <td>직장 상사 엿 먹이는 방법</td>\n",
       "    </tr>\n",
       "  </tbody>\n",
       "</table>\n",
       "<p>23312 rows × 10 columns</p>\n",
       "</div>"
      ],
      "text/plain": [
       "                                title                       sub_title  \\\n",
       "0               구글을 대체할 AI 챗봇 ChatGPT                        브런치의 미래    \n",
       "1               AI 와 예술의 공존, 저작권에 대하여                             NaN   \n",
       "2         AI가 자동으로 콘텐츠를 써주는 서비스의 성능은?  AI 기반의 카피라이터, '뤼튼' 서비스를 써보았다.    \n",
       "3      AI가 만들어준 찰스 1세와 헨리에타 마리아입니다;;;              (22)책 출간: ai그림 만들기   \n",
       "4        브런치북이 클래스101 AI VOD로 재탄생했습니다  브런치북 AI 클래스 프로젝트 수상작 AI VOD 론칭   \n",
       "...                               ...                             ...   \n",
       "23307                     업무 인수인계 잘하기                  릴레이에서 바톤을 놓친다면   \n",
       "23308  면접자는 모르는 대기업, 중소기업, 외국계 기업의 특징            당신의 미래를 시작할 곳은 어디인가요   \n",
       "23309                 남들이 피하는 일을 선택하라                          돌파구 노트   \n",
       "23310                         일 잘하는 법                          돌파구 노트   \n",
       "23311                         리더의 에티켓                          돌파구 노트   \n",
       "\n",
       "                                               body_text          keywords  \\\n",
       "0      \\n일론머스크와 샘알트만이 설립한 OpenAI에서 ChatGPT이라는 대화형 인공지...      [챗봇, AI, 미래]   \n",
       "1      \\nAI 기술이 나날이 발전을 더하며 그동안 산업계에서 주로 활용되었던 기술이 이제...     [AI, 예술, NFT]   \n",
       "2      \\n\\n매일 뭐라도 올리려고 소재를 찾다가, 눈에 띄는 문구가 하나 있었다. 이미 ...  [카피라이터, AI, 콘텐츠]   \n",
       "3      \\n오늘 획기적인 사이트를 하나 알고 들어가 봤습니다.\\n\\nhttps://nove...  [텀블벅, AI, 독립출판물]   \n",
       "4      \\n브런치북이 전자책, 오디오북에 이어 또 한 번의 변신을 거듭합니다. 브런치북 A...   [브런치북, 클래스, AI]   \n",
       "...                                                  ...               ...   \n",
       "23307  \\n좋은 직장과 안 좋은 직장을 알 수 있는 기준은 참 많지만, 하나를 골라보라면 ...      [업무, 조직, 회사]   \n",
       "23308  \\n** 이 문서는 2017년 기준으로 개정된 문서입니다\\n** 유튜브 채널의 좋아...      [면접, 인재, 회사]   \n",
       "23309  \\n\\n본인에게 일의 선택권이 주어진다면 어떤 업무를 선택하겠는가? 대부분의 사람들...       [회사, 도전, 일]   \n",
       "23310  \\n일을 잘한다는 의미는 무엇일까? 간단히 이야기하면 주어진 시간 안에 업무 목표를...       [일, 회사, 평가]   \n",
       "23311  \\n\\n현재 함께 일하고 있는 상사에 대해서 어떻게 생각하는가? 아마도 상사의 장점...     [리더, 에티켓, 회사]   \n",
       "\n",
       "       likes    post_date                                   post_url  \\\n",
       "0         76   2023-01-18           https://brunch.co.kr/@jejung/178   \n",
       "1         75   2023-01-04           https://brunch.co.kr/@jejung/176   \n",
       "2         52   2022-11-09           https://brunch.co.kr/@paulie/264   \n",
       "3         64   2022-10-13  https://brunch.co.kr/@f635a2b84449453/143   \n",
       "4        217   2022-10-05           https://brunch.co.kr/@brunch/313   \n",
       "...      ...          ...                                        ...   \n",
       "23307     55   2016-03-08        https://brunch.co.kr/@lunarshore/37   \n",
       "23308    118   2016-03-04             https://brunch.co.kr/@hdyoon/3   \n",
       "23309     83   2016-01-17      https://brunch.co.kr/@breakthrough/26   \n",
       "23310     91   2016-01-13      https://brunch.co.kr/@breakthrough/25   \n",
       "23311     83   2015-11-09      https://brunch.co.kr/@breakthrough/11   \n",
       "\n",
       "              author_id    contradiction_words             contradiction_title  \n",
       "0               @jejung      [선입견, 신뢰관계, 홈스쿨링]                  사랑하는 사람과 잘 싸우기  \n",
       "1               @jejung          [영화관, 시계, 노예]                    가끔은 대충 사는 것도  \n",
       "2               @paulie         [쌩얼, 화법, 가족영화]                         추석과의 추억  \n",
       "3      @f635a2b84449453    [아트소믈리에, 기준금리, 보리밥]                   4년 8개월의 백수생활   \n",
       "4               @brunch         [도서관, 기차, MVP]  엄마의 공부, 방임인지 모범인지는 더 두고 볼 일이다.  \n",
       "...                 ...                    ...                             ...  \n",
       "23307       @lunarshore       [민음사, 티켓팅, 카이사르]               미리 보는 UI 디자인 툴 전쟁  \n",
       "23308           @hdyoon     [서울역, 안마기, 콘텐츠기획자]               나갈 때 퇴사 메일 쓰지 말 것  \n",
       "23309     @breakthrough  [넷플릭스_스토리텔러, 상대방, 환율]  개털려봐야 비로소 깨닫는 삶.(feat. 일본북알프스)  \n",
       "23310     @breakthrough   [kbs아나운서, 생선, 브랜드전략]                 읽는 자가 배운 자를 이긴다  \n",
       "23311     @breakthrough         [연애편지, 체험, 동백]                  직장 상사 엿 먹이는 방법  \n",
       "\n",
       "[23312 rows x 10 columns]"
      ]
     },
     "execution_count": 282,
     "metadata": {},
     "output_type": "execute_result"
    }
   ],
   "source": [
    "aug_data_df"
   ]
  },
  {
   "cell_type": "code",
   "execution_count": 283,
   "metadata": {},
   "outputs": [],
   "source": [
    "aug_json_data = aug_data_df.to_dict('records')"
   ]
  },
  {
   "cell_type": "code",
   "execution_count": 285,
   "metadata": {},
   "outputs": [
    {
     "data": {
      "text/plain": [
       "{'title': '구글을 대체할 AI 챗봇 ChatGPT',\n",
       " 'sub_title': '브런치의 미래\\xa0',\n",
       " 'body_text': '\\n일론머스크와 샘알트만이 설립한 OpenAI에서 ChatGPT이라는 대화형 인공지능 챗봇을 선보였습니다. ChatGPT은 사용자와 주고받는 대화에서 질문에 답하도록 설계되어 있습니다. GPT는 질문에 답하는 것은 물론 정확하지 않은 전제에 대해 이의를 제기하기도 하고 부적절한 요청을 거부하는 등 마치 인격을 가진 인간과의 대화 구현이 가능합니다. \\n\\n이러한 GPT가 주목받게 된 것은 그 기능 자체의 뛰어남도 있지만 글로벌 기업인 구글의 모회사 CEO가 직접 언급하며 급속도로 기사화되었습니다. 구글에서 GPT를 경계하는 이유는 장기적으로 검색 엔진을 대체할 수 있을 것이라 염려 때문입니다. 현재의 검색 엔진은 사용자가 직접 검색 대상을 문법에 맞게 지시 내려야 합니다. 그러나 GPT는 대화형이기 때문에 누구나 손쉽게 이용할 수 있으며 더 다양한 정보를 (데이터)를 확보할 수 있습니다. \\n\\n제가 GPT에 관심을 갖게 된 것은 바로 GPT로 뛰어난 글을 작성할 수 있다는 부분 때문이었습니다. 실제로 해외 사용자들의 후기를  통해 GPT를 이용해 소설과 시를 썼다는 후기들을 손쉽게 볼 수 있습니다. \\n*GPT는 영어로 커뮤니케이션하는 것이 더 원활합니다. 한국어도 지원하나 정보가 적으며 구동이 느립니다.\\n\\n캐나다 언론인이자 임상 심리학자이자인 조던피터슨(Jordan Bernt Peterson)은 GPT의 위험성에 대해 이야기하였습니다. 그의 날카로운 지적과 더불어 해당 영상을 본 사람들의 반응 또한 높은 통찰을 보여주고 있습니다. (자세한 내용은 아래 연결된 링크에서 확인 가능합니다)\\n\\n과거 인터넷의 발달로 우리는 편리한 생활을 누리게 되었지만 그만큼 축소된 부분도 존재합니다. 그 부분은 바로 생각에 대한 영역입니다. 세계적인 경영컨설턴트이자 IT 미래학자인 니콜라스 카가 그의 저서 <생각하지 않는 사람들>에서 인터넷이 우리의 뇌 구조를 바꾸어 생각을 가볍고 얕게 만든다고 지적한 바 있습니다. \\n\\n이제는 이러한 문제를 넘어 기계가 사람을 대신해 생각하는 주체가 되어가고 있습니다. 우리는 GPT이 가진 위험성을 인식하고 생각하는 사람이 되기 위한 방법과 태도에 대해 고민해 보야할 때입니다. \\n\\n브런치는 정제된 글을 접할 수 있는 폐쇄형 블로그로 작가 지망생 분들과 글쓰기에 조예가 깊으신 분들을 자주 만날 수 있습니다. 미래에는 브런치에서 GPT이 작성한 글을 대신 업로드 하는 사람들이 많아질 수 도 있을 것 같습니다. \\n\\n[조던피터슨 Chat GPT 영상]\\nhttps://www.youtube.com/watch?v=ya-fUBldJio\\n',\n",
       " 'keywords': ['챗봇', 'AI', '미래'],\n",
       " 'likes': 76,\n",
       " 'post_date': ' 2023-01-18',\n",
       " 'post_url': 'https://brunch.co.kr/@jejung/178',\n",
       " 'author_id': '@jejung',\n",
       " 'contradiction_words': ['선입견', '신뢰관계', '홈스쿨링'],\n",
       " 'contradiction_title': '사랑하는 사람과 잘 싸우기'}"
      ]
     },
     "execution_count": 285,
     "metadata": {},
     "output_type": "execute_result"
    }
   ],
   "source": [
    "aug_json_data[0]"
   ]
  },
  {
   "cell_type": "code",
   "execution_count": 286,
   "metadata": {},
   "outputs": [],
   "source": [
    "import json    \n",
    "    \n",
    "with open(\"brunch_dataset_words_title_NLI.jsonl\",\"w\", encoding=\"UTF-8\") as f:\n",
    "    for line in aug_json_data:\n",
    "        f.writelines(json.dumps(line, ensure_ascii=False))\n",
    "        f.write(\"\\n\")"
   ]
  },
  {
   "cell_type": "markdown",
   "metadata": {},
   "source": [
    "### train/vaild/test 나누기"
   ]
  },
  {
   "cell_type": "code",
   "execution_count": 287,
   "metadata": {},
   "outputs": [],
   "source": [
    "random.shuffle(aug_json_data)"
   ]
  },
  {
   "cell_type": "code",
   "execution_count": 288,
   "metadata": {},
   "outputs": [
    {
     "data": {
      "text/plain": [
       "{'title': '건물주 이 팀장이 퇴사하지 못하는 신박한 이유',\n",
       " 'sub_title': nan,\n",
       " 'body_text': '\\n\\n 조물주 위에 건물주. 그 표현이 방송에서도 보이기 시작하던 시기에 같이 근무했던 이 팀장은 바로 그 \\'건물주\\'였다. 목 좋은 요지에 상가 두 개를 소유했고, 세 개째를 지어 올리는 중이었다. \\n \\n 외부에서 만났다면 롤모델로 삼을만한 인물이었다. \\n 그 옛날 N 잡러의 삶을 살았다. 회사 퇴근과 동시에 다른 일을 시작했고 집에 들어가지 못한 채  다시 출근한 적도 있다 했다. 밖에서 밥을 사 먹을 때 5천 원 넘는 것을 먹기 시작한 지 얼마 안 됐고 EBS 프로그램으로 해외여행을 대신했다. \\n 둘째가 태어난 지 백일도 안돼 갑자기 집주인이 집을 비우라 해서 홧김에 다 쓰러져 가는 집을 샀는데 곧바로 재개발 지역에 포함되었다. 처음으로 거금을 손에 쥔 그는 부동산과 주식에 투자를 했고 연달아 성공했다. \\'사람이 아무리 잠 안 자고 일을 해도 돈이 돈 버는 속도를 따라가지 못하더라\\'며 오래전 경험에서 진리를 깨우쳤다.\\n 상가에서 나오는 월세가 주 수입원이며 주가도 그가 들어가기만 하면 오른다 했다. 오죽하면 아침마다 옆 부서 부장이 우리 팀으로 출근해서  \\'오늘은 뭐 사야 되는데?\"하고 물었을까. 지금 대다수의 직장인들이 꿈꾸는 그것, \\'파이프라인 구축\\'을 그 당시에 끝내 놓은 그는 재테크의 선구자였다.\\n  \\n 그런데 문제는, 나는 그와 한 팀에서 근무를 했다는 거다. 회사 업무보다 중요한 일들이 그에게 너무 많았다. 상가 관리와 건축, 주식 시장까지. 어지간한 사람이면 한 가지도 벅찰 일은 그는 배우자에게도 맡기지 않고 혼자서 다 처리했다. 사무실에 앉아 핸드폰으로 공사현장 CCTV를 구석구석 감시하는 모습이 신기했다. 그 와중에도 그의 핸드폰은 쉴 새 없이 울렸다. 다른 전화를 받을 때와는 사뭇 느낌이 다른 말투로 \"몇 평, 어떤 타입을 원하시는 거죠?\" 하며 전화를 받기 위해 회의실로 들어갔다. 한참 있다 나오면서는 \"바로 옆 빵집에서 커피를 파는데, 또 카페를 물어보네, 아휴. 나는 또 양심상 그렇게는 못하겠는데, 어떡하지?\" 하며 전화 브리핑을 한다. 그래, 고민거리다. 그런데 너무나 차원이 다른 고민을 공유하는 팀원들은 저것이 고민일까, 자랑일까 하다가 이런 삐뚤어진 마음이 드는 내가 소인배인가까지 생각이 미친다. \\n\\n 회사는 그에게 메인이 아니다. 윗사람 눈치는 보지 않는다. 회사 일로 스트레스가 전혀 없다. 업무가 밀려도 개의치 않는다. 집에 가서까지 회사 일이 생각나는 우리는 그저 부럽다. 자꾸 자리를 비우니 독촉 전화는 자리를 지키는 팀원들에게 튕겨 온다. 밀린 업무를 할 때는 거침이 없다. 그의 고민거리에 회사 업무는 포함되지 않는다. 상사 결재는 물론 통상 외부 심의를 받아 처리하는 건도 과감하게 생략하고 진행한다. 본인이 책임지는 거니까 거기까지는 그렇다 하는데, 이제 거꾸로 그 팀장은 그렇게 처리했는데 왜 이번에는 이렇게 깐깐하게 구느냐는 항의가 들어온다. 동일 업무를 하는 팀원들은 그런 일들이 반복되자 슬슬 화가 난다.\\n\\n 웃으면서 바른말 잘하기로 유명한 김 팀장이 질문인 척 직언을 날린다. \"월급으로 용돈 할 필요 없잖아요. 회사 그만두고 본격적으로 부동산 투자하고 주식하고 하지, 뭐하러 회사 다니는 거예요? 건강보험료 많이 나올까 봐 회사 다닌다는 말이 진짜예요?\" 그런데 이 팀장이 \"아니야...회사 못 그만두는 이유가 있지... 하면서 말을 흐린다.\" 그 광경을 보면서 건물주 이 팀장도 말 못 할 무슨 사정이 있구나 싶어 그 뒤로는 소인배처럼 굴지 말자 다짐을 했다.\\n\\n 그 뒤 회식자리에서 이 팀장은 거나하게 취해 이미 몇 번이나 들은 그의 재테크 신화를 다시 처음부터 시작한다. N 잡러 시절을 지나 상가 관리의 어려움 파트를 거의 마무리하며 그가 이야기한다. \\'그래도 회사를 그만 두지를 못해. 상가 주인이 안정적인 직장을 가지고 있는걸 임차인들이 선호하거든. 빡빡하게 굴거나 위험하지 않을 거라고 생각하니까. 그래서 내가 회사를 못 그만둔다.\\' \\n\\n아. 그런 신박한 이유가 있었구나. 하하하하하하.',\n",
       " 'keywords': ['퇴사', '재테크', '직장인'],\n",
       " 'likes': 118,\n",
       " 'post_date': ' 2022-05-11',\n",
       " 'post_url': 'https://brunch.co.kr/@0707d9594a104b8/103',\n",
       " 'author_id': '@0707d9594a104b8',\n",
       " 'contradiction_words': ['제발', '지성', '전복'],\n",
       " 'contradiction_title': '영어인 듯 영어 아닌 영어 같은 너'}"
      ]
     },
     "execution_count": 288,
     "metadata": {},
     "output_type": "execute_result"
    }
   ],
   "source": [
    "aug_json_data[0]"
   ]
  },
  {
   "cell_type": "code",
   "execution_count": 289,
   "metadata": {},
   "outputs": [
    {
     "data": {
      "text/plain": [
       "23312"
      ]
     },
     "execution_count": 289,
     "metadata": {},
     "output_type": "execute_result"
    }
   ],
   "source": [
    "len(aug_json_data)"
   ]
  },
  {
   "cell_type": "markdown",
   "metadata": {},
   "source": [
    "8 : 1 : 1 로 나누기"
   ]
  },
  {
   "cell_type": "code",
   "execution_count": 290,
   "metadata": {},
   "outputs": [
    {
     "data": {
      "text/plain": [
       "18649"
      ]
     },
     "execution_count": 290,
     "metadata": {},
     "output_type": "execute_result"
    }
   ],
   "source": [
    "train_ratio = int(len(aug_json_data)*0.8)\n",
    "train_ratio"
   ]
  },
  {
   "cell_type": "code",
   "execution_count": 293,
   "metadata": {},
   "outputs": [
    {
     "data": {
      "text/plain": [
       "20980"
      ]
     },
     "execution_count": 293,
     "metadata": {},
     "output_type": "execute_result"
    }
   ],
   "source": [
    "valid_ratio = int(len(aug_json_data)*0.9)\n",
    "valid_ratio"
   ]
  },
  {
   "cell_type": "code",
   "execution_count": 304,
   "metadata": {},
   "outputs": [],
   "source": [
    "train_data = aug_json_data[:train_ratio]\n",
    "valid_data = aug_json_data[train_ratio:valid_ratio]\n",
    "test_data = aug_json_data[valid_ratio:]"
   ]
  },
  {
   "cell_type": "code",
   "execution_count": 305,
   "metadata": {},
   "outputs": [
    {
     "data": {
      "text/plain": [
       "18649"
      ]
     },
     "execution_count": 305,
     "metadata": {},
     "output_type": "execute_result"
    }
   ],
   "source": [
    "len(train_data)"
   ]
  },
  {
   "cell_type": "code",
   "execution_count": 306,
   "metadata": {},
   "outputs": [
    {
     "data": {
      "text/plain": [
       "2331"
      ]
     },
     "execution_count": 306,
     "metadata": {},
     "output_type": "execute_result"
    }
   ],
   "source": [
    "len(valid_data)"
   ]
  },
  {
   "cell_type": "code",
   "execution_count": 307,
   "metadata": {},
   "outputs": [
    {
     "data": {
      "text/plain": [
       "2332"
      ]
     },
     "execution_count": 307,
     "metadata": {},
     "output_type": "execute_result"
    }
   ],
   "source": [
    "len(test_data)"
   ]
  },
  {
   "cell_type": "code",
   "execution_count": 308,
   "metadata": {},
   "outputs": [
    {
     "data": {
      "text/plain": [
       "23312"
      ]
     },
     "execution_count": 308,
     "metadata": {},
     "output_type": "execute_result"
    }
   ],
   "source": [
    "len(train_data) + len(valid_data) + len(test_data)"
   ]
  },
  {
   "cell_type": "code",
   "execution_count": 309,
   "metadata": {},
   "outputs": [],
   "source": [
    "import json    \n",
    "    \n",
    "with open(\"brunch_NLI_train.jsonl\",\"w\", encoding=\"UTF-8\") as f:\n",
    "    for line in train_data:\n",
    "        f.writelines(json.dumps(line, ensure_ascii=False))\n",
    "        f.write(\"\\n\")\n",
    "        \n",
    "with open(\"brunch_NLI_valid.jsonl\",\"w\", encoding=\"UTF-8\") as f:\n",
    "    for line in train_data:\n",
    "        f.writelines(json.dumps(line, ensure_ascii=False))\n",
    "        f.write(\"\\n\")\n",
    "        \n",
    "with open(\"brunch_NLI_test.jsonl\",\"w\", encoding=\"UTF-8\") as f:\n",
    "    for line in train_data:\n",
    "        f.writelines(json.dumps(line, ensure_ascii=False))\n",
    "        f.write(\"\\n\")"
   ]
  }
 ],
 "metadata": {
  "kernelspec": {
   "display_name": "koelectra",
   "language": "python",
   "name": "koelectra"
  },
  "language_info": {
   "codemirror_mode": {
    "name": "ipython",
    "version": 3
   },
   "file_extension": ".py",
   "mimetype": "text/x-python",
   "name": "python",
   "nbconvert_exporter": "python",
   "pygments_lexer": "ipython3",
   "version": "3.9.16"
  }
 },
 "nbformat": 4,
 "nbformat_minor": 4
}
