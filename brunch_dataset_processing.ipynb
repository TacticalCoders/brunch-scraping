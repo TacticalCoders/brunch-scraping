{
 "cells": [
  {
   "cell_type": "markdown",
   "id": "3695e29a",
   "metadata": {},
   "source": [
    "# 브런치 데이터셋 프로젝트\n",
    "\n",
    "수집한 데이터셋을 배포할 수 있도록 처리"
   ]
  },
  {
   "cell_type": "markdown",
   "id": "5b6abd3e",
   "metadata": {},
   "source": [
    "## raw_dataset에 있는 파일 불러오기"
   ]
  },
  {
   "cell_type": "code",
   "execution_count": 1,
   "id": "080a145b",
   "metadata": {},
   "outputs": [],
   "source": [
    "import os\n",
    "\n",
    "data_path =\"./raw_dataset\"\n",
    "file_list = os.listdir(data_path)\n",
    "\n",
    "file_path_list = []\n",
    "for file in file_list:\n",
    "    file_path_list.append(data_path + '/' + file)"
   ]
  },
  {
   "cell_type": "code",
   "execution_count": 2,
   "id": "f1f86718",
   "metadata": {},
   "outputs": [],
   "source": [
    "import pandas as pd\n",
    "import re\n",
    "\n",
    "df_dict = {}\n",
    "for file in file_path_list:\n",
    "    df = pd.read_csv(file)\n",
    "    keyword = re.search('./raw_dataset/(.+?)_dataset', file)\n",
    "    df_dict[keyword.group(1)] = df"
   ]
  },
  {
   "cell_type": "markdown",
   "id": "8d0cda5d",
   "metadata": {},
   "source": [
    "## 데이터 확인"
   ]
  },
  {
   "cell_type": "markdown",
   "id": "68f90927",
   "metadata": {},
   "source": [
    "### 수집에 사용한 키워드 확인"
   ]
  },
  {
   "cell_type": "code",
   "execution_count": 8,
   "id": "71db18b7",
   "metadata": {
    "scrolled": true
   },
   "outputs": [],
   "source": [
    "keywords = df_dict.keys()\n",
    "keywords = list(keywords)\n",
    "#keywords"
   ]
  },
  {
   "cell_type": "code",
   "execution_count": 9,
   "id": "d82ba52c",
   "metadata": {},
   "outputs": [
    {
     "data": {
      "text/plain": [
       "118"
      ]
     },
     "execution_count": 9,
     "metadata": {},
     "output_type": "execute_result"
    }
   ],
   "source": [
    "len(keywords)"
   ]
  },
  {
   "cell_type": "code",
   "execution_count": 10,
   "id": "95812853",
   "metadata": {},
   "outputs": [
    {
     "data": {
      "text/html": [
       "<div>\n",
       "<style scoped>\n",
       "    .dataframe tbody tr th:only-of-type {\n",
       "        vertical-align: middle;\n",
       "    }\n",
       "\n",
       "    .dataframe tbody tr th {\n",
       "        vertical-align: top;\n",
       "    }\n",
       "\n",
       "    .dataframe thead th {\n",
       "        text-align: right;\n",
       "    }\n",
       "</style>\n",
       "<table border=\"1\" class=\"dataframe\">\n",
       "  <thead>\n",
       "    <tr style=\"text-align: right;\">\n",
       "      <th></th>\n",
       "      <th>title</th>\n",
       "      <th>sub_title</th>\n",
       "      <th>body_text</th>\n",
       "      <th>keyword</th>\n",
       "    </tr>\n",
       "  </thead>\n",
       "  <tbody>\n",
       "    <tr>\n",
       "      <th>0</th>\n",
       "      <td>내 몸이 나에게 말을 걸다.</td>\n",
       "      <td>&lt;중년의 진로수업&gt;</td>\n",
       "      <td>\\n요즘은 모든 것이 스마트. 아침에 눈을 떠서 핸드폰을 열면 어플이 정확한 수면시...</td>\n",
       "      <td>['중년', '건강', '일상']</td>\n",
       "    </tr>\n",
       "    <tr>\n",
       "      <th>1</th>\n",
       "      <td>하체에서 전달되는 원인모를 통증 '좌골신경통'에 대해서</td>\n",
       "      <td>소리없이 찾아오는 불편한 소식 좌골신경통</td>\n",
       "      <td>\\n 어느 날 갑자기 관절주변에서 통증이 발생된다면 운동부족과 더불어 오랜시간 잘못...</td>\n",
       "      <td>['건강', '노인', '운동']</td>\n",
       "    </tr>\n",
       "    <tr>\n",
       "      <th>2</th>\n",
       "      <td>아찔한 순간</td>\n",
       "      <td>구급차를 또 타게 되다니</td>\n",
       "      <td>\\n명절 연휴가 끝나고 일상으로 돌아가는 첫날인 오늘\\n나는 하루의 휴가가 더 있어...</td>\n",
       "      <td>['구급차', '건강', '반성']</td>\n",
       "    </tr>\n",
       "    <tr>\n",
       "      <th>3</th>\n",
       "      <td>하루 한 권 독서</td>\n",
       "      <td>[당신은 뇌를 고칠 수 있다]-톰 브라이언</td>\n",
       "      <td>\\n지금 건강한 내가 5년 뒤에도 건강할 거라는 보장을 할 수 있을까? 건강에 대한...</td>\n",
       "      <td>['저자', '건강']</td>\n",
       "    </tr>\n",
       "    <tr>\n",
       "      <th>4</th>\n",
       "      <td>정신병동에서 일하는 심리학자</td>\n",
       "      <td>심리선생님 만나는 날!</td>\n",
       "      <td>\\n글 내용에 포함되는 모든 사례는 새롭게 구성하고 재가공된 사례입니다. 상담자는 ...</td>\n",
       "      <td>['심리학', '건강', '감성에세이']</td>\n",
       "    </tr>\n",
       "    <tr>\n",
       "      <th>5</th>\n",
       "      <td>폭식증! 이렇게 극복하세요</td>\n",
       "      <td>식이장애, 폭식습관 극복 할 수 있는 완벽한 방법</td>\n",
       "      <td>\\n폭식을 하면서 확실하게 느낀 게 있다. 허함을 채우려는 욕구, 먹으면 안 된다는...</td>\n",
       "      <td>['건강', '심리', '멘탈']</td>\n",
       "    </tr>\n",
       "    <tr>\n",
       "      <th>6</th>\n",
       "      <td>도수치료 10회권을 끊었다</td>\n",
       "      <td>바른 자세의 중요성</td>\n",
       "      <td>\\n\\n처음에는 '잠을 이상하게 자서 그런가'라고 가벼이 생각했다. 그런데 시간이 ...</td>\n",
       "      <td>['건강', '건강관리', '생활건강']</td>\n",
       "    </tr>\n",
       "    <tr>\n",
       "      <th>7</th>\n",
       "      <td>덤으로 주어진 하루</td>\n",
       "      <td>매너리즘의 극복</td>\n",
       "      <td>\\n“여전히 다른 사람들과 교류하는 건 힘드신가요?”\\n\\n“남들과 별로 이야기하고...</td>\n",
       "      <td>['에세이', '건강', '가족']</td>\n",
       "    </tr>\n",
       "    <tr>\n",
       "      <th>8</th>\n",
       "      <td>지금 떠나도 나쁘지 않을 것 같아</td>\n",
       "      <td>방향 전환</td>\n",
       "      <td>\\n“나 지금 정말 맨 정신이야. 정말 진지하게 생각해 봤는데 지금까지 내가 살아온...</td>\n",
       "      <td>['에세이', '건강', '가족']</td>\n",
       "    </tr>\n",
       "    <tr>\n",
       "      <th>9</th>\n",
       "      <td>담당선생님을 바꾸겠습니다</td>\n",
       "      <td>귀 기울여야 할 대상</td>\n",
       "      <td>\\n다시 만난 담당의는 남편에게 다시 걷지 못할 것이라 말했던 사실조차 기억하지 못...</td>\n",
       "      <td>['에세이', '건강', '가족']</td>\n",
       "    </tr>\n",
       "  </tbody>\n",
       "</table>\n",
       "</div>"
      ],
      "text/plain": [
       "                            title                    sub_title  \\\n",
       "0                내 몸이 나에게 말을 걸다.                    <중년의 진로수업>   \n",
       "1  하체에서 전달되는 원인모를 통증 '좌골신경통'에 대해서       소리없이 찾아오는 불편한 소식 좌골신경통   \n",
       "2                          아찔한 순간                구급차를 또 타게 되다니   \n",
       "3                       하루 한 권 독서      [당신은 뇌를 고칠 수 있다]-톰 브라이언   \n",
       "4                 정신병동에서 일하는 심리학자                 심리선생님 만나는 날!   \n",
       "5                  폭식증! 이렇게 극복하세요  식이장애, 폭식습관 극복 할 수 있는 완벽한 방법   \n",
       "6                  도수치료 10회권을 끊었다                   바른 자세의 중요성   \n",
       "7                      덤으로 주어진 하루                     매너리즘의 극복   \n",
       "8              지금 떠나도 나쁘지 않을 것 같아                        방향 전환   \n",
       "9                   담당선생님을 바꾸겠습니다                  귀 기울여야 할 대상   \n",
       "\n",
       "                                           body_text                 keyword  \n",
       "0  \\n요즘은 모든 것이 스마트. 아침에 눈을 떠서 핸드폰을 열면 어플이 정확한 수면시...      ['중년', '건강', '일상']  \n",
       "1  \\n 어느 날 갑자기 관절주변에서 통증이 발생된다면 운동부족과 더불어 오랜시간 잘못...      ['건강', '노인', '운동']  \n",
       "2  \\n명절 연휴가 끝나고 일상으로 돌아가는 첫날인 오늘\\n나는 하루의 휴가가 더 있어...     ['구급차', '건강', '반성']  \n",
       "3  \\n지금 건강한 내가 5년 뒤에도 건강할 거라는 보장을 할 수 있을까? 건강에 대한...            ['저자', '건강']  \n",
       "4  \\n글 내용에 포함되는 모든 사례는 새롭게 구성하고 재가공된 사례입니다. 상담자는 ...  ['심리학', '건강', '감성에세이']  \n",
       "5  \\n폭식을 하면서 확실하게 느낀 게 있다. 허함을 채우려는 욕구, 먹으면 안 된다는...      ['건강', '심리', '멘탈']  \n",
       "6  \\n\\n처음에는 '잠을 이상하게 자서 그런가'라고 가벼이 생각했다. 그런데 시간이 ...  ['건강', '건강관리', '생활건강']  \n",
       "7  \\n“여전히 다른 사람들과 교류하는 건 힘드신가요?”\\n\\n“남들과 별로 이야기하고...     ['에세이', '건강', '가족']  \n",
       "8  \\n“나 지금 정말 맨 정신이야. 정말 진지하게 생각해 봤는데 지금까지 내가 살아온...     ['에세이', '건강', '가족']  \n",
       "9  \\n다시 만난 담당의는 남편에게 다시 걷지 못할 것이라 말했던 사실조차 기억하지 못...     ['에세이', '건강', '가족']  "
      ]
     },
     "execution_count": 10,
     "metadata": {},
     "output_type": "execute_result"
    }
   ],
   "source": [
    "df_dict['건강'].loc[range(10), ['title','sub_title', 'body_text', 'keyword']]"
   ]
  },
  {
   "cell_type": "markdown",
   "id": "648f4c31",
   "metadata": {},
   "source": [
    "### 전체 에세이 수 확인"
   ]
  },
  {
   "cell_type": "code",
   "execution_count": 11,
   "id": "a926262c",
   "metadata": {},
   "outputs": [
    {
     "name": "stdout",
     "output_type": "stream",
     "text": [
      "전체 에세이 수: 1108528\n"
     ]
    }
   ],
   "source": [
    "num_essay = 0\n",
    "num_essay_tup = []\n",
    "for keyword in keywords:\n",
    "    #print(f\"{keyword}:{len(df_dict[keyword])}\")\n",
    "    num_essay_tup.append((keyword,len(df_dict[keyword])))\n",
    "    num_essay += len(df_dict[keyword])\n",
    "print(f\"전체 에세이 수: {num_essay}\")"
   ]
  },
  {
   "cell_type": "markdown",
   "id": "5affad8c",
   "metadata": {},
   "source": [
    "### 키워드별 에세이 수 시각화"
   ]
  },
  {
   "cell_type": "code",
   "execution_count": 12,
   "id": "c7f87417",
   "metadata": {
    "scrolled": true
   },
   "outputs": [
    {
     "data": {
      "image/png": "[encoded data removed]",
      "text/plain": [
       "<Figure size 1000x4000 with 1 Axes>"
      ]
     },
     "metadata": {},
     "output_type": "display_data"
    }
   ],
   "source": [
    "import matplotlib.pyplot as plt\n",
    "from matplotlib import font_manager, rc\n",
    "\n",
    "font_path = \"C:\\Windows\\Fonts\\malgun.ttf\"\n",
    "font = font_manager.FontProperties(fname=font_path).get_name()\n",
    "rc('font', family=font)\n",
    "\n",
    "x = [tup[0] for tup in num_essay_tup]\n",
    "y = [tup[1] for tup in num_essay_tup]\n",
    "\n",
    "plt.figure(figsize=(10, 40))\n",
    "plt.barh(x[::-1],y[::-1])\n",
    "plt.savefig('keyword_num_essay.png', dpi=300)\n",
    "plt.show()\n"
   ]
  },
  {
   "cell_type": "markdown",
   "id": "5a96c9a1",
   "metadata": {},
   "source": [
    "### 하나의 데이터프레임으로 합치기"
   ]
  },
  {
   "cell_type": "code",
   "execution_count": 13,
   "id": "4d838c5f",
   "metadata": {},
   "outputs": [],
   "source": [
    "df_list = df_dict.values()\n",
    "total_df = pd.concat(df_list, ignore_index=True)"
   ]
  },
  {
   "cell_type": "code",
   "execution_count": 14,
   "id": "54741a80",
   "metadata": {
    "scrolled": true
   },
   "outputs": [
    {
     "data": {
      "text/html": [
       "<div>\n",
       "<style scoped>\n",
       "    .dataframe tbody tr th:only-of-type {\n",
       "        vertical-align: middle;\n",
       "    }\n",
       "\n",
       "    .dataframe tbody tr th {\n",
       "        vertical-align: top;\n",
       "    }\n",
       "\n",
       "    .dataframe thead th {\n",
       "        text-align: right;\n",
       "    }\n",
       "</style>\n",
       "<table border=\"1\" class=\"dataframe\">\n",
       "  <thead>\n",
       "    <tr style=\"text-align: right;\">\n",
       "      <th></th>\n",
       "      <th>title</th>\n",
       "      <th>sub_title</th>\n",
       "      <th>body_text</th>\n",
       "      <th>keyword</th>\n",
       "      <th>likes</th>\n",
       "      <th>num_comments</th>\n",
       "      <th>post_date</th>\n",
       "      <th>post_url</th>\n",
       "      <th>author</th>\n",
       "      <th>author_id</th>\n",
       "      <th>author_belong</th>\n",
       "      <th>author_desc</th>\n",
       "      <th>num_subscription</th>\n",
       "    </tr>\n",
       "  </thead>\n",
       "  <tbody>\n",
       "    <tr>\n",
       "      <th>0</th>\n",
       "      <td>컴퓨터 비전 기술 활용 AI개발 사례</td>\n",
       "      <td>스노우같은 셀카앱을 만들고 싶다면</td>\n",
       "      <td>\\n\\n\\n오늘 다뤄볼 주제는 컴퓨터 비전이라는 기술입니다.\\n\\n우리가 흔히 알고...</td>\n",
       "      <td>['컴퓨터비전', '비전', 'AI']</td>\n",
       "      <td>4</td>\n",
       "      <td>0</td>\n",
       "      <td>2023-01-25</td>\n",
       "      <td>https://brunch.co.kr/@brunchk1wj/57</td>\n",
       "      <td>김성장</td>\n",
       "      <td>@brunchk1wj</td>\n",
       "      <td>CEO</td>\n",
       "      <td>AI 솔루션 스타트업, 디피니트 대표 김도환입니다.</td>\n",
       "      <td>38</td>\n",
       "    </tr>\n",
       "    <tr>\n",
       "      <th>1</th>\n",
       "      <td>AI 어시스턴트의 보이스를 통한 이모티콘 활용 방법</td>\n",
       "      <td>Part 2. 탐구생활 #2</td>\n",
       "      <td>\\n현대 사회의 커뮤니케이션\\n\\n현대 사회는 스마트폰을 통해서 시공간적 제약의 한...</td>\n",
       "      <td>['이모티콘', 'AI', 'UX디자인']</td>\n",
       "      <td>8</td>\n",
       "      <td>0</td>\n",
       "      <td>2023-01-25</td>\n",
       "      <td>https://brunch.co.kr/@soonkyujang/119</td>\n",
       "      <td>Qsigner</td>\n",
       "      <td>@soonkyujang</td>\n",
       "      <td>디자이너</td>\n",
       "      <td>일상의 소소한 소재를 탐구하고, 호기심을 상식으로 써내려가는 잡지식의 UX 디자이너.</td>\n",
       "      <td>2329</td>\n",
       "    </tr>\n",
       "    <tr>\n",
       "      <th>2</th>\n",
       "      <td>AI기반 프레젠테이션 자동생성 솔루션 tome 소개</td>\n",
       "      <td>NaN</td>\n",
       "      <td>\\n아래 글은 Generative Tech 스터디 1기에서 작성한 글입니다. Gen...</td>\n",
       "      <td>['프레젠테이션', '생산성', 'AI']</td>\n",
       "      <td>7</td>\n",
       "      <td>0</td>\n",
       "      <td>2023-01-25</td>\n",
       "      <td>https://brunch.co.kr/@taewookim/75</td>\n",
       "      <td>TaeWoo Kim</td>\n",
       "      <td>@taewookim</td>\n",
       "      <td>CEO</td>\n",
       "      <td>내 지식과 경험을 수익으로 만드는 가장 쉬운 방법 에브리크리 (링크트리+ 내상품판매...</td>\n",
       "      <td>1384</td>\n",
       "    </tr>\n",
       "    <tr>\n",
       "      <th>3</th>\n",
       "      <td>계산기같은 ChatGPT</td>\n",
       "      <td>검색을 넘어서는 원샷원킬일까?</td>\n",
       "      <td>\\n구글마저 긴장케할 정도로 파죽지세로 뜨거운 감자가 되고 있는 OpenAI의 대화...</td>\n",
       "      <td>['검색', 'AI', '계산기']</td>\n",
       "      <td>10</td>\n",
       "      <td>0</td>\n",
       "      <td>2023-01-25</td>\n",
       "      <td>https://brunch.co.kr/@ioojoo/236</td>\n",
       "      <td>OOJOO</td>\n",
       "      <td>@ioojoo</td>\n",
       "      <td>출간작가</td>\n",
       "      <td>디지털 기술이 사회와 산업 그리고 기업과 개인에 가져다 주는 변화와 이에 대한 대응...</td>\n",
       "      <td>2248</td>\n",
       "    </tr>\n",
       "    <tr>\n",
       "      <th>4</th>\n",
       "      <td>AI로 이미지 만들기 (매우 쉬움)</td>\n",
       "      <td>Midjourney 사용 후기</td>\n",
       "      <td>\\n요즘 AI로 인터넷이 난리도 아니다. 특히 챗GPT. OpenAI사에서 신규로 ...</td>\n",
       "      <td>['AI', '인공지능', '챗봇']</td>\n",
       "      <td>15</td>\n",
       "      <td>1</td>\n",
       "      <td>2023-01-25</td>\n",
       "      <td>https://brunch.co.kr/@khakiparka/32</td>\n",
       "      <td>카키파카</td>\n",
       "      <td>@khakiparka</td>\n",
       "      <td>에세이스트</td>\n",
       "      <td>Put on a parka and walk.</td>\n",
       "      <td>10</td>\n",
       "    </tr>\n",
       "    <tr>\n",
       "      <th>...</th>\n",
       "      <td>...</td>\n",
       "      <td>...</td>\n",
       "      <td>...</td>\n",
       "      <td>...</td>\n",
       "      <td>...</td>\n",
       "      <td>...</td>\n",
       "      <td>...</td>\n",
       "      <td>...</td>\n",
       "      <td>...</td>\n",
       "      <td>...</td>\n",
       "      <td>...</td>\n",
       "      <td>...</td>\n",
       "      <td>...</td>\n",
       "    </tr>\n",
       "    <tr>\n",
       "      <th>1108523</th>\n",
       "      <td>박지연</td>\n",
       "      <td>마녀를 만난 사회초년생</td>\n",
       "      <td>\\n지연은 운이 좋게도 졸업 직전에 취업에 성공했다. 대기업 계열사인 모 광고회사의...</td>\n",
       "      <td>['마녀', '사회생활', '회사']</td>\n",
       "      <td>1</td>\n",
       "      <td>19</td>\n",
       "      <td>2015-07-21</td>\n",
       "      <td>https://brunch.co.kr/@daljasee/20</td>\n",
       "      <td>고수리</td>\n",
       "      <td>@daljasee</td>\n",
       "      <td>에세이스트</td>\n",
       "      <td>책과 펜과 밤과 마음을 쓰는 에세이스트</td>\n",
       "      <td>19000</td>\n",
       "    </tr>\n",
       "    <tr>\n",
       "      <th>1108524</th>\n",
       "      <td>나의 이직 경험기.</td>\n",
       "      <td>긴 글을 쓰는 건 어려운 일이네요.</td>\n",
       "      <td>\\n나는 세 곳의 직장에서 일을 했고, 네 번째 직장에서 일하고 있어요.\\n\\n나는...</td>\n",
       "      <td>['이직', '직장', '회사']</td>\n",
       "      <td>1</td>\n",
       "      <td>12</td>\n",
       "      <td>2015-07-04</td>\n",
       "      <td>https://brunch.co.kr/@daeheejang/6</td>\n",
       "      <td>장대희</td>\n",
       "      <td>@daeheejang</td>\n",
       "      <td>개발자</td>\n",
       "      <td>개발자</td>\n",
       "      <td>196</td>\n",
       "    </tr>\n",
       "    <tr>\n",
       "      <th>1108525</th>\n",
       "      <td>아빠, 아버지.</td>\n",
       "      <td>NaN</td>\n",
       "      <td>\\n내가 어릴적엔 아버지는 \\n힘세고, 무섭고, 과묵하고... \\n매일같이 일만하는...</td>\n",
       "      <td>['주말', '여행', '회사']</td>\n",
       "      <td>0</td>\n",
       "      <td>11</td>\n",
       "      <td>2015-07-01</td>\n",
       "      <td>https://brunch.co.kr/@legoilgi/4</td>\n",
       "      <td>레고일기 Legoilgi</td>\n",
       "      <td>@legoilgi</td>\n",
       "      <td>디자이너</td>\n",
       "      <td>레고로 일상을 기록하다.</td>\n",
       "      <td>45</td>\n",
       "    </tr>\n",
       "    <tr>\n",
       "      <th>1108526</th>\n",
       "      <td>창작자는 꼭 혼자여야 할까?</td>\n",
       "      <td>We-freekey와 Freekey.co 에 대한 블라블라</td>\n",
       "      <td>\\n스토리 제목은 \"팝아티스트의 회사 만들기(이전 제목)\"인데 실제 회사 만들기는 ...</td>\n",
       "      <td>['혼자여야', '회사', '창작자']</td>\n",
       "      <td>1</td>\n",
       "      <td>2</td>\n",
       "      <td>2015-07-01</td>\n",
       "      <td>https://brunch.co.kr/@reeccu/3</td>\n",
       "      <td>릭킴 Rickkim</td>\n",
       "      <td>@reeccu</td>\n",
       "      <td>아티스트</td>\n",
       "      <td>내 안에 있는 무언가를 현실로 가져오고 싶어 발버둥치는 사람입니다. 이야기를 하고 ...</td>\n",
       "      <td>1101</td>\n",
       "    </tr>\n",
       "    <tr>\n",
       "      <th>1108527</th>\n",
       "      <td>2015년 5월 3일의 나.</td>\n",
       "      <td>누군가의 시점에서 바라본 나. 릭의 첫 번째 인터뷰.</td>\n",
       "      <td>\\n지난번 인터뷰이 모집 시에 미리 신청을 받아 둔 팝아티스트 Rick 씨, 인터뷰...</td>\n",
       "      <td>['인터뷰', '회사', '직장']</td>\n",
       "      <td>2</td>\n",
       "      <td>3</td>\n",
       "      <td>2015-06-25</td>\n",
       "      <td>https://brunch.co.kr/@reeccu/1</td>\n",
       "      <td>릭킴 Rickkim</td>\n",
       "      <td>@reeccu</td>\n",
       "      <td>아티스트</td>\n",
       "      <td>내 안에 있는 무언가를 현실로 가져오고 싶어 발버둥치는 사람입니다. 이야기를 하고 ...</td>\n",
       "      <td>1101</td>\n",
       "    </tr>\n",
       "  </tbody>\n",
       "</table>\n",
       "<p>1108528 rows × 13 columns</p>\n",
       "</div>"
      ],
      "text/plain": [
       "                                title                         sub_title  \\\n",
       "0               컴퓨터 비전 기술 활용 AI개발 사례                 스노우같은 셀카앱을 만들고 싶다면   \n",
       "1        AI 어시스턴트의 보이스를 통한 이모티콘 활용 방법                   Part 2. 탐구생활 #2   \n",
       "2        AI기반 프레젠테이션 자동생성 솔루션 tome 소개                               NaN   \n",
       "3                       계산기같은 ChatGPT                  검색을 넘어서는 원샷원킬일까?   \n",
       "4                 AI로 이미지 만들기 (매우 쉬움)                  Midjourney 사용 후기   \n",
       "...                               ...                               ...   \n",
       "1108523                           박지연                      마녀를 만난 사회초년생   \n",
       "1108524                    나의 이직 경험기.               긴 글을 쓰는 건 어려운 일이네요.   \n",
       "1108525                      아빠, 아버지.                               NaN   \n",
       "1108526               창작자는 꼭 혼자여야 할까?  We-freekey와 Freekey.co 에 대한 블라블라   \n",
       "1108527               2015년 5월 3일의 나.     누군가의 시점에서 바라본 나. 릭의 첫 번째 인터뷰.   \n",
       "\n",
       "                                                 body_text  \\\n",
       "0        \\n\\n\\n오늘 다뤄볼 주제는 컴퓨터 비전이라는 기술입니다.\\n\\n우리가 흔히 알고...   \n",
       "1        \\n현대 사회의 커뮤니케이션\\n\\n현대 사회는 스마트폰을 통해서 시공간적 제약의 한...   \n",
       "2        \\n아래 글은 Generative Tech 스터디 1기에서 작성한 글입니다. Gen...   \n",
       "3        \\n구글마저 긴장케할 정도로 파죽지세로 뜨거운 감자가 되고 있는 OpenAI의 대화...   \n",
       "4        \\n요즘 AI로 인터넷이 난리도 아니다. 특히 챗GPT. OpenAI사에서 신규로 ...   \n",
       "...                                                    ...   \n",
       "1108523  \\n지연은 운이 좋게도 졸업 직전에 취업에 성공했다. 대기업 계열사인 모 광고회사의...   \n",
       "1108524  \\n나는 세 곳의 직장에서 일을 했고, 네 번째 직장에서 일하고 있어요.\\n\\n나는...   \n",
       "1108525  \\n내가 어릴적엔 아버지는 \\n힘세고, 무섭고, 과묵하고... \\n매일같이 일만하는...   \n",
       "1108526  \\n스토리 제목은 \"팝아티스트의 회사 만들기(이전 제목)\"인데 실제 회사 만들기는 ...   \n",
       "1108527  \\n지난번 인터뷰이 모집 시에 미리 신청을 받아 둔 팝아티스트 Rick 씨, 인터뷰...   \n",
       "\n",
       "                         keyword  likes  num_comments    post_date  \\\n",
       "0          ['컴퓨터비전', '비전', 'AI']      4             0   2023-01-25   \n",
       "1        ['이모티콘', 'AI', 'UX디자인']      8             0   2023-01-25   \n",
       "2        ['프레젠테이션', '생산성', 'AI']      7             0   2023-01-25   \n",
       "3            ['검색', 'AI', '계산기']     10             0   2023-01-25   \n",
       "4           ['AI', '인공지능', '챗봇']     15             1   2023-01-25   \n",
       "...                          ...    ...           ...          ...   \n",
       "1108523     ['마녀', '사회생활', '회사']      1            19   2015-07-21   \n",
       "1108524       ['이직', '직장', '회사']      1            12   2015-07-04   \n",
       "1108525       ['주말', '여행', '회사']      0            11   2015-07-01   \n",
       "1108526    ['혼자여야', '회사', '창작자']      1             2   2015-07-01   \n",
       "1108527      ['인터뷰', '회사', '직장']      2             3   2015-06-25   \n",
       "\n",
       "                                      post_url         author     author_id  \\\n",
       "0          https://brunch.co.kr/@brunchk1wj/57            김성장   @brunchk1wj   \n",
       "1        https://brunch.co.kr/@soonkyujang/119        Qsigner  @soonkyujang   \n",
       "2           https://brunch.co.kr/@taewookim/75     TaeWoo Kim    @taewookim   \n",
       "3             https://brunch.co.kr/@ioojoo/236          OOJOO       @ioojoo   \n",
       "4          https://brunch.co.kr/@khakiparka/32           카키파카   @khakiparka   \n",
       "...                                        ...            ...           ...   \n",
       "1108523      https://brunch.co.kr/@daljasee/20            고수리     @daljasee   \n",
       "1108524     https://brunch.co.kr/@daeheejang/6            장대희   @daeheejang   \n",
       "1108525       https://brunch.co.kr/@legoilgi/4  레고일기 Legoilgi     @legoilgi   \n",
       "1108526         https://brunch.co.kr/@reeccu/3     릭킴 Rickkim       @reeccu   \n",
       "1108527         https://brunch.co.kr/@reeccu/1     릭킴 Rickkim       @reeccu   \n",
       "\n",
       "        author_belong                                        author_desc  \\\n",
       "0                 CEO                       AI 솔루션 스타트업, 디피니트 대표 김도환입니다.   \n",
       "1                디자이너    일상의 소소한 소재를 탐구하고, 호기심을 상식으로 써내려가는 잡지식의 UX 디자이너.   \n",
       "2                 CEO  내 지식과 경험을 수익으로 만드는 가장 쉬운 방법 에브리크리 (링크트리+ 내상품판매...   \n",
       "3                출간작가  디지털 기술이 사회와 산업 그리고 기업과 개인에 가져다 주는 변화와 이에 대한 대응...   \n",
       "4               에세이스트                           Put on a parka and walk.   \n",
       "...               ...                                                ...   \n",
       "1108523         에세이스트                              책과 펜과 밤과 마음을 쓰는 에세이스트   \n",
       "1108524           개발자                                                개발자   \n",
       "1108525          디자이너                                     레고로 일상을 기록하다.    \n",
       "1108526          아티스트  내 안에 있는 무언가를 현실로 가져오고 싶어 발버둥치는 사람입니다. 이야기를 하고 ...   \n",
       "1108527          아티스트  내 안에 있는 무언가를 현실로 가져오고 싶어 발버둥치는 사람입니다. 이야기를 하고 ...   \n",
       "\n",
       "         num_subscription  \n",
       "0                      38  \n",
       "1                    2329  \n",
       "2                    1384  \n",
       "3                    2248  \n",
       "4                      10  \n",
       "...                   ...  \n",
       "1108523             19000  \n",
       "1108524               196  \n",
       "1108525                45  \n",
       "1108526              1101  \n",
       "1108527              1101  \n",
       "\n",
       "[1108528 rows x 13 columns]"
      ]
     },
     "execution_count": 14,
     "metadata": {},
     "output_type": "execute_result"
    }
   ],
   "source": [
    "total_df"
   ]
  },
  {
   "cell_type": "markdown",
   "id": "3f01e657",
   "metadata": {},
   "source": [
    "### 데이터 프레임 속성 확인"
   ]
  },
  {
   "cell_type": "code",
   "execution_count": 17,
   "id": "e9c5d5ce",
   "metadata": {
    "scrolled": false
   },
   "outputs": [
    {
     "name": "stdout",
     "output_type": "stream",
     "text": [
      "<class 'pandas.core.frame.DataFrame'>\n",
      "RangeIndex: 1108528 entries, 0 to 1108527\n",
      "Data columns (total 13 columns):\n",
      " #   Column            Non-Null Count    Dtype \n",
      "---  ------            --------------    ----- \n",
      " 0   title             1108488 non-null  object\n",
      " 1   sub_title         815452 non-null   object\n",
      " 2   body_text         1102783 non-null  object\n",
      " 3   keyword           1108528 non-null  object\n",
      " 4   likes             1108528 non-null  int64 \n",
      " 5   num_comments      1108528 non-null  int64 \n",
      " 6   post_date         1108528 non-null  object\n",
      " 7   post_url          1108528 non-null  object\n",
      " 8   author            1108408 non-null  object\n",
      " 9   author_id         1108528 non-null  object\n",
      " 10  author_belong     845850 non-null   object\n",
      " 11  author_desc       1107648 non-null  object\n",
      " 12  num_subscription  1108528 non-null  int64 \n",
      "dtypes: int64(3), object(10)\n",
      "memory usage: 109.9+ MB\n"
     ]
    }
   ],
   "source": [
    "total_df.info()"
   ]
  },
  {
   "cell_type": "markdown",
   "id": "8af4c201",
   "metadata": {},
   "source": [
    "### 결측치 확인\n",
    "\n",
    "각 column의 결측치 확인"
   ]
  },
  {
   "cell_type": "code",
   "execution_count": 18,
   "id": "0de13354",
   "metadata": {
    "scrolled": false
   },
   "outputs": [
    {
     "data": {
      "text/plain": [
       "title                   40\n",
       "sub_title           293076\n",
       "body_text             5745\n",
       "keyword                  0\n",
       "likes                    0\n",
       "num_comments             0\n",
       "post_date                0\n",
       "post_url                 0\n",
       "author                 120\n",
       "author_id                0\n",
       "author_belong       262678\n",
       "author_desc            880\n",
       "num_subscription         0\n",
       "dtype: int64"
      ]
     },
     "execution_count": 18,
     "metadata": {},
     "output_type": "execute_result"
    }
   ],
   "source": [
    "total_df.isnull().sum()"
   ]
  },
  {
   "cell_type": "markdown",
   "id": "a472ea1b",
   "metadata": {},
   "source": [
    "#### 결측치 제거하기\n",
    "* body_text가 null인 행\n",
    "* title이 null인 행"
   ]
  },
  {
   "cell_type": "code",
   "execution_count": 19,
   "id": "83e1fd69",
   "metadata": {},
   "outputs": [
    {
     "data": {
      "text/plain": [
       "title                    0\n",
       "sub_title           290979\n",
       "body_text                0\n",
       "keyword                  0\n",
       "likes                    0\n",
       "num_comments             0\n",
       "post_date                0\n",
       "post_url                 0\n",
       "author                 120\n",
       "author_id                0\n",
       "author_belong       261613\n",
       "author_desc            879\n",
       "num_subscription         0\n",
       "dtype: int64"
      ]
     },
     "execution_count": 19,
     "metadata": {},
     "output_type": "execute_result"
    }
   ],
   "source": [
    "total_df = total_df.dropna(subset=['body_text'])\n",
    "total_df = total_df.dropna(subset=['title'])\n",
    "total_df.reset_index(inplace=True, drop=True) # 인덱스 초기화\n",
    "total_df.isnull().sum()"
   ]
  },
  {
   "cell_type": "markdown",
   "id": "b497737a",
   "metadata": {},
   "source": [
    "### url 기준 중복 제거 "
   ]
  },
  {
   "cell_type": "code",
   "execution_count": 20,
   "id": "a5276f77",
   "metadata": {},
   "outputs": [
    {
     "name": "stdout",
     "output_type": "stream",
     "text": [
      "<class 'pandas.core.frame.DataFrame'>\n",
      "RangeIndex: 1102743 entries, 0 to 1102742\n",
      "Data columns (total 13 columns):\n",
      " #   Column            Non-Null Count    Dtype \n",
      "---  ------            --------------    ----- \n",
      " 0   title             1102743 non-null  object\n",
      " 1   sub_title         811764 non-null   object\n",
      " 2   body_text         1102743 non-null  object\n",
      " 3   keyword           1102743 non-null  object\n",
      " 4   likes             1102743 non-null  int64 \n",
      " 5   num_comments      1102743 non-null  int64 \n",
      " 6   post_date         1102743 non-null  object\n",
      " 7   post_url          1102743 non-null  object\n",
      " 8   author            1102623 non-null  object\n",
      " 9   author_id         1102743 non-null  object\n",
      " 10  author_belong     841130 non-null   object\n",
      " 11  author_desc       1101864 non-null  object\n",
      " 12  num_subscription  1102743 non-null  int64 \n",
      "dtypes: int64(3), object(10)\n",
      "memory usage: 109.4+ MB\n"
     ]
    }
   ],
   "source": [
    "total_df.info()"
   ]
  },
  {
   "cell_type": "code",
   "execution_count": 21,
   "id": "2b293b85",
   "metadata": {},
   "outputs": [],
   "source": [
    "# url 기준 중복 제거\n",
    "total_df = total_df.drop_duplicates(['post_url'])\n",
    "total_df.reset_index(inplace=True, drop=True) # 인덱스 초기화"
   ]
  },
  {
   "cell_type": "code",
   "execution_count": 22,
   "id": "72e654fa",
   "metadata": {},
   "outputs": [
    {
     "name": "stdout",
     "output_type": "stream",
     "text": [
      "<class 'pandas.core.frame.DataFrame'>\n",
      "RangeIndex: 857807 entries, 0 to 857806\n",
      "Data columns (total 13 columns):\n",
      " #   Column            Non-Null Count   Dtype \n",
      "---  ------            --------------   ----- \n",
      " 0   title             857807 non-null  object\n",
      " 1   sub_title         629829 non-null  object\n",
      " 2   body_text         857807 non-null  object\n",
      " 3   keyword           857807 non-null  object\n",
      " 4   likes             857807 non-null  int64 \n",
      " 5   num_comments      857807 non-null  int64 \n",
      " 6   post_date         857807 non-null  object\n",
      " 7   post_url          857807 non-null  object\n",
      " 8   author            857717 non-null  object\n",
      " 9   author_id         857807 non-null  object\n",
      " 10  author_belong     652065 non-null  object\n",
      " 11  author_desc       857098 non-null  object\n",
      " 12  num_subscription  857807 non-null  int64 \n",
      "dtypes: int64(3), object(10)\n",
      "memory usage: 85.1+ MB\n"
     ]
    }
   ],
   "source": [
    "total_df.info()"
   ]
  },
  {
   "cell_type": "markdown",
   "id": "f2cd50b3",
   "metadata": {},
   "source": [
    "총 **857,807**개의 에세이 수집됨"
   ]
  },
  {
   "cell_type": "markdown",
   "id": "92d0ab10",
   "metadata": {},
   "source": [
    "### 좋아요(likes)가 10개 이상인 행만 추출\n",
    "\n",
    "사람들이 누른 좋아요(하트)는 글의 퀄리티를 나타내는 지표가 될 수 있음. \n",
    "\n",
    "고퀄리티의 에세이를 추출하기 위해 좋아요가 10개 이상인 글만 추출"
   ]
  },
  {
   "cell_type": "code",
   "execution_count": 119,
   "id": "8457855c",
   "metadata": {},
   "outputs": [
    {
     "data": {
      "text/plain": [
       "423967"
      ]
     },
     "execution_count": 119,
     "metadata": {},
     "output_type": "execute_result"
    }
   ],
   "source": [
    "high_quality_essay = total_df['likes'] >= 10\n",
    "high_quality_essay.sum()"
   ]
  },
  {
   "cell_type": "code",
   "execution_count": 123,
   "id": "59b6060d",
   "metadata": {},
   "outputs": [],
   "source": [
    "hqe_df = total_df[high_quality_essay]\n",
    "hqe_df = hqe_df.reset_index()"
   ]
  },
  {
   "cell_type": "code",
   "execution_count": 124,
   "id": "5cbf862b",
   "metadata": {},
   "outputs": [
    {
     "name": "stdout",
     "output_type": "stream",
     "text": [
      "<class 'pandas.core.frame.DataFrame'>\n",
      "RangeIndex: 423967 entries, 0 to 423966\n",
      "Data columns (total 14 columns):\n",
      " #   Column            Non-Null Count   Dtype \n",
      "---  ------            --------------   ----- \n",
      " 0   index             423967 non-null  int64 \n",
      " 1   title             423967 non-null  object\n",
      " 2   sub_title         311981 non-null  object\n",
      " 3   body_text         423967 non-null  object\n",
      " 4   keyword           423967 non-null  object\n",
      " 5   likes             423967 non-null  int64 \n",
      " 6   num_comments      423967 non-null  int64 \n",
      " 7   post_date         423967 non-null  object\n",
      " 8   post_url          423967 non-null  object\n",
      " 9   author            423894 non-null  object\n",
      " 10  author_id         423967 non-null  object\n",
      " 11  author_belong     342634 non-null  object\n",
      " 12  author_desc       423879 non-null  object\n",
      " 13  num_subscription  423967 non-null  int64 \n",
      "dtypes: int64(4), object(10)\n",
      "memory usage: 45.3+ MB\n"
     ]
    }
   ],
   "source": [
    "hqe_df.info()"
   ]
  },
  {
   "cell_type": "markdown",
   "id": "bf9aaf30",
   "metadata": {},
   "source": [
    "### 필요한 컬럼만 선택하기\n",
    "\n",
    "에세이 생성을 위한 데이터셋에는\n",
    "\n",
    "* title\n",
    "* sub_title\n",
    "* body_text\n",
    "* keyword\n",
    "* likes\n",
    "* post_date\n",
    "* post_url\n",
    "* author_id\n",
    "\n",
    "컬럼만 포함시킬 것이다."
   ]
  },
  {
   "cell_type": "code",
   "execution_count": 125,
   "id": "b62cd276",
   "metadata": {
    "scrolled": true
   },
   "outputs": [
    {
     "data": {
      "text/html": [
       "<div>\n",
       "<style scoped>\n",
       "    .dataframe tbody tr th:only-of-type {\n",
       "        vertical-align: middle;\n",
       "    }\n",
       "\n",
       "    .dataframe tbody tr th {\n",
       "        vertical-align: top;\n",
       "    }\n",
       "\n",
       "    .dataframe thead th {\n",
       "        text-align: right;\n",
       "    }\n",
       "</style>\n",
       "<table border=\"1\" class=\"dataframe\">\n",
       "  <thead>\n",
       "    <tr style=\"text-align: right;\">\n",
       "      <th></th>\n",
       "      <th>title</th>\n",
       "      <th>sub_title</th>\n",
       "      <th>body_text</th>\n",
       "      <th>keyword</th>\n",
       "      <th>likes</th>\n",
       "      <th>post_date</th>\n",
       "      <th>post_url</th>\n",
       "      <th>author_id</th>\n",
       "    </tr>\n",
       "  </thead>\n",
       "  <tbody>\n",
       "    <tr>\n",
       "      <th>0</th>\n",
       "      <td>계산기같은 ChatGPT</td>\n",
       "      <td>검색을 넘어서는 원샷원킬일까?</td>\n",
       "      <td>\\n구글마저 긴장케할 정도로 파죽지세로 뜨거운 감자가 되고 있는 OpenAI의 대화...</td>\n",
       "      <td>['검색', 'AI', '계산기']</td>\n",
       "      <td>10</td>\n",
       "      <td>2023-01-25</td>\n",
       "      <td>https://brunch.co.kr/@ioojoo/236</td>\n",
       "      <td>@ioojoo</td>\n",
       "    </tr>\n",
       "    <tr>\n",
       "      <th>1</th>\n",
       "      <td>AI로 이미지 만들기 (매우 쉬움)</td>\n",
       "      <td>Midjourney 사용 후기</td>\n",
       "      <td>\\n요즘 AI로 인터넷이 난리도 아니다. 특히 챗GPT. OpenAI사에서 신규로 ...</td>\n",
       "      <td>['AI', '인공지능', '챗봇']</td>\n",
       "      <td>15</td>\n",
       "      <td>2023-01-25</td>\n",
       "      <td>https://brunch.co.kr/@khakiparka/32</td>\n",
       "      <td>@khakiparka</td>\n",
       "    </tr>\n",
       "    <tr>\n",
       "      <th>2</th>\n",
       "      <td>AI 시스템을 강화하는 휴먼인더루프(HITL)</td>\n",
       "      <td>'Human-In-The-Loop'의 정의와 빅테크기업의 솔루션을 설명</td>\n",
       "      <td>\\n이 글은 제가 삼성 SDS &lt; 인사이트 리포트 &gt; 2022년 11월 30일에 기...</td>\n",
       "      <td>['AI', '루프', '휴먼']</td>\n",
       "      <td>10</td>\n",
       "      <td>2023-01-23</td>\n",
       "      <td>https://brunch.co.kr/@ywkim36/102</td>\n",
       "      <td>@ywkim36</td>\n",
       "    </tr>\n",
       "    <tr>\n",
       "      <th>3</th>\n",
       "      <td>AI로 할 수 있는 걸 평가할 때 던져 볼 만한 질문들</td>\n",
       "      <td>NaN</td>\n",
       "      <td>\\nAI는 잘할 수 있는 것도 많지만 여전히 한계도 있다. AI로 이런 것도 할 수...</td>\n",
       "      <td>['AI', '책이야기', 'IT']</td>\n",
       "      <td>11</td>\n",
       "      <td>2023-01-23</td>\n",
       "      <td>https://brunch.co.kr/@delight412/532</td>\n",
       "      <td>@delight412</td>\n",
       "    </tr>\n",
       "    <tr>\n",
       "      <th>4</th>\n",
       "      <td>나는 생각한다. 고로 존재한다.</td>\n",
       "      <td>[10년 후 더 빛나는 책] 커넥톰 (승현준 지음)</td>\n",
       "      <td>\\n인류의 난제 중 하나는, 인간의 뇌가 동작하는 원리를 밝혀내는 것이다. 인간의 ...</td>\n",
       "      <td>['AI', '뇌과학', '과학기술']</td>\n",
       "      <td>12</td>\n",
       "      <td>2023-01-22</td>\n",
       "      <td>https://brunch.co.kr/@waybridge/88</td>\n",
       "      <td>@waybridge</td>\n",
       "    </tr>\n",
       "    <tr>\n",
       "      <th>...</th>\n",
       "      <td>...</td>\n",
       "      <td>...</td>\n",
       "      <td>...</td>\n",
       "      <td>...</td>\n",
       "      <td>...</td>\n",
       "      <td>...</td>\n",
       "      <td>...</td>\n",
       "      <td>...</td>\n",
       "    </tr>\n",
       "    <tr>\n",
       "      <th>423962</th>\n",
       "      <td>14. 미지근한 피로</td>\n",
       "      <td>NaN</td>\n",
       "      <td>\\n\\n\\n1. \\n\\n내가 태어났을 때, 엄마 뱃속을 헤집고 나오는 건 정말 피곤...</td>\n",
       "      <td>['피로', '자기계발', '회사']</td>\n",
       "      <td>29</td>\n",
       "      <td>2015-10-16</td>\n",
       "      <td>https://brunch.co.kr/@suhanjang/23</td>\n",
       "      <td>@suhanjang</td>\n",
       "    </tr>\n",
       "    <tr>\n",
       "      <th>423963</th>\n",
       "      <td>11. '칼퇴' 없는 세상</td>\n",
       "      <td>NaN</td>\n",
       "      <td>\\n\\n\\n1. \\n복도 쪽이 술렁였다. 사람들의 시선이 일제히 한 곳으로 쏠렸다....</td>\n",
       "      <td>['칼퇴', '관리', '회사']</td>\n",
       "      <td>29</td>\n",
       "      <td>2015-09-23</td>\n",
       "      <td>https://brunch.co.kr/@suhanjang/10</td>\n",
       "      <td>@suhanjang</td>\n",
       "    </tr>\n",
       "    <tr>\n",
       "      <th>423964</th>\n",
       "      <td>10. 눈치보니즘</td>\n",
       "      <td>NaN</td>\n",
       "      <td>\\n\\n\\n1.\\n입사한지 한 달 후 쯤의 일이다. \\n어쩌다 본사 신입사원 간담회...</td>\n",
       "      <td>['눈치', '신입', '회사']</td>\n",
       "      <td>36</td>\n",
       "      <td>2015-09-21</td>\n",
       "      <td>https://brunch.co.kr/@suhanjang/16</td>\n",
       "      <td>@suhanjang</td>\n",
       "    </tr>\n",
       "    <tr>\n",
       "      <th>423965</th>\n",
       "      <td>07. 피고용자 사회</td>\n",
       "      <td>NaN</td>\n",
       "      <td>\\n\\n\\n1. 피고용자\\n\\n'피고용자(employee)'라는 말은 1940년대 ...</td>\n",
       "      <td>['회사', '고용', '자기계발']</td>\n",
       "      <td>35</td>\n",
       "      <td>2015-09-10</td>\n",
       "      <td>https://brunch.co.kr/@suhanjang/9</td>\n",
       "      <td>@suhanjang</td>\n",
       "    </tr>\n",
       "    <tr>\n",
       "      <th>423966</th>\n",
       "      <td>프리랜서가 멋지다고? 웃기시네!</td>\n",
       "      <td>지극히 개인적인 프리랜서 생존기 (1) 나는 어떻게 세상 밖으로 나왔나</td>\n",
       "      <td>\\n2013년 11월 30일,\\n두번째로 적을 두었던 회사에서 나왔다.\\n\\n그리고...</td>\n",
       "      <td>['회사', '프리랜서']</td>\n",
       "      <td>10</td>\n",
       "      <td>2015-08-10</td>\n",
       "      <td>https://brunch.co.kr/@nergul01/2</td>\n",
       "      <td>@nergul01</td>\n",
       "    </tr>\n",
       "  </tbody>\n",
       "</table>\n",
       "<p>423967 rows × 8 columns</p>\n",
       "</div>"
      ],
      "text/plain": [
       "                                 title  \\\n",
       "0                        계산기같은 ChatGPT   \n",
       "1                  AI로 이미지 만들기 (매우 쉬움)   \n",
       "2            AI 시스템을 강화하는 휴먼인더루프(HITL)   \n",
       "3       AI로 할 수 있는 걸 평가할 때 던져 볼 만한 질문들   \n",
       "4                    나는 생각한다. 고로 존재한다.   \n",
       "...                                ...   \n",
       "423962                     14. 미지근한 피로   \n",
       "423963                  11. '칼퇴' 없는 세상   \n",
       "423964                       10. 눈치보니즘   \n",
       "423965                     07. 피고용자 사회   \n",
       "423966               프리랜서가 멋지다고? 웃기시네!   \n",
       "\n",
       "                                      sub_title  \\\n",
       "0                              검색을 넘어서는 원샷원킬일까?   \n",
       "1                              Midjourney 사용 후기   \n",
       "2       'Human-In-The-Loop'의 정의와 빅테크기업의 솔루션을 설명   \n",
       "3                                           NaN   \n",
       "4                  [10년 후 더 빛나는 책] 커넥톰 (승현준 지음)   \n",
       "...                                         ...   \n",
       "423962                                      NaN   \n",
       "423963                                      NaN   \n",
       "423964                                      NaN   \n",
       "423965                                      NaN   \n",
       "423966  지극히 개인적인 프리랜서 생존기 (1) 나는 어떻게 세상 밖으로 나왔나   \n",
       "\n",
       "                                                body_text  \\\n",
       "0       \\n구글마저 긴장케할 정도로 파죽지세로 뜨거운 감자가 되고 있는 OpenAI의 대화...   \n",
       "1       \\n요즘 AI로 인터넷이 난리도 아니다. 특히 챗GPT. OpenAI사에서 신규로 ...   \n",
       "2       \\n이 글은 제가 삼성 SDS < 인사이트 리포트 > 2022년 11월 30일에 기...   \n",
       "3       \\nAI는 잘할 수 있는 것도 많지만 여전히 한계도 있다. AI로 이런 것도 할 수...   \n",
       "4       \\n인류의 난제 중 하나는, 인간의 뇌가 동작하는 원리를 밝혀내는 것이다. 인간의 ...   \n",
       "...                                                   ...   \n",
       "423962  \\n\\n\\n1. \\n\\n내가 태어났을 때, 엄마 뱃속을 헤집고 나오는 건 정말 피곤...   \n",
       "423963  \\n\\n\\n1. \\n복도 쪽이 술렁였다. 사람들의 시선이 일제히 한 곳으로 쏠렸다....   \n",
       "423964  \\n\\n\\n1.\\n입사한지 한 달 후 쯤의 일이다. \\n어쩌다 본사 신입사원 간담회...   \n",
       "423965  \\n\\n\\n1. 피고용자\\n\\n'피고용자(employee)'라는 말은 1940년대 ...   \n",
       "423966  \\n2013년 11월 30일,\\n두번째로 적을 두었던 회사에서 나왔다.\\n\\n그리고...   \n",
       "\n",
       "                      keyword  likes    post_date  \\\n",
       "0         ['검색', 'AI', '계산기']     10   2023-01-25   \n",
       "1        ['AI', '인공지능', '챗봇']     15   2023-01-25   \n",
       "2          ['AI', '루프', '휴먼']     10   2023-01-23   \n",
       "3        ['AI', '책이야기', 'IT']     11   2023-01-23   \n",
       "4       ['AI', '뇌과학', '과학기술']     12   2023-01-22   \n",
       "...                       ...    ...          ...   \n",
       "423962   ['피로', '자기계발', '회사']     29   2015-10-16   \n",
       "423963     ['칼퇴', '관리', '회사']     29   2015-09-23   \n",
       "423964     ['눈치', '신입', '회사']     36   2015-09-21   \n",
       "423965   ['회사', '고용', '자기계발']     35   2015-09-10   \n",
       "423966         ['회사', '프리랜서']     10   2015-08-10   \n",
       "\n",
       "                                    post_url    author_id  \n",
       "0           https://brunch.co.kr/@ioojoo/236      @ioojoo  \n",
       "1        https://brunch.co.kr/@khakiparka/32  @khakiparka  \n",
       "2          https://brunch.co.kr/@ywkim36/102     @ywkim36  \n",
       "3       https://brunch.co.kr/@delight412/532  @delight412  \n",
       "4         https://brunch.co.kr/@waybridge/88   @waybridge  \n",
       "...                                      ...          ...  \n",
       "423962    https://brunch.co.kr/@suhanjang/23   @suhanjang  \n",
       "423963    https://brunch.co.kr/@suhanjang/10   @suhanjang  \n",
       "423964    https://brunch.co.kr/@suhanjang/16   @suhanjang  \n",
       "423965     https://brunch.co.kr/@suhanjang/9   @suhanjang  \n",
       "423966      https://brunch.co.kr/@nergul01/2    @nergul01  \n",
       "\n",
       "[423967 rows x 8 columns]"
      ]
     },
     "execution_count": 125,
     "metadata": {},
     "output_type": "execute_result"
    }
   ],
   "source": [
    "hqe_df = hqe_df[['title', 'sub_title', 'body_text', 'keyword', 'likes', 'post_date', 'post_url', 'author_id']]\n",
    "hqe_df = hqe_df.reset_index()\n",
    "hqe_df = hqe_df.drop(['index'], axis=1) # 기존 인덱스 제거\n",
    "hqe_df"
   ]
  },
  {
   "cell_type": "markdown",
   "id": "cbdc484e",
   "metadata": {},
   "source": [
    "### 좋아요가 10 이상인 글 JSONL 형식으로 데이터 저장하기\n",
    "\n",
    "데이터 프레임의 각 row를 딕셔너리로 변환해 딕셔너리 리스트를 만든 후, jsonl로 변환"
   ]
  },
  {
   "cell_type": "code",
   "execution_count": 126,
   "id": "3e3e1eb3",
   "metadata": {},
   "outputs": [],
   "source": [
    "hqe10_json_data = hqe_df.to_dict('records')"
   ]
  },
  {
   "cell_type": "code",
   "execution_count": 128,
   "id": "2275dd04",
   "metadata": {},
   "outputs": [
    {
     "data": {
      "text/plain": [
       "{'title': '계산기같은 ChatGPT',\n",
       " 'sub_title': '검색을 넘어서는 원샷원킬일까?',\n",
       " 'body_text': '\\n구글마저 긴장케할 정도로 파죽지세로 뜨거운 감자가 되고 있는 OpenAI의 대화형 지식AI인 ChatGPT.\\nhttps://v.daum.net/v/20230123093058969\\n과연 20년째 최고의 인터넷 경험인 검색을 대체까지 할 수 있을까?\\n난 단연코 아니라고 본다. 보완재라며 모를까.\\n\\nChatGPT는 20~30여분 검색어 입력 후 결과를 찾아 나서며 머리를 굴려 정리를 해서 답을 찾아가는 과정을 1분으로 줄여줄만큼 탐색→정리→요약을 기가 막히게 해주는 것은 사실이다. 게다가 같은 질문에 매번 조금씩 다른 답을 주기 때문에 좀 더 다양한 관점의 정보를 얻고자 하면 같은 질문을 다시 하면 된다. 게다가, 앞 질문에 이어서 추가 질문을 하면 그 내역을 기반으로 답을 주기 때문에 지속적으로 꼬리에 꼬리를 물며 질문을 던지면서 심층 답변을 찾아갈 수 있다.\\n그런 ChatGPT 사용도 한계가 있다.\\n1. 좋은 답변을 위해서는 제대로 된 질문을 해야 한다. 검색어 입력하는 것보다 더 자세하게 궁금한 것을 자세하게 문장으로 질문을 구성해야 한다. 한마디로 keyword가 아닌 prompt를 신경써서 쳐 넣어야 한다. 찾고 싶은 단어 하나를 입력하기는 쉽지만, 필요한 답을 찾기 위한 좋은 질문을 문장으로 구성하는 것은 쉽지 않다.\\n\\n2. 좋은 답변인지 알쏭달쏭하다는 것이다. 검색은 결과물들을 찾아 다니며 다양한 기사, 의견 그리고 댓글들을 보면서 여러 관점을 들여다볼 수 있다. 그 과정에서 옳고 그름 그리고 다양한 시각들이 있음을 깨닫고 내 생각 정리를 할 수 있다. 하지만, ChatGPT는 모범 답안처럼 보여지는 해설을 제시하므로 이걸 곧이 곧대로 받아들이면 오답을 진리로 받아들이는 착오에 빠질 수 있다.\\n\\n그것에 익숙해지면 우리도 앞으로 한계에 직면할 것이다.\\n계산기를 두드리면 원하는 답을 즉시 찾을 수 있지만 늘 계산기를 사용할 수 있는 것은 아니다. 대부분 우리 일상 속에서의 계산은 수 많은 상황에서 암산으로 즉시 계산해야 하는 경우가 대부분이다. 계산기에 의존하면 간단한 계산을 스스로 해낼 수 없다. 산수를 배우는 이유가 있다. 검색은 산수와 같고, 암산과 같다. ChatGPT에 의존하면 나만의 공식을 가질 수 없다. 기계가 토해내는 답을 진리로 알고 다른 생각을 펼칠 수 없고, 여러 의견이 있을 수 있음을 망각할 수 있다. 그 과정에서 내 생각도 자리 잡을 수 있는 기회를 잃게 된다.\\n\\n그래서, ChatGPT는 현재의 대화 방식의 인터페이스로는 온전한 서비스가 될 수 없다.\\n기존의 검색에 보완제로서 연계되거나 특정 도메인에서만 제한적으로 사용될 것이다. 이미 https://you.com과 같은 검색과의 통합 UI로 선보이기도 하고, MS의 bing에 ChatGPT가 연계하는 것을 고려하고 있기도 하다. 또, 아마도 구글 역시LAMDA2를 검색엔진에 활용하거나 별도의 서비스 영역에 도입하는 것을 고려할 것이다.\\n☞ 구글의 Sparrow\\nhttps://www.aitimes.com/news/articleView.html?idxno=149050\\n\\n쇼핑할 때, 판매원이 옆에 따라 다니면서 필요한 것을 즉시 제시하는 것도 때론 유용하지만.. 대개는 그냥 이것저것 만져보고 보면서 혼자 살펴보다가 판매원의 도움을 받는 것이 더 나은 것처럼, 검색하다가 필요로 할 때 AI가 자연스럽게 도와주는 것이 훨씬 더 낫지 않을까.',\n",
       " 'keyword': \"['검색', 'AI', '계산기']\",\n",
       " 'likes': 10,\n",
       " 'post_date': ' 2023-01-25',\n",
       " 'post_url': 'https://brunch.co.kr/@ioojoo/236',\n",
       " 'author_id': '@ioojoo'}"
      ]
     },
     "execution_count": 128,
     "metadata": {},
     "output_type": "execute_result"
    }
   ],
   "source": [
    "hqe10_json_data[0]"
   ]
  },
  {
   "cell_type": "markdown",
   "id": "a8ad3cc8",
   "metadata": {},
   "source": [
    "keyword가 리스트가 아닌 문자열로 저장되었다. 이를 리스트로 변환하여 저장할 필요가 있다."
   ]
  },
  {
   "cell_type": "code",
   "execution_count": 129,
   "id": "bc2df946",
   "metadata": {},
   "outputs": [],
   "source": [
    "# 문자열로 저장된 리스트를 파이썬 리스트 타입으로 변환해주는 함수\n",
    "def str_to_list(cell):\n",
    "    cell = ''.join(c for c in cell if c not in \"'[]\")\n",
    "    cell = cell.split(', ')\n",
    "    return cell"
   ]
  },
  {
   "cell_type": "code",
   "execution_count": 130,
   "id": "81a22fc0",
   "metadata": {},
   "outputs": [],
   "source": [
    "for json in hqe10_json_data:\n",
    "    keyword_list = str_to_list(json['keyword'])\n",
    "    json['keyword'] = keyword_list"
   ]
  },
  {
   "cell_type": "code",
   "execution_count": 131,
   "id": "ff855335",
   "metadata": {},
   "outputs": [
    {
     "data": {
      "text/plain": [
       "{'title': '계산기같은 ChatGPT',\n",
       " 'sub_title': '검색을 넘어서는 원샷원킬일까?',\n",
       " 'body_text': '\\n구글마저 긴장케할 정도로 파죽지세로 뜨거운 감자가 되고 있는 OpenAI의 대화형 지식AI인 ChatGPT.\\nhttps://v.daum.net/v/20230123093058969\\n과연 20년째 최고의 인터넷 경험인 검색을 대체까지 할 수 있을까?\\n난 단연코 아니라고 본다. 보완재라며 모를까.\\n\\nChatGPT는 20~30여분 검색어 입력 후 결과를 찾아 나서며 머리를 굴려 정리를 해서 답을 찾아가는 과정을 1분으로 줄여줄만큼 탐색→정리→요약을 기가 막히게 해주는 것은 사실이다. 게다가 같은 질문에 매번 조금씩 다른 답을 주기 때문에 좀 더 다양한 관점의 정보를 얻고자 하면 같은 질문을 다시 하면 된다. 게다가, 앞 질문에 이어서 추가 질문을 하면 그 내역을 기반으로 답을 주기 때문에 지속적으로 꼬리에 꼬리를 물며 질문을 던지면서 심층 답변을 찾아갈 수 있다.\\n그런 ChatGPT 사용도 한계가 있다.\\n1. 좋은 답변을 위해서는 제대로 된 질문을 해야 한다. 검색어 입력하는 것보다 더 자세하게 궁금한 것을 자세하게 문장으로 질문을 구성해야 한다. 한마디로 keyword가 아닌 prompt를 신경써서 쳐 넣어야 한다. 찾고 싶은 단어 하나를 입력하기는 쉽지만, 필요한 답을 찾기 위한 좋은 질문을 문장으로 구성하는 것은 쉽지 않다.\\n\\n2. 좋은 답변인지 알쏭달쏭하다는 것이다. 검색은 결과물들을 찾아 다니며 다양한 기사, 의견 그리고 댓글들을 보면서 여러 관점을 들여다볼 수 있다. 그 과정에서 옳고 그름 그리고 다양한 시각들이 있음을 깨닫고 내 생각 정리를 할 수 있다. 하지만, ChatGPT는 모범 답안처럼 보여지는 해설을 제시하므로 이걸 곧이 곧대로 받아들이면 오답을 진리로 받아들이는 착오에 빠질 수 있다.\\n\\n그것에 익숙해지면 우리도 앞으로 한계에 직면할 것이다.\\n계산기를 두드리면 원하는 답을 즉시 찾을 수 있지만 늘 계산기를 사용할 수 있는 것은 아니다. 대부분 우리 일상 속에서의 계산은 수 많은 상황에서 암산으로 즉시 계산해야 하는 경우가 대부분이다. 계산기에 의존하면 간단한 계산을 스스로 해낼 수 없다. 산수를 배우는 이유가 있다. 검색은 산수와 같고, 암산과 같다. ChatGPT에 의존하면 나만의 공식을 가질 수 없다. 기계가 토해내는 답을 진리로 알고 다른 생각을 펼칠 수 없고, 여러 의견이 있을 수 있음을 망각할 수 있다. 그 과정에서 내 생각도 자리 잡을 수 있는 기회를 잃게 된다.\\n\\n그래서, ChatGPT는 현재의 대화 방식의 인터페이스로는 온전한 서비스가 될 수 없다.\\n기존의 검색에 보완제로서 연계되거나 특정 도메인에서만 제한적으로 사용될 것이다. 이미 https://you.com과 같은 검색과의 통합 UI로 선보이기도 하고, MS의 bing에 ChatGPT가 연계하는 것을 고려하고 있기도 하다. 또, 아마도 구글 역시LAMDA2를 검색엔진에 활용하거나 별도의 서비스 영역에 도입하는 것을 고려할 것이다.\\n☞ 구글의 Sparrow\\nhttps://www.aitimes.com/news/articleView.html?idxno=149050\\n\\n쇼핑할 때, 판매원이 옆에 따라 다니면서 필요한 것을 즉시 제시하는 것도 때론 유용하지만.. 대개는 그냥 이것저것 만져보고 보면서 혼자 살펴보다가 판매원의 도움을 받는 것이 더 나은 것처럼, 검색하다가 필요로 할 때 AI가 자연스럽게 도와주는 것이 훨씬 더 낫지 않을까.',\n",
       " 'keyword': ['검색', 'AI', '계산기'],\n",
       " 'likes': 10,\n",
       " 'post_date': ' 2023-01-25',\n",
       " 'post_url': 'https://brunch.co.kr/@ioojoo/236',\n",
       " 'author_id': '@ioojoo'}"
      ]
     },
     "execution_count": 131,
     "metadata": {},
     "output_type": "execute_result"
    }
   ],
   "source": [
    "hqe10_json_data[0]"
   ]
  },
  {
   "cell_type": "markdown",
   "id": "555b7268",
   "metadata": {},
   "source": [
    "리스트로 저장되었다.\n",
    "\n",
    "현재 hqe10_json_data는 딕셔너리의 리스트이다. \n",
    "\n",
    "하나의 엘리먼트를 한 줄에 저장하는 **jsonl** 형식으로 최종데이터셋을 저장하자.\n",
    "\n",
    "jsonl로 저장하기 위해선 먼저 dict 객체를 dumps를 통해 json객체로 변환한 후, 이를 writelines()를 통해 써주면 된다."
   ]
  },
  {
   "cell_type": "code",
   "execution_count": 132,
   "id": "3032e111",
   "metadata": {},
   "outputs": [
    {
     "data": {
      "text/plain": [
       "423967"
      ]
     },
     "execution_count": 132,
     "metadata": {},
     "output_type": "execute_result"
    }
   ],
   "source": [
    "len(hqe10_json_data)"
   ]
  },
  {
   "cell_type": "code",
   "execution_count": 133,
   "id": "4a0356d1",
   "metadata": {},
   "outputs": [
    {
     "data": {
      "text/plain": [
       "dict"
      ]
     },
     "execution_count": 133,
     "metadata": {},
     "output_type": "execute_result"
    }
   ],
   "source": [
    "type(hqe10_json_data[0])"
   ]
  },
  {
   "cell_type": "markdown",
   "id": "bd74ef5d",
   "metadata": {},
   "source": [
    "형식에 맞게 잘 저장되고 잘 불러올 수 있는지 확인하기 위해 5개로 테스트.\n",
    "\n",
    "참고로 jsonl을 읽어오기 위해서는 jsonlines 라이브러리를 설치해야 한다."
   ]
  },
  {
   "cell_type": "code",
   "execution_count": 134,
   "id": "42956d31",
   "metadata": {},
   "outputs": [],
   "source": [
    "import json\n",
    "\n",
    "with open(\"brunch_dataset_10_sample.jsonl\",\"w\", encoding=\"UTF-8\") as f:\n",
    "    for line in hqe10_json_data[:5]:\n",
    "        f.writelines(json.dumps(line,ensure_ascii=False))\n",
    "        f.write(\"\\n\")"
   ]
  },
  {
   "cell_type": "code",
   "execution_count": 92,
   "id": "d27a13c4",
   "metadata": {},
   "outputs": [
    {
     "name": "stdout",
     "output_type": "stream",
     "text": [
      "Collecting jsonlines\n",
      "  Downloading jsonlines-3.1.0-py3-none-any.whl (8.6 kB)\n",
      "Requirement already satisfied: attrs>=19.2.0 in c:\\users\\docdoca\\appdata\\local\\programs\\python\\python311\\lib\\site-packages (from jsonlines) (22.2.0)\n",
      "Installing collected packages: jsonlines\n",
      "Successfully installed jsonlines-3.1.0\n"
     ]
    }
   ],
   "source": [
    "!pip install jsonlines"
   ]
  },
  {
   "cell_type": "code",
   "execution_count": 135,
   "id": "75ae6f3e",
   "metadata": {
    "scrolled": true
   },
   "outputs": [
    {
     "name": "stdout",
     "output_type": "stream",
     "text": [
      "계산기같은 ChatGPT\n",
      "\n",
      "구글마저 긴장케할 정도로 파죽지세로 뜨거운 감자가 되고 있는 OpenAI의 대화형 지식AI인 ChatGPT.\n",
      "https://v.daum.net/v/20230123093058969\n",
      "과연 20년째 최고의 인터넷 경험인 검색을 대체까지 할 수 있을까?\n",
      "난 단연코 아니라고 본다. 보완재라며 모를까.\n",
      "\n",
      "ChatGPT는 20~30여분 검색어 입력 후 결과를 찾아 나서며 머리를 굴려 정리를 해서 답을 찾아가는 과정을 1분으로 줄여줄만큼 탐색→정리→요약을 기가 막히게 해주는 것은 사실이다. 게다가 같은 질문에 매번 조금씩 다른 답을 주기 때문에 좀 더 다양한 관점의 정보를 얻고자 하면 같은 질문을 다시 하면 된다. 게다가, 앞 질문에 이어서 추가 질문을 하면 그 내역을 기반으로 답을 주기 때문에 지속적으로 꼬리에 꼬리를 물며 질문을 던지면서 심층 답변을 찾아갈 수 있다.\n",
      "그런 ChatGPT 사용도 한계가 있다.\n",
      "1. 좋은 답변을 위해서는 제대로 된 질문을 해야 한다. 검색어 입력하는 것보다 더 자세하게 궁금한 것을 자세하게 문장으로 질문을 구성해야 한다. 한마디로 keyword가 아닌 prompt를 신경써서 쳐 넣어야 한다. 찾고 싶은 단어 하나를 입력하기는 쉽지만, 필요한 답을 찾기 위한 좋은 질문을 문장으로 구성하는 것은 쉽지 않다.\n",
      "\n",
      "2. 좋은 답변인지 알쏭달쏭하다는 것이다. 검색은 결과물들을 찾아 다니며 다양한 기사, 의견 그리고 댓글들을 보면서 여러 관점을 들여다볼 수 있다. 그 과정에서 옳고 그름 그리고 다양한 시각들이 있음을 깨닫고 내 생각 정리를 할 수 있다. 하지만, ChatGPT는 모범 답안처럼 보여지는 해설을 제시하므로 이걸 곧이 곧대로 받아들이면 오답을 진리로 받아들이는 착오에 빠질 수 있다.\n",
      "\n",
      "그것에 익숙해지면 우리도 앞으로 한계에 직면할 것이다.\n",
      "계산기를 두드리면 원하는 답을 즉시 찾을 수 있지만 늘 계산기를 사용할 수 있는 것은 아니다. 대부분 우리 일상 속에서의 계산은 수 많은 상황에서 암산으로 즉시 계산해야 하는 경우가 대부분이다. 계산기에 의존하면 간단한 계산을 스스로 해낼 수 없다. 산수를 배우는 이유가 있다. 검색은 산수와 같고, 암산과 같다. ChatGPT에 의존하면 나만의 공식을 가질 수 없다. 기계가 토해내는 답을 진리로 알고 다른 생각을 펼칠 수 없고, 여러 의견이 있을 수 있음을 망각할 수 있다. 그 과정에서 내 생각도 자리 잡을 수 있는 기회를 잃게 된다.\n",
      "\n",
      "그래서, ChatGPT는 현재의 대화 방식의 인터페이스로는 온전한 서비스가 될 수 없다.\n",
      "기존의 검색에 보완제로서 연계되거나 특정 도메인에서만 제한적으로 사용될 것이다. 이미 https://you.com과 같은 검색과의 통합 UI로 선보이기도 하고, MS의 bing에 ChatGPT가 연계하는 것을 고려하고 있기도 하다. 또, 아마도 구글 역시LAMDA2를 검색엔진에 활용하거나 별도의 서비스 영역에 도입하는 것을 고려할 것이다.\n",
      "☞ 구글의 Sparrow\n",
      "https://www.aitimes.com/news/articleView.html?idxno=149050\n",
      "\n",
      "쇼핑할 때, 판매원이 옆에 따라 다니면서 필요한 것을 즉시 제시하는 것도 때론 유용하지만.. 대개는 그냥 이것저것 만져보고 보면서 혼자 살펴보다가 판매원의 도움을 받는 것이 더 나은 것처럼, 검색하다가 필요로 할 때 AI가 자연스럽게 도와주는 것이 훨씬 더 낫지 않을까.\n",
      "['검색', 'AI', '계산기']\n",
      "\n",
      "\n",
      "--------------------------------------------------\n",
      "\n",
      "\n",
      "AI로 이미지 만들기 (매우 쉬움)\n",
      "\n",
      "요즘 AI로 인터넷이 난리도 아니다. 특히 챗GPT. OpenAI사에서 신규로 론칭한 AI 챗봇 프로그램인데 기세가 심상치 않다. 뼛속까지 문과인 나조차 AI분야에 관심을 갖게 만드는 공상과학과 유사한 엄청난 기술을 자랑한다. 프로토타입인 데다 트래픽이 많아 직접 사용해보진 못했으나 링크드인이나 유튜브를 통해 챗GPT의 능력을 쉽게 접할 수 있다. \"언어\"로 가능한 모든 영역을 수행할 수 있을뿐더러 코딩까지 대신 써준다. 예를 들어, 천만 관객용 영화의 플롯과 인물 구성을 써달라고 요청하면 몇 분 내로 완벽한 플롯과 인물 구성을 내놓는다. 뉴스 기사, 시나리오, 산문, 시, 소네트, 심지어는 마케팅 전략까지 써준다. 인터넷에 업로드되어 있는 무한에 가까운 정보 풀과 고도화된 머신러닝의 결합물이라고 볼 수 있다. \n",
      "\n",
      "어떤 질문에도 답을 내놓아 구글을 대체할 것이라는 목소리도 나온다. 구글은 사용자가 직접 정보를 모아 분석해서 답을 도출해야 하지만 챗GPT는 중간 과정을 생략하고 질문 하나로 바로 해답에 다다를 수 있게 해 준다. 잠재력을 인정받아 마이크로소프트로부터 막대한 투자를 여러 차례 받고 있기도 하다. (1월 24일 기준 1조 원 넘게 투자한 것으로 밝혀졌다.) 해당 프로그램에 대한 정보를 찾다 보면 놀라움의 연속이 아닐 수 없다. 하지만 걷잡을 수 없이 빠르게 진화하는 기술로 인한 불안과 공포도 분명 존재한다. 확실한 건 인류가 수십 년간 그려왔던 미래가 껑충 앞으로 다가와 더 선명해졌다는 것이다. AI의 세계에 몇 시간 정신을 팔다 보면 실제로 미래에 와 있다는 생각이 들 정도다. \n",
      "\n",
      "최근 ChatGPT의 인기로 인해 나의 감각도 AI를 향해 뻗어있다. 그래서 그런지, AI관련 기술에 대한 기사나 SNS 포스팅, 유튜브 영상을 많이 찾아보는 요즘이다. (알고리즘에 의해 의도적으로 노출되고 있는 거겠지만.) 그러던 중 며칠 전 한 링크드인 포스팅에서 또 다른 AI툴을 발견했다. 툴의 이름은 바로 Midjourney, 이미지를 만들어주는 프로그램이다. 구글 서칭 후 미드저니 웹사이트로 들어가 사용법을 익힌 후 몇 가지 명령을 시도해 보았다. \n",
      "\n",
      "먼저, 사용안내에 따라 미드저니의 디스코드 채널에 접속해 회원가입을 한 후 초청을 받는다. 그다음 접속자들의 놀이터 같은 형식의 세부 채널로 들어가 채팅창에 이미지 생성 명령을 내린다. 사용료는 없다. \n",
      "\n",
      "/imagine prompt [        ] \n",
      "\n",
      "[        ] 안에 생성하고 싶은 이미지의 \"요소\"를 영어로 입력하면 된다. 먼저 친구의 학교 과제를 도와줘 보기로 했다. \n",
      "\n",
      "조형물, 핑크색, 부드러운 질감, 나무를 입력해 보았다.\n",
      "단 몇 초 만에 위 네 개의 이미지를 생성해 냈다. 포함시킨 요소가 모두 적용된 것을 볼 수 있다. 하나의 이미지만 생성하는 것이 아니라 한 번에 네 개의 옵션 이미지를 내놓으며 마음에 들거나 변형시키고픈 이미지가 있으면 하나를 골라 추가 명령을 내릴 수 있다. 추가 명령은 두 가지로, \"업그레이드\"를 선택하면 해상도나 퀄리티를 높일 수 있고 \"변형\"을 선택하면 전체적인 느낌은 같으나 추가적인 요소를 덧붙일 수 있다. \n",
      "\n",
      "다음으로는, 이유는 모르겠으나 아래와 같은 특징을 입력해 보았다. \n",
      "\n",
      "젊은 남교수, 화창한 오후, 책상에 착석, 책장, 운동한 몸, 짧은 머리, 카메라 응시, 하얀 티셔츠, 태닝 된 피부.\n",
      ".\n",
      ".\n",
      ".\n",
      "이번에도 1분도 걸리지 않아 네 가지 옵션의 이미지를 생성해 주었다. 너무 현실감이 있어 이미지라기보다는 \"사진\"에 가까울 정도다. (특히, 오른쪽 상단 옵션의 경우)\n",
      "\n",
      "한번 이미지 생성 후 네 개중 하나를 선택해 업그레이드도 시켜보았다. \n",
      "입력 값: 젊은 나이의 형제, 오랜만의 만남, 동생보다 살짝 작은 형, 웃음 가득한 얼굴, 겨울, 캐나다 배경\n",
      "아주 훈훈한 형제를 만들어 줬다.\n",
      "\n",
      "시간 가는 줄 모르고 10번도 넘게 시도해 보니 약간의 노하우가 생겼다. \"리얼리스틱하게\", \"4K\", \"8K\" 등 퀄리티를 높이는 입력 값을 포함하면 더욱 사실적인 결과물을 얻을 수 있다. 다른 접속자들의 명령어도 실시간으로 모니터 할 수 있어 참고가 가능하다. 예를 들어, 어떤 사람은 카메라의 모델, 렌즈 두께, 조명 효과까지 세세히 입력하고 있었다. \n",
      "\n",
      "최대한 구체적으로 입력하면 할수록 더 좋은 결과물이 나온다. AI가 나의 명령어를 꼼꼼히 읽고 고민한다고 생각하고 사소한 부분이더라도 모두 입력하는 게 좋다. 요소마다 쉼표를 붙여가며 입력하지 않아도 되고 문장으로 묘사를 해도 된다. (마치 소설 속 인물 묘사처럼) 정해진 룰이 없어 굉장히 편했다. (처음에 /imagine prompt만 입력한 후에는 자유롭게 입력이 가능하다.) \n",
      "\n",
      "웃긴 건 나의 상상력과 창의력이 AI에 비해 미천하다는 느낌을 받은 것이다. 내가 창작하는 것도 아닌데 명령 단계에서부터 막힐 때가 종종 있었다. 어떤 이미지를 만들고 싶은지, 어떤 세부적인 요소가 들어가길 희망하는지, 어떤 느낌을 원하는지 나부터 확실하지 않은 경우가 많았다. 그리고 이미지 로딩이 완료되면 대부분의 경우는 내가 상상했던 결과물 보다 훨씬 더 기발한 결과물이 나왔다. \n",
      "\n",
      "챗GPT의 등장으로 인해 (실은 이것도 이전에 있었던 버전의 업그레이드 버전이다.) Midjourney와 같은 다른 AI 프로그램들도 덩달아 주목을 받고 있다. 근 몇 년, 늘 존재했던 기술이지만 이제야 비로소, 본격적으로 비전문가 일반인들도 AI를 인식하고 사용하기 시작하는 전환기가 도래한 것 같다. 격동적인 사회 변화가 예상되지만 일단은 이 신나는 현상을 흥미롭게 지켜봐야겠다.  \n",
      "['AI', '인공지능', '챗봇']\n",
      "\n",
      "\n",
      "--------------------------------------------------\n",
      "\n",
      "\n",
      "AI 시스템을 강화하는 휴먼인더루프(HITL)\n",
      "\n",
      "이 글은 제가 삼성 SDS < 인사이트 리포트 > 2022년 11월 30일에 기고/발행한 글입니다. 원본 글 'AI 시스템을 강화하는 휴먼인더루프(HUMAN IN THE LOOP)'의 서문만을 이곳 브런치에서 공유합니다.\n",
      "그리고 AI의 전체적인 강화프로세스를 알고 싶으신 분과, 특히 PM/PO, 기획자분들이 꼭 읽고 도움이 되길 바랍니다.\n",
      "다양한 비즈니스 영역에서 AI를 활용하여, 업무 프로세스를 혁신하여 초자동화를 이뤄내려는 시도가 늘고 있다. 초자동화는 그 기술 자체라기 보다는 ‘체계적인 문제 접근 방식’이다. 즉 AI와 머신러닝뿐만 아니라, 로봇 프로세스 자동화 (RPA: Robotic Process Automation), BPM / iBPMS (‘intelligent’ Business Process Management System), 통합 플랫폼 서비스 (iPaaS), low code / no code tools 및 다른 의사 결정도구나 조직의 베스트 프랙티스와 같은 기술, 도구, 플랫폼을 사용하여 최대한 많은 비즈니스 프로세스를 신속하게 찾아내고, 검증하여 자동화를 추진하는 체계적인 접근방법이라 할 수 있다.1 즉, 반복적이고 지루한 일련의 작업을 자동화된 시스템으로 대체하여, 인간이 더 가치 있는 업무에 집중할 수 있도록 하는 것이다.\n",
      "그러나 이 부분은 큰 필요조건이 만족되어야만 가능하다. AI의 작업 과정을 인간이 충분히 이해하고 신뢰하지 못한다면, 기업에서의 AI 도입과 효과는 매우 불투명해질 수밖에 없다. 기업의 입장에서는 AI를 사용하여 업무효율을 10% 올리는 것보다, 과정에서 예상하지 못하고 이해하기 어려운 상황을 어떻게 처리할는지가 더 중요하기 때문이다.\n",
      "예를 들어, AI에게 맡겨진 작업이 기업의 비용과 직간접적으로 연결이 되어 있어, 예상치 못한 금전 손실의 원인이 된다면, 아무리 많은 작업을 효율적으로 대신해주는 시스템이라 하더라도 신뢰하고 사용할 수는 없을 것이다. 또한 이것은 단순히 사용의 범위를 넘어, 전체 프로세스 중에 일어나는 중요한 결정에 대하여 AI의 예측 결과를 이해하고 수용할 수도 없게 된다. 즉 기업은 항상 혁신과 안정 중에 하나를 선택해야 한다면, 보수적이지만 안정적인 시스템을 선호할 수밖에 없는 조직이다.\n",
      "AI 서비스가 실제 업무 프로세스에 통합되기 위해서는 먼저 투명성, 공정성, 안정성이 확보되어야 작업 위임이 가능해진다. 현재 AI 모델의 예측 한계를 명확히 표시하고, 신뢰도가 낮거나 중요한 의사결정을 포함하는 데이터에 대해서 인간이 직접 리뷰하고 수정하여 품질을 높이는 과정은 AI 서비스에 대한 신뢰도를 높이는 전략이 된다. 이런 과정을 휴먼인더루프(Human-in-the-loop; 이하 HITL)라고 부른다.\n",
      "이처럼 HITL은 사용자가 AI 서비스를 수용할 수 있는 이해도를 높이고, 작업 과정의 효율화를 이끌어낼 수 있기에 기업의 초자동화를 이끄는 핵심 프로세스가 될 수 있다. HITL에 대해서 좀 더 자세히 정의하고, 활용 방안을 알아보자.\n",
      "\n",
      "신뢰할 수 있는 AI 업무 자동화\n",
      "휴먼인더루프 즉, HITL 접근을 좀 더 명확하게 정의하면 “AI를 활용해 추출한 데이터가 실제 중요한 비즈니스 프로세스에서 사용되기 전에, 사람이 데이터를 직접 검증 및 수정할 수 있도록 하는 시스템을 추가하여 데이터의 품질을 보장하기 위한 접근 방식”이다. HITL을 AI 도입 과정에서 시스템화하기 위해서는 작업 과정에서 발생할 수 있는 오류 케이스를 인간의 작업이 어떻게 더 쉽게 수행할 것인지에 대한 고민이 필요하다.아마존, 구글, 마이크로소프트와 같은 빅테크 플랫폼 기업의 경우엔, 자사의 AI 모델의 적용을 돕기 위한 관련 기능에 이미 HITL을 시스템화했다. 예를 들어, 구글은 Document AI에서 HITL과 관련된 다음의 4가지 기능을 제공하여, 검수 작업 관리에 대한 편의성을 높였다. • 신뢰도 기준값 필터 설정 • 검수를 손쉽게 도와주는 기능과 사용자 인터페이스 • 검수 인력 관리 기능 • 검수 작업 및 검수자에 관한 분석 기능먼저 사용자는 AI 작업 및 태스크 분류의 기준이 되는 신뢰도 점수를 직접 설정할 수 있다. 해당 신뢰도 점수를 기준으로 AI는 방대한 양의 문서에 대한 인식 작업을 진행한다. 이때 명확하게 인식하지 못한 문서에 대해서는 사용자가 주도적으로 수정할 수 있다.사용자의 인지 및 작업 흐름에 따라 맞춰 단순화한 사용자 인터페이스는 사람의 개입을 더욱 쉽게 만들어 데이터 품질 향상에 큰 도움이 된다. 적용 도메인 및 문서 특성에 따라 정확하게 인식하지 못한 예외 경우에는, 해당 문서를 분류한 뒤 선택적으로 확인하고 수정할 수 있게 시각적인 가이드를 제공한다. 예를 들어, 비용 지출 증빙 문서와 같은 정형화된 문서에서 날짜가 잘못 기입된 경우, 추출된 데이터에 빨간색으로 경고 표시를 한다. 또한 문서에서 인식된 영역을 표시하여 사용자가 맥락을 이해하고 수정할 수 있도록 지원한다.\n",
      "Document AI에서는 검수 작업을 사용자 스스로 진행할 수 있도록 하는 것뿐 아니라, 특정 검수 인력을 고용하거나, 내부 검수 인력을 관리한다는 점이 꽤나 인상적이다. AI 모델이 인식하지 못한 데이터에 대해서 인간이 검수 작업을 수행한다고 했을 때, 검수자의 변동, 태스크 할당을 동적으로 운영해야 하는 과정을 시스템적으로 해결하지 못한다면, 그 자체가 작업 오류 가능성을 높여 데이터의 품질 저하로 이어질 수 있다. 구글은 관리자의 대시보드에 검수 작업 할당과 인력, 비용 관리 기능을 제공하여, 관리자와 검수자의 커뮤니케이션 효율을 높였다. 또한 검수 작업과 검수 인력에 관한 분석 기능을 제공하여, AI와 인간 검수자의 작업 전환 과정과 효율을 동시에 높였다.\n",
      "AI 모델의 발전을 위한 데이터 완결성과 재학습\n",
      "\n",
      "확장적인 활용\n",
      "\n",
      "글 본문을 계속해서 읽으실 분들은 원문 인사이트 리포트 글로 이동하여 읽어주십시오.\n",
      "(글을 읽기 위해 추가적인 사용자 등록과 같은 과정은 필요없습니다.)\n",
      "\n",
      "*같은 글이 이곳에도 게재되었습니다.\n",
      "네이버 삼성SDS 포스트\n",
      "늘 여러분의 노력에 큰 응원을 보냅니다. 고맙습니다.\n",
      "['AI', '루프', '휴먼']\n",
      "\n",
      "\n",
      "--------------------------------------------------\n",
      "\n",
      "\n",
      "AI로 할 수 있는 걸 평가할 때 던져 볼 만한 질문들\n",
      "\n",
      "AI는 잘할 수 있는 것도 많지만 여전히 한계도 있다. AI로 이런 것도 할 수 있고 저런 것도 할 수 있다는 메시지가 넘쳐나지만 개중에는 AI로 하기 힘든데, 할 수 있다고 부풀리는 경우들도 있다.\n",
      "\n",
      "저넬 셰인이 쓴 좀 이상하지만 재미있는 녀석들에 따르면 AI로 이런 것도 할 수 있고 저런 것도 할 수 있다는 메시지를 평가할 때 던지면 좋은 몇 가지 질문들이 있다.\n",
      "\n",
      "우선은 문제가 얼마나 광범위한가? 이다.\n",
      "\n",
      "다음은 훈련용 데이터는 어디에서 얻었는가? 다.\n",
      "\n",
      "해당 문제가 높은 기억력을 요구하는가? 도 있다.\n",
      "\n",
      "인간의 편견을 모방만 하고 있는가? 라는 관점에서 볼 필요도 있다.\n",
      "['AI', '책이야기', 'IT']\n",
      "\n",
      "\n",
      "--------------------------------------------------\n",
      "\n",
      "\n",
      "나는 생각한다. 고로 존재한다.\n",
      "\n",
      "인류의 난제 중 하나는, 인간의 뇌가 동작하는 원리를 밝혀내는 것이다. 인간의 뇌를 흉내 낸 컴퓨터는 연산 장치(CPU)와 메모리를 통하여 계산을 하고 기억을 저장한다. 인간의 뇌는 뉴런(neuron)과 시냅스(synapse)의 연결에 의존한다. 그리고, 인간의 뇌는 현재의 기술로는 따라잡지 못할 정도의 최소의 에너지를 사용하여 기억하고 연산을 하고 있다. \n",
      " \n",
      "1,000억 개의 뉴런과 100조 개의 시냅스\n",
      "뇌는 크기가 대략 10cm×10cm×10cm, 한 변의 길이가 10cm인 육면체로 볼 수 있으며, 10세제곱cm에 1억 개의 뉴런을 가지고 있어, 인간의 뇌는 대략 1,000억 개의 뉴런으로 구성된다. 그리고, 뉴런과 뉴런을 화학 물질의 전달에 의하여 연결해 주는 선이 시냅스이다. 시냅스의 가중치에 따라서 뇌는 특정 내용을 더 잘 기억하게 된다. 멋진 풍경을 보았거나 어렸을 적 놀랐던 기억이 잘 떠오는 이유이다. 이론적으로 인간의 뇌를 구성하는 1,000억 개의 뉴런은 주변의 뉴런과 연결하여 약 100조 개의 시냅스를 갖는다 한다.                                                                                                                                 \n",
      "\n",
      "커넥톰, 뇌의 지도\n",
      "뉴런을 연결하는 지도, 뉴런은 노드에 해당하고 시냅스는 링크에 해당하여, 이러한 뇌의 지도를 커넥톰(Connectome)이라고 한다.   \n",
      "인류는 1986년에 처음으로 생명체인 ‘예쁜꼬마선충(Caenorhabditis elegans)’의 커넥톰을 완성했다. 0.5mm에 불과한 예쁜 꼬마선충은 302개의 뉴런과 7,000개의 시냅스를 가지고 있다. 첫 커넥톰을 만드는 게 기여한 Sydney Brenner 박사는 2002년 해당 공로로 노벨상 생리 및 의학분야를 수상했다. 30년이 지난 후 연구 수준은 1억 개의 뉴런을 연결하는 수준의 연구까지 왔을 것이다. 뇌는 부위에 따라 신체의 각 부분을 관장하는 역할을 한다. 인류가 커넥톰을 완성하였을 즈음에는 뇌와 관련한 질환들, 치매, 자폐증, 정신분열증에서 진전이 있을 것이다.  \n",
      "\n",
      "인간은 게놈과 커넥톰의 연결\n",
      "나 자신은 결국 게놈과 커넥톰의  연결이다. 즉, 유전자와 경험이 나를 만드는 것이다. 게놈은 선천적인 것을 결정하여 변하지 않으나, 반면에 커넥톰은 경험에 의하여 그 연결이 변경되는 가소성을 갖는다. 가소성은 4R, 즉, Re-weight, Re-connect, Re-wire, Re-generation으로 일어나게 된다.   \n",
      "\n",
      "어려운 커넥톰\n",
      "책 ‘커넥톰’은 몇 번 읽으려다가 내용이 어려워 포기하였는 데, 다시 집어 들었다. 어려운 뇌과학을 로맨스 소설을 쓰듯이 쉽게 쓰려고 하였다. 여인이 식장 문에 들어올 때, 신체 감각기관과 뇌가 어떻게 반응하는지를 설명하고 첫 키스 뉴런과 재니퍼 애니스톤 뉴런을 도입하기도 하였지만, 뇌과학은 쉽게 접근을 허용하는 분야는 아니다.  \n",
      "\n",
      "Je pense, donc je suis\n",
      "데카르트의 말, “나는 생각한다. 고로 존재한다. (Je pense, donc je suis.)”와 같이 뇌는 지금 이 순간에도 생각을 계속하여 분비하고 있다. 최근의 ChatGPT 열풍을 보다라도 지금 AI의 발전은 지수적으로 상승하고 있다. 쉬운 결정은 AI가 처리하고, 어려운 결정은 인간이 할 거라는 예상이 있으나, 이 말은 조만간에 틀린 것으로 밝혀지게 될 것이다. \n",
      "\n",
      "어려운 결정은 인간과 AI가 협업할 수 밖에 없는 시대가 다가오고 있다. \n",
      "\n",
      "by 웨이브리지, 글모음 https://brunch.co.kr/@waybridge/\n",
      "['AI', '뇌과학', '과학기술']\n",
      "\n",
      "\n",
      "--------------------------------------------------\n",
      "\n",
      "\n"
     ]
    }
   ],
   "source": [
    "import jsonlines\n",
    "\n",
    "with jsonlines.open(\"brunch_dataset_10_sample.jsonl\") as f:\n",
    "    for line in f.iter():\n",
    "        print(line[\"title\"]) # 각 json에 해당하는 \"id\" 출력\n",
    "        print(line[\"body_text\"]) # 각 json에 해당하는 \"title\" 출력\n",
    "        print(line['keyword'])\n",
    "        print(\"\\n\\n--------------------------------------------------\\n\\n\")"
   ]
  },
  {
   "cell_type": "markdown",
   "id": "c2b0a753",
   "metadata": {},
   "source": [
    "이제 423967개의 데이터 모두를 jsonl로 저장하자."
   ]
  },
  {
   "cell_type": "code",
   "execution_count": 140,
   "id": "ef894f8e",
   "metadata": {},
   "outputs": [],
   "source": [
    "import json\n",
    "\n",
    "with open(\"brunch_dataset_10.jsonl\",\"w\", encoding=\"UTF-8\") as f:\n",
    "    for line in hqe10_json_data:\n",
    "        f.writelines(json.dumps(line,ensure_ascii=False))\n",
    "        f.write(\"\\n\")"
   ]
  },
  {
   "cell_type": "markdown",
   "id": "c103e93f",
   "metadata": {},
   "source": [
    "### 좋아요가 20/30/40/50/100 이상인 글 jsonl로 저장"
   ]
  },
  {
   "cell_type": "markdown",
   "id": "38d98176",
   "metadata": {},
   "source": [
    "#### 20개 이상\n",
    "더 좋은 글을 가려내기 위해 좋아요가 20개 이상인 글만 추출."
   ]
  },
  {
   "cell_type": "code",
   "execution_count": 117,
   "id": "9e11aca6",
   "metadata": {},
   "outputs": [
    {
     "data": {
      "text/plain": [
       "127520"
      ]
     },
     "execution_count": 117,
     "metadata": {},
     "output_type": "execute_result"
    }
   ],
   "source": [
    "super_high_quality_essay = total_df['likes'] >= 20\n",
    "super_high_quality_essay.sum()"
   ]
  },
  {
   "cell_type": "code",
   "execution_count": 142,
   "id": "c8f5db32",
   "metadata": {},
   "outputs": [],
   "source": [
    "shqe_df = total_df[super_high_quality_essay]\n",
    "shqe_df = shqe_df.reset_index()\n",
    "shqe_df = shqe_df[['title', 'sub_title', 'body_text', 'keyword', 'likes', 'post_date', 'post_url', 'author_id']]\n",
    "shqe_df = shqe_df.reset_index()\n",
    "shqe_df = shqe_df.drop(['index'], axis=1) # 기존 인덱스 제거\n",
    "\n",
    "hqe20_json_data = shqe_df.to_dict('records')\n",
    "\n",
    "for json in hqe20_json_data:\n",
    "    keyword_list = str_to_list(json['keyword'])\n",
    "    json['keyword'] = keyword_list\n",
    "\n",
    "import json    \n",
    "    \n",
    "with open(\"brunch_dataset_20.jsonl\",\"w\", encoding=\"UTF-8\") as f:\n",
    "    for line in hqe20_json_data:\n",
    "        f.writelines(json.dumps(line,ensure_ascii=False))\n",
    "        f.write(\"\\n\")"
   ]
  },
  {
   "cell_type": "markdown",
   "id": "c1f2d08f",
   "metadata": {},
   "source": [
    "#### 30개 이상"
   ]
  },
  {
   "cell_type": "code",
   "execution_count": 118,
   "id": "a9ec7ceb",
   "metadata": {},
   "outputs": [
    {
     "data": {
      "text/plain": [
       "61442"
      ]
     },
     "execution_count": 118,
     "metadata": {},
     "output_type": "execute_result"
    }
   ],
   "source": [
    "amazing_high_quality_essay = total_df['likes'] >= 30\n",
    "amazing_high_quality_essay.sum()"
   ]
  },
  {
   "cell_type": "code",
   "execution_count": 143,
   "id": "b5c03b1a",
   "metadata": {},
   "outputs": [],
   "source": [
    "ahqe_df = total_df[amazing_high_quality_essay]\n",
    "ahqe_df = ahqe_df.reset_index()\n",
    "ahqe_df = ahqe_df[['title', 'sub_title', 'body_text', 'keyword', 'likes', 'post_date', 'post_url', 'author_id']]\n",
    "ahqe_df = ahqe_df.reset_index()\n",
    "ahqe_df = ahqe_df.drop(['index'], axis=1) # 기존 인덱스 제거\n",
    "\n",
    "hqe30_json_data = ahqe_df.to_dict('records')\n",
    "\n",
    "for json in hqe30_json_data:\n",
    "    keyword_list = str_to_list(json['keyword'])\n",
    "    json['keyword'] = keyword_list\n",
    "\n",
    "import json    \n",
    "    \n",
    "with open(\"brunch_dataset_30.jsonl\",\"w\", encoding=\"UTF-8\") as f:\n",
    "    for line in hqe30_json_data:\n",
    "        f.writelines(json.dumps(line,ensure_ascii=False))\n",
    "        f.write(\"\\n\")"
   ]
  },
  {
   "cell_type": "markdown",
   "id": "78dba34b",
   "metadata": {},
   "source": [
    "#### 40개  이상"
   ]
  },
  {
   "cell_type": "code",
   "execution_count": 137,
   "id": "d3e1225a",
   "metadata": {},
   "outputs": [
    {
     "data": {
      "text/plain": [
       "38121"
      ]
     },
     "execution_count": 137,
     "metadata": {},
     "output_type": "execute_result"
    }
   ],
   "source": [
    "fantastic_high_quality_essay = total_df['likes'] >= 40\n",
    "fantastic_high_quality_essay.sum()"
   ]
  },
  {
   "cell_type": "code",
   "execution_count": 144,
   "id": "fe25220d",
   "metadata": {},
   "outputs": [],
   "source": [
    "fhqe_df = total_df[fantastic_high_quality_essay]\n",
    "fhqe_df = fhqe_df.reset_index()\n",
    "fhqe_df = fhqe_df[['title', 'sub_title', 'body_text', 'keyword', 'likes', 'post_date', 'post_url', 'author_id']]\n",
    "fhqe_df = fhqe_df.reset_index()\n",
    "fhqe_df = fhqe_df.drop(['index'], axis=1) # 기존 인덱스 제거\n",
    "\n",
    "hqe40_json_data = fhqe_df.to_dict('records')\n",
    "\n",
    "for json in hqe40_json_data:\n",
    "    keyword_list = str_to_list(json['keyword'])\n",
    "    json['keyword'] = keyword_list\n",
    "\n",
    "import json    \n",
    "    \n",
    "with open(\"brunch_dataset_40.jsonl\",\"w\", encoding=\"UTF-8\") as f:\n",
    "    for line in hqe40_json_data:\n",
    "        f.writelines(json.dumps(line,ensure_ascii=False))\n",
    "        f.write(\"\\n\")"
   ]
  },
  {
   "cell_type": "markdown",
   "id": "3d150e6a",
   "metadata": {},
   "source": [
    "#### 50개 이상"
   ]
  },
  {
   "cell_type": "code",
   "execution_count": 138,
   "id": "d977da39",
   "metadata": {},
   "outputs": [
    {
     "data": {
      "text/plain": [
       "26190"
      ]
     },
     "execution_count": 138,
     "metadata": {},
     "output_type": "execute_result"
    }
   ],
   "source": [
    "incredible_high_quality_essay = total_df['likes'] >= 50\n",
    "incredible_high_quality_essay.sum()"
   ]
  },
  {
   "cell_type": "code",
   "execution_count": 145,
   "id": "540d2a9c",
   "metadata": {},
   "outputs": [],
   "source": [
    "ihqe_df = total_df[incredible_high_quality_essay]\n",
    "ihqe_df = ihqe_df.reset_index()\n",
    "ihqe_df = ihqe_df[['title', 'sub_title', 'body_text', 'keyword', 'likes', 'post_date', 'post_url', 'author_id']]\n",
    "ihqe_df = ihqe_df.reset_index()\n",
    "ihqe_df = ihqe_df.drop(['index'], axis=1) # 기존 인덱스 제거\n",
    "\n",
    "hqe50_json_data = ihqe_df.to_dict('records')\n",
    "\n",
    "for json in hqe50_json_data:\n",
    "    keyword_list = str_to_list(json['keyword'])\n",
    "    json['keyword'] = keyword_list\n",
    "\n",
    "import json    \n",
    "    \n",
    "with open(\"brunch_dataset_50.jsonl\",\"w\", encoding=\"UTF-8\") as f:\n",
    "    for line in hqe50_json_data:\n",
    "        f.writelines(json.dumps(line,ensure_ascii=False))\n",
    "        f.write(\"\\n\")"
   ]
  },
  {
   "cell_type": "markdown",
   "id": "50c0765e",
   "metadata": {},
   "source": [
    "#### 100개 이상"
   ]
  },
  {
   "cell_type": "code",
   "execution_count": 139,
   "id": "45f59c0f",
   "metadata": {},
   "outputs": [
    {
     "data": {
      "text/plain": [
       "7999"
      ]
     },
     "execution_count": 139,
     "metadata": {},
     "output_type": "execute_result"
    }
   ],
   "source": [
    "crazy_high_quality_essay = total_df['likes'] >= 100\n",
    "crazy_high_quality_essay.sum()"
   ]
  },
  {
   "cell_type": "code",
   "execution_count": 146,
   "id": "cfcb8adb",
   "metadata": {},
   "outputs": [],
   "source": [
    "chqe_df = total_df[crazy_high_quality_essay]\n",
    "chqe_df = chqe_df.reset_index()\n",
    "chqe_df = chqe_df[['title', 'sub_title', 'body_text', 'keyword', 'likes', 'post_date', 'post_url', 'author_id']]\n",
    "chqe_df = chqe_df.reset_index()\n",
    "chqe_df = chqe_df.drop(['index'], axis=1) # 기존 인덱스 제거\n",
    "\n",
    "hqe100_json_data = ihqe_df.to_dict('records')\n",
    "\n",
    "for json in hqe100_json_data:\n",
    "    keyword_list = str_to_list(json['keyword'])\n",
    "    json['keyword'] = keyword_list\n",
    "\n",
    "import json    \n",
    "    \n",
    "with open(\"brunch_dataset_100.jsonl\",\"w\", encoding=\"UTF-8\") as f:\n",
    "    for line in hqe100_json_data:\n",
    "        f.writelines(json.dumps(line,ensure_ascii=False))\n",
    "        f.write(\"\\n\")"
   ]
  }
 ],
 "metadata": {
  "kernelspec": {
   "display_name": "Python 3 (ipykernel)",
   "language": "python",
   "name": "python3"
  },
  "language_info": {
   "codemirror_mode": {
    "name": "ipython",
    "version": 3
   },
   "file_extension": ".py",
   "mimetype": "text/x-python",
   "name": "python",
   "nbconvert_exporter": "python",
   "pygments_lexer": "ipython3",
   "version": "3.11.1"
  }
 },
 "nbformat": 4,
 "nbformat_minor": 5
}
