{
 "cells": [
  {
   "cell_type": "markdown",
   "id": "3695e29a",
   "metadata": {},
   "source": [
    "# 브런치 데이터셋 프로젝트\n",
    "\n",
    "수집한 데이터셋을 배포할 수 있도록 처리"
   ]
  },
  {
   "cell_type": "markdown",
   "id": "5b6abd3e",
   "metadata": {},
   "source": [
    "## raw_dataset에 있는 파일 불러오기"
   ]
  },
  {
   "cell_type": "code",
   "execution_count": 1,
   "id": "080a145b",
   "metadata": {},
   "outputs": [
    {
     "data": {
      "text/plain": [
       "['./raw_dataset/AI_dataset.csv',\n",
       " './raw_dataset/IT_dataset.csv',\n",
       " './raw_dataset/감성에세이_dataset.csv',\n",
       " './raw_dataset/강아지_dataset.csv',\n",
       " './raw_dataset/건강_dataset.csv',\n",
       " './raw_dataset/건축_dataset.csv',\n",
       " './raw_dataset/게임_dataset.csv',\n",
       " './raw_dataset/경제_dataset.csv',\n",
       " './raw_dataset/경제학_dataset.csv',\n",
       " './raw_dataset/고양이_dataset.csv',\n",
       " './raw_dataset/공연_dataset.csv',\n",
       " './raw_dataset/과학_dataset.csv',\n",
       " './raw_dataset/과학기술_dataset.csv',\n",
       " './raw_dataset/교육_dataset.csv',\n",
       " './raw_dataset/글쓰기_dataset.csv',\n",
       " './raw_dataset/기후_dataset.csv',\n",
       " './raw_dataset/기후변화_dataset.csv',\n",
       " './raw_dataset/남자친구_dataset.csv',\n",
       " './raw_dataset/노래_dataset.csv',\n",
       " './raw_dataset/뉴스_dataset.csv',\n",
       " './raw_dataset/니체_dataset.csv',\n",
       " './raw_dataset/다이어트_dataset.csv',\n",
       " './raw_dataset/독서_dataset.csv',\n",
       " './raw_dataset/동물_dataset.csv',\n",
       " './raw_dataset/디자이너_dataset.csv',\n",
       " './raw_dataset/디자인_dataset.csv',\n",
       " './raw_dataset/로봇_dataset.csv',\n",
       " './raw_dataset/맛집_dataset.csv',\n",
       " './raw_dataset/문명_dataset.csv',\n",
       " './raw_dataset/문화_dataset.csv',\n",
       " './raw_dataset/물리학_dataset.csv',\n",
       " './raw_dataset/뮤지컬_dataset.csv',\n",
       " './raw_dataset/미국_dataset.csv',\n",
       " './raw_dataset/미래_dataset.csv',\n",
       " './raw_dataset/반려견_dataset.csv',\n",
       " './raw_dataset/반려동물_dataset.csv',\n",
       " './raw_dataset/부동산_dataset.csv',\n",
       " './raw_dataset/부모_dataset.csv',\n",
       " './raw_dataset/사랑_dataset.csv',\n",
       " './raw_dataset/사업_dataset.csv',\n",
       " './raw_dataset/사진_dataset.csv',\n",
       " './raw_dataset/산문_dataset.csv',\n",
       " './raw_dataset/상사_dataset.csv',\n",
       " './raw_dataset/서평_dataset.csv',\n",
       " './raw_dataset/세계여행_dataset.csv',\n",
       " './raw_dataset/소개팅_dataset.csv',\n",
       " './raw_dataset/소크라테스_dataset.csv',\n",
       " './raw_dataset/수필_dataset.csv',\n",
       " './raw_dataset/스마트폰_dataset.csv',\n",
       " './raw_dataset/스타트업_dataset.csv',\n",
       " './raw_dataset/시사_dataset.csv',\n",
       " './raw_dataset/신입사원_dataset.csv',\n",
       " './raw_dataset/심리_dataset.csv',\n",
       " './raw_dataset/심리분석_dataset.csv',\n",
       " './raw_dataset/심리치료_dataset.csv',\n",
       " './raw_dataset/심리학_dataset.csv',\n",
       " './raw_dataset/아이_dataset.csv',\n",
       " './raw_dataset/양자역학_dataset.csv',\n",
       " './raw_dataset/언어_dataset.csv',\n",
       " './raw_dataset/에세이_dataset.csv',\n",
       " './raw_dataset/여자친구_dataset.csv',\n",
       " './raw_dataset/여행_dataset.csv',\n",
       " './raw_dataset/역사_dataset.csv',\n",
       " './raw_dataset/연극_dataset.csv',\n",
       " './raw_dataset/연애_dataset.csv',\n",
       " './raw_dataset/영화_dataset.csv',\n",
       " './raw_dataset/영화리뷰_dataset.csv',\n",
       " './raw_dataset/영화평론_dataset.csv',\n",
       " './raw_dataset/예술_dataset.csv',\n",
       " './raw_dataset/요가_dataset.csv',\n",
       " './raw_dataset/요리_dataset.csv',\n",
       " './raw_dataset/우주_dataset.csv',\n",
       " './raw_dataset/운동_dataset.csv',\n",
       " './raw_dataset/워킹맘_dataset.csv',\n",
       " './raw_dataset/유전자_dataset.csv',\n",
       " './raw_dataset/육아_dataset.csv',\n",
       " './raw_dataset/육아에세이_dataset.csv',\n",
       " './raw_dataset/육아이야기_dataset.csv',\n",
       " './raw_dataset/음악_dataset.csv',\n",
       " './raw_dataset/이별_dataset.csv',\n",
       " './raw_dataset/이직_dataset.csv',\n",
       " './raw_dataset/인공지능_dataset.csv',\n",
       " './raw_dataset/인권_dataset.csv',\n",
       " './raw_dataset/인문학_dataset.csv',\n",
       " './raw_dataset/인터넷_dataset.csv',\n",
       " './raw_dataset/자연_dataset.csv',\n",
       " './raw_dataset/전시_dataset.csv',\n",
       " './raw_dataset/전쟁_dataset.csv',\n",
       " './raw_dataset/전쟁사_dataset.csv',\n",
       " './raw_dataset/정의_dataset.csv',\n",
       " './raw_dataset/정치_dataset.csv',\n",
       " './raw_dataset/조선_dataset.csv',\n",
       " './raw_dataset/종교_dataset.csv',\n",
       " './raw_dataset/주식_dataset.csv',\n",
       " './raw_dataset/지구_dataset.csv',\n",
       " './raw_dataset/직장_dataset.csv',\n",
       " './raw_dataset/직장생활_dataset.csv',\n",
       " './raw_dataset/직장인_dataset.csv',\n",
       " './raw_dataset/진화_dataset.csv',\n",
       " './raw_dataset/짝사랑_dataset.csv',\n",
       " './raw_dataset/차별_dataset.csv',\n",
       " './raw_dataset/창업_dataset.csv',\n",
       " './raw_dataset/책리뷰_dataset.csv',\n",
       " './raw_dataset/천문학_dataset.csv',\n",
       " './raw_dataset/철학_dataset.csv',\n",
       " './raw_dataset/첫사랑_dataset.csv',\n",
       " './raw_dataset/추억_dataset.csv',\n",
       " './raw_dataset/취업_dataset.csv',\n",
       " './raw_dataset/칼럼_dataset.csv',\n",
       " './raw_dataset/컴퓨터_dataset.csv',\n",
       " './raw_dataset/퇴사_dataset.csv',\n",
       " './raw_dataset/트렌드_dataset.csv',\n",
       " './raw_dataset/필라테스_dataset.csv',\n",
       " './raw_dataset/학교_dataset.csv',\n",
       " './raw_dataset/해외여행_dataset.csv',\n",
       " './raw_dataset/헬스_dataset.csv',\n",
       " './raw_dataset/환경_dataset.csv',\n",
       " './raw_dataset/회사_dataset.csv']"
      ]
     },
     "execution_count": 1,
     "metadata": {},
     "output_type": "execute_result"
    }
   ],
   "source": [
    "import os\n",
    "\n",
    "data_path =\"./raw_dataset\"\n",
    "file_list = os.listdir(data_path)\n",
    "\n",
    "file_path_list = []\n",
    "for file in file_list:\n",
    "    file_path_list.append(data_path + '/' + file)\n",
    "file_path_list"
   ]
  },
  {
   "cell_type": "code",
   "execution_count": 2,
   "id": "f1f86718",
   "metadata": {},
   "outputs": [],
   "source": [
    "import pandas as pd\n",
    "import re\n",
    "\n",
    "df_dict = {}\n",
    "for file in file_path_list:\n",
    "    df = pd.read_csv(file)\n",
    "    keyword = re.search('./raw_dataset/(.+?)_dataset', file)\n",
    "    df_dict[keyword.group(1)] = df"
   ]
  },
  {
   "cell_type": "markdown",
   "id": "8d0cda5d",
   "metadata": {},
   "source": [
    "## 데이터 확인"
   ]
  },
  {
   "cell_type": "markdown",
   "id": "68f90927",
   "metadata": {},
   "source": [
    "### 수집에 사용한 키워드 확인"
   ]
  },
  {
   "cell_type": "code",
   "execution_count": 3,
   "id": "71db18b7",
   "metadata": {
    "scrolled": true
   },
   "outputs": [
    {
     "data": {
      "text/plain": [
       "['AI',\n",
       " 'IT',\n",
       " '감성에세이',\n",
       " '강아지',\n",
       " '건강',\n",
       " '건축',\n",
       " '게임',\n",
       " '경제',\n",
       " '경제학',\n",
       " '고양이',\n",
       " '공연',\n",
       " '과학',\n",
       " '과학기술',\n",
       " '교육',\n",
       " '글쓰기',\n",
       " '기후',\n",
       " '기후변화',\n",
       " '남자친구',\n",
       " '노래',\n",
       " '뉴스',\n",
       " '니체',\n",
       " '다이어트',\n",
       " '독서',\n",
       " '동물',\n",
       " '디자이너',\n",
       " '디자인',\n",
       " '로봇',\n",
       " '맛집',\n",
       " '문명',\n",
       " '문화',\n",
       " '물리학',\n",
       " '뮤지컬',\n",
       " '미국',\n",
       " '미래',\n",
       " '반려견',\n",
       " '반려동물',\n",
       " '부동산',\n",
       " '부모',\n",
       " '사랑',\n",
       " '사업',\n",
       " '사진',\n",
       " '산문',\n",
       " '상사',\n",
       " '서평',\n",
       " '세계여행',\n",
       " '소개팅',\n",
       " '소크라테스',\n",
       " '수필',\n",
       " '스마트폰',\n",
       " '스타트업',\n",
       " '시사',\n",
       " '신입사원',\n",
       " '심리',\n",
       " '심리분석',\n",
       " '심리치료',\n",
       " '심리학',\n",
       " '아이',\n",
       " '양자역학',\n",
       " '언어',\n",
       " '에세이',\n",
       " '여자친구',\n",
       " '여행',\n",
       " '역사',\n",
       " '연극',\n",
       " '연애',\n",
       " '영화',\n",
       " '영화리뷰',\n",
       " '영화평론',\n",
       " '예술',\n",
       " '요가',\n",
       " '요리',\n",
       " '우주',\n",
       " '운동',\n",
       " '워킹맘',\n",
       " '유전자',\n",
       " '육아',\n",
       " '육아에세이',\n",
       " '육아이야기',\n",
       " '음악',\n",
       " '이별',\n",
       " '이직',\n",
       " '인공지능',\n",
       " '인권',\n",
       " '인문학',\n",
       " '인터넷',\n",
       " '자연',\n",
       " '전시',\n",
       " '전쟁',\n",
       " '전쟁사',\n",
       " '정의',\n",
       " '정치',\n",
       " '조선',\n",
       " '종교',\n",
       " '주식',\n",
       " '지구',\n",
       " '직장',\n",
       " '직장생활',\n",
       " '직장인',\n",
       " '진화',\n",
       " '짝사랑',\n",
       " '차별',\n",
       " '창업',\n",
       " '책리뷰',\n",
       " '천문학',\n",
       " '철학',\n",
       " '첫사랑',\n",
       " '추억',\n",
       " '취업',\n",
       " '칼럼',\n",
       " '컴퓨터',\n",
       " '퇴사',\n",
       " '트렌드',\n",
       " '필라테스',\n",
       " '학교',\n",
       " '해외여행',\n",
       " '헬스',\n",
       " '환경',\n",
       " '회사']"
      ]
     },
     "execution_count": 3,
     "metadata": {},
     "output_type": "execute_result"
    }
   ],
   "source": [
    "keywords = df_dict.keys()\n",
    "keywords = list(keywords)\n",
    "keywords"
   ]
  },
  {
   "cell_type": "code",
   "execution_count": 4,
   "id": "d82ba52c",
   "metadata": {},
   "outputs": [
    {
     "data": {
      "text/plain": [
       "118"
      ]
     },
     "execution_count": 4,
     "metadata": {},
     "output_type": "execute_result"
    }
   ],
   "source": [
    "len(keywords)"
   ]
  },
  {
   "cell_type": "code",
   "execution_count": 5,
   "id": "95812853",
   "metadata": {},
   "outputs": [
    {
     "data": {
      "text/html": [
       "<div>\n",
       "<style scoped>\n",
       "    .dataframe tbody tr th:only-of-type {\n",
       "        vertical-align: middle;\n",
       "    }\n",
       "\n",
       "    .dataframe tbody tr th {\n",
       "        vertical-align: top;\n",
       "    }\n",
       "\n",
       "    .dataframe thead th {\n",
       "        text-align: right;\n",
       "    }\n",
       "</style>\n",
       "<table border=\"1\" class=\"dataframe\">\n",
       "  <thead>\n",
       "    <tr style=\"text-align: right;\">\n",
       "      <th></th>\n",
       "      <th>title</th>\n",
       "      <th>body_text</th>\n",
       "      <th>keyword</th>\n",
       "    </tr>\n",
       "  </thead>\n",
       "  <tbody>\n",
       "    <tr>\n",
       "      <th>0</th>\n",
       "      <td>09. 나의 지구와 고양이를 위해서</td>\n",
       "      <td>\\n     \\n세계경제포럼인 다보스포럼은 기후위험이 향후 10년 동안 글로벌 위험...</td>\n",
       "      <td>['기후위험', '고양이', '에세이']</td>\n",
       "    </tr>\n",
       "    <tr>\n",
       "      <th>1</th>\n",
       "      <td>모난돌 일대기 4</td>\n",
       "      <td>\\n 그의 존재는 마치 점순이의 감자 같은 것이었다.\\n\\n\" 느그네 과에 이런 스...</td>\n",
       "      <td>['에세이', '페미니즘', '대학생']</td>\n",
       "    </tr>\n",
       "    <tr>\n",
       "      <th>2</th>\n",
       "      <td>에세이가 뭐냐고 물으신다면,</td>\n",
       "      <td>\\n  에세이를 주로 쓰지만 에세이 책을 주로 읽진 않는다. 글쓰기 모임도 한다더니...</td>\n",
       "      <td>['에세이', '글쓰기', '공감에세이']</td>\n",
       "    </tr>\n",
       "    <tr>\n",
       "      <th>3</th>\n",
       "      <td>환장의 세계</td>\n",
       "      <td>\\n줄어들 생각을 하지 않는 이 줄 끝에 행복이 있을까. 사람들이 많지 않던 때에 ...</td>\n",
       "      <td>['에세이', '가족', '롯데월드']</td>\n",
       "    </tr>\n",
       "    <tr>\n",
       "      <th>4</th>\n",
       "      <td>나의 수습일지 #다시 온 스튜디오</td>\n",
       "      <td>\\n기자와 PD 직군별로 나누어 진행된 사내 교육 첫 주에는 뉴스 모니터링 시간이 ...</td>\n",
       "      <td>['언론', '에세이', '직장생활']</td>\n",
       "    </tr>\n",
       "    <tr>\n",
       "      <th>5</th>\n",
       "      <td>낯선 것들로부터의 위로</td>\n",
       "      <td>\\n\\n지금까지 잘 살아왔다고 생각했고, 앞으로도 잘 살 것이라고 굳게 믿었다. 나...</td>\n",
       "      <td>['변화', '에세이', '프리랜서']</td>\n",
       "    </tr>\n",
       "    <tr>\n",
       "      <th>6</th>\n",
       "      <td>홍콩에서 하는 저녁 8시 밤산책</td>\n",
       "      <td>\\n횡단보도에서 익숙한 사람을 보았다. 내심 반가운 마음이 불쑥 튀어나왔다. 그러나...</td>\n",
       "      <td>['홍콩', '산책', '에세이']</td>\n",
       "    </tr>\n",
       "    <tr>\n",
       "      <th>7</th>\n",
       "      <td>교대근무</td>\n",
       "      <td>\\n수많은 ㅈ소기업들을 거쳐서 왔지만, 지금 직장도 만족도 100으로 따지면 70 ...</td>\n",
       "      <td>['에세이', '경험', '생각']</td>\n",
       "    </tr>\n",
       "    <tr>\n",
       "      <th>8</th>\n",
       "      <td>매서운 바람과 단단해진 나의 마음</td>\n",
       "      <td>\\n\\n신기하게도 그렇게 되었다.\\n나는 더욱 더 단단해졌다.\\n\\n시린 날, 바람...</td>\n",
       "      <td>['마음', '에세이', '자존감']</td>\n",
       "    </tr>\n",
       "    <tr>\n",
       "      <th>9</th>\n",
       "      <td>사랑의 기술 - 13</td>\n",
       "      <td>\\n지난 이야기.\\nhttps://brunch.co.kr/@ahura/1484\\n\\...</td>\n",
       "      <td>['사랑', '세상', '에세이']</td>\n",
       "    </tr>\n",
       "  </tbody>\n",
       "</table>\n",
       "</div>"
      ],
      "text/plain": [
       "                 title                                          body_text  \\\n",
       "0  09. 나의 지구와 고양이를 위해서  \\n     \\n세계경제포럼인 다보스포럼은 기후위험이 향후 10년 동안 글로벌 위험...   \n",
       "1            모난돌 일대기 4  \\n 그의 존재는 마치 점순이의 감자 같은 것이었다.\\n\\n\" 느그네 과에 이런 스...   \n",
       "2      에세이가 뭐냐고 물으신다면,  \\n  에세이를 주로 쓰지만 에세이 책을 주로 읽진 않는다. 글쓰기 모임도 한다더니...   \n",
       "3               환장의 세계  \\n줄어들 생각을 하지 않는 이 줄 끝에 행복이 있을까. 사람들이 많지 않던 때에 ...   \n",
       "4  나의 수습일지 #다시 온 스튜디오   \\n기자와 PD 직군별로 나누어 진행된 사내 교육 첫 주에는 뉴스 모니터링 시간이 ...   \n",
       "5         낯선 것들로부터의 위로  \\n\\n지금까지 잘 살아왔다고 생각했고, 앞으로도 잘 살 것이라고 굳게 믿었다. 나...   \n",
       "6    홍콩에서 하는 저녁 8시 밤산책  \\n횡단보도에서 익숙한 사람을 보았다. 내심 반가운 마음이 불쑥 튀어나왔다. 그러나...   \n",
       "7                 교대근무  \\n수많은 ㅈ소기업들을 거쳐서 왔지만, 지금 직장도 만족도 100으로 따지면 70 ...   \n",
       "8   매서운 바람과 단단해진 나의 마음  \\n\\n신기하게도 그렇게 되었다.\\n나는 더욱 더 단단해졌다.\\n\\n시린 날, 바람...   \n",
       "9          사랑의 기술 - 13  \\n지난 이야기.\\nhttps://brunch.co.kr/@ahura/1484\\n\\...   \n",
       "\n",
       "                   keyword  \n",
       "0   ['기후위험', '고양이', '에세이']  \n",
       "1   ['에세이', '페미니즘', '대학생']  \n",
       "2  ['에세이', '글쓰기', '공감에세이']  \n",
       "3    ['에세이', '가족', '롯데월드']  \n",
       "4    ['언론', '에세이', '직장생활']  \n",
       "5    ['변화', '에세이', '프리랜서']  \n",
       "6      ['홍콩', '산책', '에세이']  \n",
       "7      ['에세이', '경험', '생각']  \n",
       "8     ['마음', '에세이', '자존감']  \n",
       "9      ['사랑', '세상', '에세이']  "
      ]
     },
     "execution_count": 5,
     "metadata": {},
     "output_type": "execute_result"
    }
   ],
   "source": [
    "df_dict['에세이'].loc[range(10), ['title', 'body_text', 'keyword']]"
   ]
  },
  {
   "cell_type": "markdown",
   "id": "648f4c31",
   "metadata": {},
   "source": [
    "### 전체 에세이 수 확인"
   ]
  },
  {
   "cell_type": "code",
   "execution_count": 6,
   "id": "a926262c",
   "metadata": {},
   "outputs": [
    {
     "name": "stdout",
     "output_type": "stream",
     "text": [
      "전체 에세이 수: 1108528\n"
     ]
    }
   ],
   "source": [
    "num_essay = 0\n",
    "num_essay_tup = []\n",
    "for keyword in keywords:\n",
    "    #print(f\"{keyword}:{len(df_dict[keyword])}\")\n",
    "    num_essay_tup.append((keyword,len(df_dict[keyword])))\n",
    "    num_essay += len(df_dict[keyword])\n",
    "print(f\"전체 에세이 수: {num_essay}\")"
   ]
  },
  {
   "cell_type": "code",
   "execution_count": 7,
   "id": "5a87f1af",
   "metadata": {},
   "outputs": [
    {
     "data": {
      "text/plain": [
       "[('AI', 2415),\n",
       " ('IT', 11315),\n",
       " ('감성에세이', 30051),\n",
       " ('강아지', 7829),\n",
       " ('건강', 12669),\n",
       " ('건축', 3772),\n",
       " ('게임', 4897),\n",
       " ('경제', 6515),\n",
       " ('경제학', 709),\n",
       " ('고양이', 16701),\n",
       " ('공연', 3754),\n",
       " ('과학', 2854),\n",
       " ('과학기술', 407),\n",
       " ('교육', 14139),\n",
       " ('글쓰기', 54340),\n",
       " ('기후', 242),\n",
       " ('기후변화', 1693),\n",
       " ('남자친구', 1196),\n",
       " ('노래', 6146),\n",
       " ('뉴스', 2818),\n",
       " ('니체', 1177),\n",
       " ('다이어트', 9987),\n",
       " ('독서', 35676),\n",
       " ('동물', 2733),\n",
       " ('디자이너', 3411),\n",
       " ('디자인', 14368),\n",
       " ('로봇', 1223),\n",
       " ('맛집', 6913),\n",
       " ('문명', 439),\n",
       " ('문화', 4491),\n",
       " ('물리학', 443),\n",
       " ('뮤지컬', 2967),\n",
       " ('미국', 9664),\n",
       " ('미래', 4555),\n",
       " ('반려견', 5098),\n",
       " ('반려동물', 8577),\n",
       " ('부동산', 8180),\n",
       " ('부모', 6343),\n",
       " ('사랑', 70209),\n",
       " ('사업', 3678),\n",
       " ('사진', 17430),\n",
       " ('산문', 1604),\n",
       " ('상사', 1328),\n",
       " ('서평', 9724),\n",
       " ('세계여행', 7686),\n",
       " ('소개팅', 1148),\n",
       " ('소크라테스', 387),\n",
       " ('수필', 6017),\n",
       " ('스마트폰', 2635),\n",
       " ('스타트업', 22654),\n",
       " ('시사', 1682),\n",
       " ('신입사원', 2236),\n",
       " ('심리', 14579),\n",
       " ('심리분석', 648),\n",
       " ('심리치료', 1177),\n",
       " ('심리학', 6277),\n",
       " ('아이', 14728),\n",
       " ('양자역학', 345),\n",
       " ('언어', 3362),\n",
       " ('에세이', 106385),\n",
       " ('여자친구', 625),\n",
       " ('여행', 44092),\n",
       " ('역사', 9364),\n",
       " ('연극', 2560),\n",
       " ('연애', 20148),\n",
       " ('영화', 67302),\n",
       " ('영화리뷰', 16528),\n",
       " ('영화평론', 330),\n",
       " ('예술', 8373),\n",
       " ('요가', 4235),\n",
       " ('요리', 10217),\n",
       " ('우주', 2939),\n",
       " ('운동', 13918),\n",
       " ('워킹맘', 4249),\n",
       " ('유전자', 610),\n",
       " ('육아', 36766),\n",
       " ('육아에세이', 8922),\n",
       " ('육아이야기', 2136),\n",
       " ('음악', 18371),\n",
       " ('이별', 13892),\n",
       " ('이직', 6009),\n",
       " ('인공지능', 5230),\n",
       " ('인권', 1310),\n",
       " ('인문학', 9031),\n",
       " ('인터넷', 947),\n",
       " ('자연', 3170),\n",
       " ('전시', 4337),\n",
       " ('전쟁', 3091),\n",
       " ('전쟁사', 3),\n",
       " ('정의', 1346),\n",
       " ('정치', 5257),\n",
       " ('조선', 978),\n",
       " ('종교', 1775),\n",
       " ('주식', 7806),\n",
       " ('지구', 1329),\n",
       " ('직장', 11261),\n",
       " ('직장생활', 14340),\n",
       " ('직장인', 17439),\n",
       " ('진화', 773),\n",
       " ('짝사랑', 1391),\n",
       " ('차별', 1682),\n",
       " ('창업', 11508),\n",
       " ('책리뷰', 10922),\n",
       " ('천문학', 172),\n",
       " ('철학', 10603),\n",
       " ('첫사랑', 1539),\n",
       " ('추억', 10000),\n",
       " ('취업', 11858),\n",
       " ('칼럼', 1277),\n",
       " ('컴퓨터', 583),\n",
       " ('퇴사', 14007),\n",
       " ('트렌드', 4231),\n",
       " ('필라테스', 566),\n",
       " ('학교', 6991),\n",
       " ('해외여행', 14382),\n",
       " ('헬스', 782),\n",
       " ('환경', 2843),\n",
       " ('회사', 15556)]"
      ]
     },
     "execution_count": 7,
     "metadata": {},
     "output_type": "execute_result"
    }
   ],
   "source": [
    "num_essay_tup"
   ]
  },
  {
   "cell_type": "markdown",
   "id": "5affad8c",
   "metadata": {},
   "source": [
    "### 키워드별 에세이 수 시각화"
   ]
  },
  {
   "cell_type": "code",
   "execution_count": 8,
   "id": "c7f87417",
   "metadata": {
    "scrolled": true
   },
   "outputs": [
    {
     "data": {
      "image/png": "[encoded data removed]",
      "text/plain": [
       "<Figure size 1000x4000 with 1 Axes>"
      ]
     },
     "metadata": {},
     "output_type": "display_data"
    }
   ],
   "source": [
    "import matplotlib.pyplot as plt\n",
    "from matplotlib import font_manager, rc\n",
    "\n",
    "font_path = \"C:\\Windows\\Fonts\\malgun.ttf\"\n",
    "font = font_manager.FontProperties(fname=font_path).get_name()\n",
    "rc('font', family=font)\n",
    "\n",
    "x = [tup[0] for tup in num_essay_tup]\n",
    "y = [tup[1] for tup in num_essay_tup]\n",
    "\n",
    "plt.figure(figsize=(10, 40))\n",
    "plt.barh(x[::-1],y[::-1])\n",
    "plt.savefig('keyword_num_essay.png', dpi=300)\n",
    "plt.show()\n"
   ]
  },
  {
   "cell_type": "markdown",
   "id": "5a96c9a1",
   "metadata": {},
   "source": [
    "### 하나의 데이터프레임으로 합치기"
   ]
  },
  {
   "cell_type": "code",
   "execution_count": 9,
   "id": "4d838c5f",
   "metadata": {},
   "outputs": [],
   "source": [
    "df_list = df_dict.values()\n",
    "total_df = pd.concat(df_list, ignore_index=True)"
   ]
  },
  {
   "cell_type": "code",
   "execution_count": 10,
   "id": "54741a80",
   "metadata": {
    "scrolled": true
   },
   "outputs": [
    {
     "data": {
      "text/html": [
       "<div>\n",
       "<style scoped>\n",
       "    .dataframe tbody tr th:only-of-type {\n",
       "        vertical-align: middle;\n",
       "    }\n",
       "\n",
       "    .dataframe tbody tr th {\n",
       "        vertical-align: top;\n",
       "    }\n",
       "\n",
       "    .dataframe thead th {\n",
       "        text-align: right;\n",
       "    }\n",
       "</style>\n",
       "<table border=\"1\" class=\"dataframe\">\n",
       "  <thead>\n",
       "    <tr style=\"text-align: right;\">\n",
       "      <th></th>\n",
       "      <th>title</th>\n",
       "      <th>sub_title</th>\n",
       "      <th>body_text</th>\n",
       "      <th>keyword</th>\n",
       "      <th>likes</th>\n",
       "      <th>num_comments</th>\n",
       "      <th>post_date</th>\n",
       "      <th>post_url</th>\n",
       "      <th>author</th>\n",
       "      <th>author_id</th>\n",
       "      <th>author_belong</th>\n",
       "      <th>author_desc</th>\n",
       "      <th>num_subscription</th>\n",
       "    </tr>\n",
       "  </thead>\n",
       "  <tbody>\n",
       "    <tr>\n",
       "      <th>0</th>\n",
       "      <td>컴퓨터 비전 기술 활용 AI개발 사례</td>\n",
       "      <td>스노우같은 셀카앱을 만들고 싶다면</td>\n",
       "      <td>\\n\\n\\n오늘 다뤄볼 주제는 컴퓨터 비전이라는 기술입니다.\\n\\n우리가 흔히 알고...</td>\n",
       "      <td>['컴퓨터비전', '비전', 'AI']</td>\n",
       "      <td>4</td>\n",
       "      <td>0</td>\n",
       "      <td>2023-01-25</td>\n",
       "      <td>https://brunch.co.kr/@brunchk1wj/57</td>\n",
       "      <td>김성장</td>\n",
       "      <td>@brunchk1wj</td>\n",
       "      <td>CEO</td>\n",
       "      <td>AI 솔루션 스타트업, 디피니트 대표 김도환입니다.</td>\n",
       "      <td>38</td>\n",
       "    </tr>\n",
       "    <tr>\n",
       "      <th>1</th>\n",
       "      <td>AI 어시스턴트의 보이스를 통한 이모티콘 활용 방법</td>\n",
       "      <td>Part 2. 탐구생활 #2</td>\n",
       "      <td>\\n현대 사회의 커뮤니케이션\\n\\n현대 사회는 스마트폰을 통해서 시공간적 제약의 한...</td>\n",
       "      <td>['이모티콘', 'AI', 'UX디자인']</td>\n",
       "      <td>8</td>\n",
       "      <td>0</td>\n",
       "      <td>2023-01-25</td>\n",
       "      <td>https://brunch.co.kr/@soonkyujang/119</td>\n",
       "      <td>Qsigner</td>\n",
       "      <td>@soonkyujang</td>\n",
       "      <td>디자이너</td>\n",
       "      <td>일상의 소소한 소재를 탐구하고, 호기심을 상식으로 써내려가는 잡지식의 UX 디자이너.</td>\n",
       "      <td>2329</td>\n",
       "    </tr>\n",
       "    <tr>\n",
       "      <th>2</th>\n",
       "      <td>AI기반 프레젠테이션 자동생성 솔루션 tome 소개</td>\n",
       "      <td>NaN</td>\n",
       "      <td>\\n아래 글은 Generative Tech 스터디 1기에서 작성한 글입니다. Gen...</td>\n",
       "      <td>['프레젠테이션', '생산성', 'AI']</td>\n",
       "      <td>7</td>\n",
       "      <td>0</td>\n",
       "      <td>2023-01-25</td>\n",
       "      <td>https://brunch.co.kr/@taewookim/75</td>\n",
       "      <td>TaeWoo Kim</td>\n",
       "      <td>@taewookim</td>\n",
       "      <td>CEO</td>\n",
       "      <td>내 지식과 경험을 수익으로 만드는 가장 쉬운 방법 에브리크리 (링크트리+ 내상품판매...</td>\n",
       "      <td>1384</td>\n",
       "    </tr>\n",
       "    <tr>\n",
       "      <th>3</th>\n",
       "      <td>계산기같은 ChatGPT</td>\n",
       "      <td>검색을 넘어서는 원샷원킬일까?</td>\n",
       "      <td>\\n구글마저 긴장케할 정도로 파죽지세로 뜨거운 감자가 되고 있는 OpenAI의 대화...</td>\n",
       "      <td>['검색', 'AI', '계산기']</td>\n",
       "      <td>10</td>\n",
       "      <td>0</td>\n",
       "      <td>2023-01-25</td>\n",
       "      <td>https://brunch.co.kr/@ioojoo/236</td>\n",
       "      <td>OOJOO</td>\n",
       "      <td>@ioojoo</td>\n",
       "      <td>출간작가</td>\n",
       "      <td>디지털 기술이 사회와 산업 그리고 기업과 개인에 가져다 주는 변화와 이에 대한 대응...</td>\n",
       "      <td>2248</td>\n",
       "    </tr>\n",
       "    <tr>\n",
       "      <th>4</th>\n",
       "      <td>AI로 이미지 만들기 (매우 쉬움)</td>\n",
       "      <td>Midjourney 사용 후기</td>\n",
       "      <td>\\n요즘 AI로 인터넷이 난리도 아니다. 특히 챗GPT. OpenAI사에서 신규로 ...</td>\n",
       "      <td>['AI', '인공지능', '챗봇']</td>\n",
       "      <td>15</td>\n",
       "      <td>1</td>\n",
       "      <td>2023-01-25</td>\n",
       "      <td>https://brunch.co.kr/@khakiparka/32</td>\n",
       "      <td>카키파카</td>\n",
       "      <td>@khakiparka</td>\n",
       "      <td>에세이스트</td>\n",
       "      <td>Put on a parka and walk.</td>\n",
       "      <td>10</td>\n",
       "    </tr>\n",
       "    <tr>\n",
       "      <th>...</th>\n",
       "      <td>...</td>\n",
       "      <td>...</td>\n",
       "      <td>...</td>\n",
       "      <td>...</td>\n",
       "      <td>...</td>\n",
       "      <td>...</td>\n",
       "      <td>...</td>\n",
       "      <td>...</td>\n",
       "      <td>...</td>\n",
       "      <td>...</td>\n",
       "      <td>...</td>\n",
       "      <td>...</td>\n",
       "      <td>...</td>\n",
       "    </tr>\n",
       "    <tr>\n",
       "      <th>1108523</th>\n",
       "      <td>박지연</td>\n",
       "      <td>마녀를 만난 사회초년생</td>\n",
       "      <td>\\n지연은 운이 좋게도 졸업 직전에 취업에 성공했다. 대기업 계열사인 모 광고회사의...</td>\n",
       "      <td>['마녀', '사회생활', '회사']</td>\n",
       "      <td>1</td>\n",
       "      <td>19</td>\n",
       "      <td>2015-07-21</td>\n",
       "      <td>https://brunch.co.kr/@daljasee/20</td>\n",
       "      <td>고수리</td>\n",
       "      <td>@daljasee</td>\n",
       "      <td>에세이스트</td>\n",
       "      <td>책과 펜과 밤과 마음을 쓰는 에세이스트</td>\n",
       "      <td>19000</td>\n",
       "    </tr>\n",
       "    <tr>\n",
       "      <th>1108524</th>\n",
       "      <td>나의 이직 경험기.</td>\n",
       "      <td>긴 글을 쓰는 건 어려운 일이네요.</td>\n",
       "      <td>\\n나는 세 곳의 직장에서 일을 했고, 네 번째 직장에서 일하고 있어요.\\n\\n나는...</td>\n",
       "      <td>['이직', '직장', '회사']</td>\n",
       "      <td>1</td>\n",
       "      <td>12</td>\n",
       "      <td>2015-07-04</td>\n",
       "      <td>https://brunch.co.kr/@daeheejang/6</td>\n",
       "      <td>장대희</td>\n",
       "      <td>@daeheejang</td>\n",
       "      <td>개발자</td>\n",
       "      <td>개발자</td>\n",
       "      <td>196</td>\n",
       "    </tr>\n",
       "    <tr>\n",
       "      <th>1108525</th>\n",
       "      <td>아빠, 아버지.</td>\n",
       "      <td>NaN</td>\n",
       "      <td>\\n내가 어릴적엔 아버지는 \\n힘세고, 무섭고, 과묵하고... \\n매일같이 일만하는...</td>\n",
       "      <td>['주말', '여행', '회사']</td>\n",
       "      <td>0</td>\n",
       "      <td>11</td>\n",
       "      <td>2015-07-01</td>\n",
       "      <td>https://brunch.co.kr/@legoilgi/4</td>\n",
       "      <td>레고일기 Legoilgi</td>\n",
       "      <td>@legoilgi</td>\n",
       "      <td>디자이너</td>\n",
       "      <td>레고로 일상을 기록하다.</td>\n",
       "      <td>45</td>\n",
       "    </tr>\n",
       "    <tr>\n",
       "      <th>1108526</th>\n",
       "      <td>창작자는 꼭 혼자여야 할까?</td>\n",
       "      <td>We-freekey와 Freekey.co 에 대한 블라블라</td>\n",
       "      <td>\\n스토리 제목은 \"팝아티스트의 회사 만들기(이전 제목)\"인데 실제 회사 만들기는 ...</td>\n",
       "      <td>['혼자여야', '회사', '창작자']</td>\n",
       "      <td>1</td>\n",
       "      <td>2</td>\n",
       "      <td>2015-07-01</td>\n",
       "      <td>https://brunch.co.kr/@reeccu/3</td>\n",
       "      <td>릭킴 Rickkim</td>\n",
       "      <td>@reeccu</td>\n",
       "      <td>아티스트</td>\n",
       "      <td>내 안에 있는 무언가를 현실로 가져오고 싶어 발버둥치는 사람입니다. 이야기를 하고 ...</td>\n",
       "      <td>1101</td>\n",
       "    </tr>\n",
       "    <tr>\n",
       "      <th>1108527</th>\n",
       "      <td>2015년 5월 3일의 나.</td>\n",
       "      <td>누군가의 시점에서 바라본 나. 릭의 첫 번째 인터뷰.</td>\n",
       "      <td>\\n지난번 인터뷰이 모집 시에 미리 신청을 받아 둔 팝아티스트 Rick 씨, 인터뷰...</td>\n",
       "      <td>['인터뷰', '회사', '직장']</td>\n",
       "      <td>2</td>\n",
       "      <td>3</td>\n",
       "      <td>2015-06-25</td>\n",
       "      <td>https://brunch.co.kr/@reeccu/1</td>\n",
       "      <td>릭킴 Rickkim</td>\n",
       "      <td>@reeccu</td>\n",
       "      <td>아티스트</td>\n",
       "      <td>내 안에 있는 무언가를 현실로 가져오고 싶어 발버둥치는 사람입니다. 이야기를 하고 ...</td>\n",
       "      <td>1101</td>\n",
       "    </tr>\n",
       "  </tbody>\n",
       "</table>\n",
       "<p>1108528 rows × 13 columns</p>\n",
       "</div>"
      ],
      "text/plain": [
       "                                title                         sub_title  \\\n",
       "0               컴퓨터 비전 기술 활용 AI개발 사례                 스노우같은 셀카앱을 만들고 싶다면   \n",
       "1        AI 어시스턴트의 보이스를 통한 이모티콘 활용 방법                   Part 2. 탐구생활 #2   \n",
       "2        AI기반 프레젠테이션 자동생성 솔루션 tome 소개                               NaN   \n",
       "3                       계산기같은 ChatGPT                  검색을 넘어서는 원샷원킬일까?   \n",
       "4                 AI로 이미지 만들기 (매우 쉬움)                  Midjourney 사용 후기   \n",
       "...                               ...                               ...   \n",
       "1108523                           박지연                      마녀를 만난 사회초년생   \n",
       "1108524                    나의 이직 경험기.               긴 글을 쓰는 건 어려운 일이네요.   \n",
       "1108525                      아빠, 아버지.                               NaN   \n",
       "1108526               창작자는 꼭 혼자여야 할까?  We-freekey와 Freekey.co 에 대한 블라블라   \n",
       "1108527               2015년 5월 3일의 나.     누군가의 시점에서 바라본 나. 릭의 첫 번째 인터뷰.   \n",
       "\n",
       "                                                 body_text  \\\n",
       "0        \\n\\n\\n오늘 다뤄볼 주제는 컴퓨터 비전이라는 기술입니다.\\n\\n우리가 흔히 알고...   \n",
       "1        \\n현대 사회의 커뮤니케이션\\n\\n현대 사회는 스마트폰을 통해서 시공간적 제약의 한...   \n",
       "2        \\n아래 글은 Generative Tech 스터디 1기에서 작성한 글입니다. Gen...   \n",
       "3        \\n구글마저 긴장케할 정도로 파죽지세로 뜨거운 감자가 되고 있는 OpenAI의 대화...   \n",
       "4        \\n요즘 AI로 인터넷이 난리도 아니다. 특히 챗GPT. OpenAI사에서 신규로 ...   \n",
       "...                                                    ...   \n",
       "1108523  \\n지연은 운이 좋게도 졸업 직전에 취업에 성공했다. 대기업 계열사인 모 광고회사의...   \n",
       "1108524  \\n나는 세 곳의 직장에서 일을 했고, 네 번째 직장에서 일하고 있어요.\\n\\n나는...   \n",
       "1108525  \\n내가 어릴적엔 아버지는 \\n힘세고, 무섭고, 과묵하고... \\n매일같이 일만하는...   \n",
       "1108526  \\n스토리 제목은 \"팝아티스트의 회사 만들기(이전 제목)\"인데 실제 회사 만들기는 ...   \n",
       "1108527  \\n지난번 인터뷰이 모집 시에 미리 신청을 받아 둔 팝아티스트 Rick 씨, 인터뷰...   \n",
       "\n",
       "                         keyword  likes  num_comments    post_date  \\\n",
       "0          ['컴퓨터비전', '비전', 'AI']      4             0   2023-01-25   \n",
       "1        ['이모티콘', 'AI', 'UX디자인']      8             0   2023-01-25   \n",
       "2        ['프레젠테이션', '생산성', 'AI']      7             0   2023-01-25   \n",
       "3            ['검색', 'AI', '계산기']     10             0   2023-01-25   \n",
       "4           ['AI', '인공지능', '챗봇']     15             1   2023-01-25   \n",
       "...                          ...    ...           ...          ...   \n",
       "1108523     ['마녀', '사회생활', '회사']      1            19   2015-07-21   \n",
       "1108524       ['이직', '직장', '회사']      1            12   2015-07-04   \n",
       "1108525       ['주말', '여행', '회사']      0            11   2015-07-01   \n",
       "1108526    ['혼자여야', '회사', '창작자']      1             2   2015-07-01   \n",
       "1108527      ['인터뷰', '회사', '직장']      2             3   2015-06-25   \n",
       "\n",
       "                                      post_url         author     author_id  \\\n",
       "0          https://brunch.co.kr/@brunchk1wj/57            김성장   @brunchk1wj   \n",
       "1        https://brunch.co.kr/@soonkyujang/119        Qsigner  @soonkyujang   \n",
       "2           https://brunch.co.kr/@taewookim/75     TaeWoo Kim    @taewookim   \n",
       "3             https://brunch.co.kr/@ioojoo/236          OOJOO       @ioojoo   \n",
       "4          https://brunch.co.kr/@khakiparka/32           카키파카   @khakiparka   \n",
       "...                                        ...            ...           ...   \n",
       "1108523      https://brunch.co.kr/@daljasee/20            고수리     @daljasee   \n",
       "1108524     https://brunch.co.kr/@daeheejang/6            장대희   @daeheejang   \n",
       "1108525       https://brunch.co.kr/@legoilgi/4  레고일기 Legoilgi     @legoilgi   \n",
       "1108526         https://brunch.co.kr/@reeccu/3     릭킴 Rickkim       @reeccu   \n",
       "1108527         https://brunch.co.kr/@reeccu/1     릭킴 Rickkim       @reeccu   \n",
       "\n",
       "        author_belong                                        author_desc  \\\n",
       "0                 CEO                       AI 솔루션 스타트업, 디피니트 대표 김도환입니다.   \n",
       "1                디자이너    일상의 소소한 소재를 탐구하고, 호기심을 상식으로 써내려가는 잡지식의 UX 디자이너.   \n",
       "2                 CEO  내 지식과 경험을 수익으로 만드는 가장 쉬운 방법 에브리크리 (링크트리+ 내상품판매...   \n",
       "3                출간작가  디지털 기술이 사회와 산업 그리고 기업과 개인에 가져다 주는 변화와 이에 대한 대응...   \n",
       "4               에세이스트                           Put on a parka and walk.   \n",
       "...               ...                                                ...   \n",
       "1108523         에세이스트                              책과 펜과 밤과 마음을 쓰는 에세이스트   \n",
       "1108524           개발자                                                개발자   \n",
       "1108525          디자이너                                     레고로 일상을 기록하다.    \n",
       "1108526          아티스트  내 안에 있는 무언가를 현실로 가져오고 싶어 발버둥치는 사람입니다. 이야기를 하고 ...   \n",
       "1108527          아티스트  내 안에 있는 무언가를 현실로 가져오고 싶어 발버둥치는 사람입니다. 이야기를 하고 ...   \n",
       "\n",
       "         num_subscription  \n",
       "0                      38  \n",
       "1                    2329  \n",
       "2                    1384  \n",
       "3                    2248  \n",
       "4                      10  \n",
       "...                   ...  \n",
       "1108523             19000  \n",
       "1108524               196  \n",
       "1108525                45  \n",
       "1108526              1101  \n",
       "1108527              1101  \n",
       "\n",
       "[1108528 rows x 13 columns]"
      ]
     },
     "execution_count": 10,
     "metadata": {},
     "output_type": "execute_result"
    }
   ],
   "source": [
    "total_df"
   ]
  },
  {
   "cell_type": "code",
   "execution_count": 11,
   "id": "e0fe8ca6",
   "metadata": {
    "scrolled": true
   },
   "outputs": [
    {
     "data": {
      "text/plain": [
       "'\\n디지털 혁명의 핵은 AI(인공지능)와 로봇이다. AI는  인간이 하는 일 중에 프로세스를 정할 수 있는 일은 모두 AI가 대신할 수 있다. 로봇은 AI가 하는 일 중에 \\'필요한 행동\\' 거의 모두를 로봇이 하게 된다. 무인 자동차, 드론, 나노 로봇, 산업용 로봇, 가사 도우미 로봇 등 움직이는 모든 것이다. \\n미국 로봇 전문기업인 보스턴 다이내믹스 휴머노이드(인간형) 로봇인 ‘아틀라스’는 실제 복잡한 건설현장에서 무거운 공구 가방을 들고 비계(飛階) 사이에 임시 다리를 만드는 등 고난도 작업을 수행하는 모습이 공개됐다. 현재 벌어지는 일이고 수년 내 그렇게 세상은 바뀐다.\\n\\n▲ 드디어 초거대 AI 챗(chat) GPT, 진화한 디지털 시대를 열었다.\\n\\n챗 GPT가 뭘까?  챗 GPT는 사용자가 질문하면, 인간이 알고 표현한(언어, 기록) 방대한 데이터를 머신러닝을 통해 알고리즘으로 정리하여 답변해 준다.  단순히 인터넷의 여러 정보를 짜깁기하는 것을 넘어 스스로 창작물을 만들어내거나, 프로그래밍 코드를 만들 수 있다. \\n\\n만물박사 비서를 누구나 사용할 수 있다. 챗 GPT인 만물박사를 통하여 다시 살을 붙여 모인 데이터는 AI를 더 고도화한다. 이에 따라 인간의 정치, 경제, 사회, 문화 등에 큰 변화가 온다. 권력과 부도 따라 변화하는 것이다.\\n\\n챗 GPT는 미국의 Open AI라는 회사가 2022년 12월 1일 공개한 대화를 하는 인공지능 챗봇이다. 챗봇(Chatter robot)은 메신저에 채팅을 하듯 질문을 입력하면, 인공지능이 빅데이터 분석을 바탕으로 사람과 대화하듯 답을 해주는 시스템이다. GPT는 \\'Generative Pre-training Transformer(생성 사전 훈련 변환기)\"의 약자다. 생성 AI일종이다.\\n\\n이번에 공개한 챗 GPT는 GPT-3.5 언어 기술을 사용한다. 2018년에 처음 GPT-1이 출시된 이후 GPT-2, GPT-3,  GPT-3.5까지 버전을 높여왔다.\\n▲ 실제 해보니 놀랍다. \\n\\n예를 들어 \"한국경제 칼럼니스트 박대석의 칼럼 성향을 분석해 주시지요.\"라는 질문을 하면  약 5초 정도안에 답변을 해준다. 내용과 함께 술술 읽히도록 문장력도 좋다. 난해한 질문도 척척이다.\\n또 예를 들면  \"ai와 로봇이 인간사회 직업을 다 잠식하나요?\"라는 질문에는 AI와 로봇을 대변하듯 답변을 한다. 놀랍다. 구글과 네이버 등 단순 검색 시대에서 이제 종합적이고 전문적인 지식을 제공하는 AI 지식제공 시대로 변한 것이다.\\n▲ 수정하며 고도화하고 완결성 높이는 중\\n\\n현재 챗 GPT의 시범 서비스 수준을 보고 아직 불완전하다는 평을 하면서 현실을 부정하는 지식인들의 의견이 종종 보도되고 있다. 현실을 인정하고 싶지 않은 편견이다. 제기된 챗 GPT 주요 문제인 정보의 정확성, 편견은 단기간 안에 대중의 검증을 거치면서 고도화하며 완결성을 높이게 된다. 2016년 이세돌 9단을 이긴 알파고는 AI 걸음마 단계였고 또 초거대 AI도 아니었다.\\n\\n오픈 AI의 CEO 샘 알트만(Sam Altman)은 꾸준히 트위터를 통해 오픈 AI의 이야기를 전해왔다. 최근에는 챗 GPT의 일부 정보 오류 등에 대하여 “챗 GPT의 역량은 아직 제한적이다. 아직 발전하는 과정이라고 봐야 한다. 재밌고 창의적인 영감을 받기 위해서 사용하는 것은 좋으나, 사실 확인 등을 하기 위해서 활용하는 것은 그다지 좋은 생각이 아니다”라고 설명했다.\\n\\n▲ 권력과 부의 이동에도 큰 영향 줄 것\\n\\n아무튼 현재 인간이 편하고 좋다고 판단하여 사용한 제도들이 하나씩 빨리 변할 것이다. 이에 따라 돈과 권력이 움직이는 일은 당연한다. 당장 교육현장에서 사용하는 학생들의 논문, 과제, 보고서 등의 평가방법은 전면 개편해야 한다. \\n\\n챗 GPT를 사용한 과제물은 가려낼 방법도 없다. 엄정한 감독 하에 이루어지는 필기시험 이외에 모든 평가는 예체능 실기처럼 토론과 발표로 해야 한다. 이를 기회로 암기식, 주관식 교육에서 토론 교육으로 바꾸는 계기로 삼을 필요가 있다.\\n법정 출석 등 실제 행위가 수반하는 일을 제외하고는 단순한 법률, 세무, 회계, 교육(교수) 등 전문가 수준 이상의 지식 제공은 일시적인 기존 시장 참여자들의 저항에도 불구하고 점진적으로 상용화한다. 현재 챗 GPT 서비스는 무료다. \\n일반인들이 어떤 정보(법 등)가 있는지 어떻게 적용하는지를 몰라서 큰 시장을 독과점하듯 차지하며 밥벌이로 삼은 지식 전문가 시장은 점차 크게 줄어들 수밖에 없다. 기존 전문가 집단은 서둘러 다른 수익모델을 알아봐야 할 것이다. \\n\\n선출 권력도 선거과정에서 챗 GPT 영향을 많이 받는다. 유권자가 쉽고 정확하게 후보를 검증할 수 있기 때문이다. 따라서 정치인은 노출된 개인 정보관리를 위하여 평소에 평판관리를 잘해야만 한다. \\n\\n▲ 한국 생성 AI기업 누가 나오나?\\n오픈 AI의 경우, 2019년에 마이크로소프트로부터 10억 달러(약 1조 3000억 원)의 투자를 받았다. 마이크로소프트는 오픈 AI와 협력해 \\'GPT-3.5\\', \\'달리\\' 등을 애저 클라우드에서 제공하겠다고 밝힌 데 이어 최근 AI 업계 최대 관심사로 떠오른 챗 GPT도 클라우드로 서비스할 계획이다. \\n구글도 AI 윤리 문제를 해결하는 데로 구글클라우드를 통해 자체 초거대 AI \\'람다\\', 생성 AI \\'뮤즈\\'와 딥마인드의 초거대 AI \\'스패로우\\'를 공개할 방침이다. 국내에선 네이버클라우드와 KT클라우드가 자체 개발한 초거대 AI \\'클로바\\'와 \\'믿음\\'을 연내 클라우드로 공개할 것으로 알려졌다.\\n챗 GPT처럼 초거대 AI가 빠르게 정보를 요약·정리해서 사람처럼 답변하려면 AI 모델의 파라미터(매개변수) 수가 최소 1000억 개(100B) 이상이어야 하는데, 이러한 대규모 파라미터 처리를 위해 초거대(하이퍼스케일) 컴퓨팅(CPU·NPU·HBM) 인프라가 필수다.\\n챗 GPT 시장을 석권하면 수십억 명 사용자는 물론이고 인터넷 이용자 실시간 데이터를 쉽게 모을 수 있다. 핀테크 전문가인 리나스밸류나스의 트윗에 따르면 100만 사용자를 모으는데 넷플릭스는 3.5년, 에어비엔비는 2.5년, 페이스북(메타)은 10개월이 걸렸는데 챗 GPT는 단 5일만 필요했다. \\n\\n▲ 한국 생성 AI기업 주도하도록 정부가 도와주어야...\\n데이터는 돈이고 힘이다. AI 한 개 회사가 아니라 국가적인 경제와 안보에도 직결하는 문제다. 다른 산업에 미치는 파급효과가 지금의 구글 등과는 비교도 안 된다. 정부는 규제에 우선을 두지 말고 과감하게 국내기업이 챗 GPT 시장을 주도하도록 도와주어야 한다. 시급하다.\\n증기기관, 전기, 라디오, 인터넷, 백신, 가상화폐 등 인류를 바꾸는 각종 과학 기술과 경제 시스템을 한국이 만든 것은 하나도 없다. 그동안 한국은 베껴서 빨리·싸게·크게 만드는데 주력하여 선진국 반열에 들었다.\\n그러나 디지털 혁명 시대에는 한번 선두 자리를 놓치면 2등 몫은 거의 없다. 글로벌 질서에서 지식 수입국은 지식 생산국처럼 자유롭고 주도적이지 못하며 종속적이다. \\n이번에 선보인 챗 GPT 서비스는 1998년 \\'검색\\'을 무기로 인터넷 시대 풍미한 구글과 페이스북 등을 역사 뒤안길로 보내는 일이다. IT시장의 \\'게임 체인저\\'이자 뉴 패러다임이다. 한국이 챗 GPT 시대를 주도해야 한다. 예전처럼 후발주자로 쫓아가서는 안 되고 뒤처지면 따라갈 수도 없다.\\n또 국내 관련 산업은 물론이고 한국 정치, 경제 참여자 모두가 능동적으로 초거대 AI 패러다임에 대처해야 만한다. 하루빨리 정부가 초거대 AI 챗 GPT의 중요성을 알고 현상과 파급효과, 대처방안을 마련해야 할 때다. 규제가 아니라\\n※ 챗 GPT는 \\'openai.com\\'으로 접속하여 \\'API\\'에서 가입하여 사용하면 된다. 1월 24일 18시 19분 현재 용량이 가득 차 있다는(ChatGPT is at capacity right now) 화면이 뜨는 걸로 보아서 수일만에 가입자가 수천만 명으로 급증한 것으로 추측된다. \\n칼럼니스트 박대석\\n  '"
      ]
     },
     "execution_count": 11,
     "metadata": {},
     "output_type": "execute_result"
    }
   ],
   "source": [
    "total_df['body_text'].iloc[6]"
   ]
  },
  {
   "cell_type": "markdown",
   "id": "3f01e657",
   "metadata": {},
   "source": [
    "### 데이터 프레임 속성 확인"
   ]
  },
  {
   "cell_type": "code",
   "execution_count": 12,
   "id": "f3b93ac7",
   "metadata": {
    "scrolled": true
   },
   "outputs": [
    {
     "data": {
      "text/plain": [
       "title               object\n",
       "sub_title           object\n",
       "body_text           object\n",
       "keyword             object\n",
       "likes                int64\n",
       "num_comments         int64\n",
       "post_date           object\n",
       "post_url            object\n",
       "author              object\n",
       "author_id           object\n",
       "author_belong       object\n",
       "author_desc         object\n",
       "num_subscription     int64\n",
       "dtype: object"
      ]
     },
     "execution_count": 12,
     "metadata": {},
     "output_type": "execute_result"
    }
   ],
   "source": [
    "total_df.dtypes"
   ]
  },
  {
   "cell_type": "code",
   "execution_count": 13,
   "id": "e9c5d5ce",
   "metadata": {
    "scrolled": false
   },
   "outputs": [
    {
     "name": "stdout",
     "output_type": "stream",
     "text": [
      "<class 'pandas.core.frame.DataFrame'>\n",
      "RangeIndex: 1108528 entries, 0 to 1108527\n",
      "Data columns (total 13 columns):\n",
      " #   Column            Non-Null Count    Dtype \n",
      "---  ------            --------------    ----- \n",
      " 0   title             1108488 non-null  object\n",
      " 1   sub_title         815452 non-null   object\n",
      " 2   body_text         1102783 non-null  object\n",
      " 3   keyword           1108528 non-null  object\n",
      " 4   likes             1108528 non-null  int64 \n",
      " 5   num_comments      1108528 non-null  int64 \n",
      " 6   post_date         1108528 non-null  object\n",
      " 7   post_url          1108528 non-null  object\n",
      " 8   author            1108408 non-null  object\n",
      " 9   author_id         1108528 non-null  object\n",
      " 10  author_belong     845850 non-null   object\n",
      " 11  author_desc       1107648 non-null  object\n",
      " 12  num_subscription  1108528 non-null  int64 \n",
      "dtypes: int64(3), object(10)\n",
      "memory usage: 109.9+ MB\n"
     ]
    }
   ],
   "source": [
    "total_df.info()"
   ]
  },
  {
   "cell_type": "markdown",
   "id": "8af4c201",
   "metadata": {},
   "source": [
    "### 결측치 확인\n",
    "\n",
    "각 column의 결측치 확인"
   ]
  },
  {
   "cell_type": "code",
   "execution_count": 14,
   "id": "0de13354",
   "metadata": {
    "scrolled": false
   },
   "outputs": [
    {
     "data": {
      "text/plain": [
       "title                   40\n",
       "sub_title           293076\n",
       "body_text             5745\n",
       "keyword                  0\n",
       "likes                    0\n",
       "num_comments             0\n",
       "post_date                0\n",
       "post_url                 0\n",
       "author                 120\n",
       "author_id                0\n",
       "author_belong       262678\n",
       "author_desc            880\n",
       "num_subscription         0\n",
       "dtype: int64"
      ]
     },
     "execution_count": 14,
     "metadata": {},
     "output_type": "execute_result"
    }
   ],
   "source": [
    "total_df.isnull().sum()"
   ]
  },
  {
   "cell_type": "markdown",
   "id": "a472ea1b",
   "metadata": {},
   "source": [
    "#### 결측치 제거하기\n",
    "* body_text가 null인 행\n",
    "* title이 null인 행"
   ]
  },
  {
   "cell_type": "code",
   "execution_count": 15,
   "id": "83e1fd69",
   "metadata": {},
   "outputs": [
    {
     "data": {
      "text/plain": [
       "title                    0\n",
       "sub_title           290979\n",
       "body_text                0\n",
       "keyword                  0\n",
       "likes                    0\n",
       "num_comments             0\n",
       "post_date                0\n",
       "post_url                 0\n",
       "author                 120\n",
       "author_id                0\n",
       "author_belong       261613\n",
       "author_desc            879\n",
       "num_subscription         0\n",
       "dtype: int64"
      ]
     },
     "execution_count": 15,
     "metadata": {},
     "output_type": "execute_result"
    }
   ],
   "source": [
    "total_df = total_df.dropna(subset=['body_text'])\n",
    "total_df = total_df.dropna(subset=['title'])\n",
    "total_df.reset_index(inplace=True, drop=True) # 인덱스 초기화\n",
    "total_df.isnull().sum()"
   ]
  },
  {
   "cell_type": "markdown",
   "id": "b497737a",
   "metadata": {},
   "source": [
    "### url 기준 중복 제거 "
   ]
  },
  {
   "cell_type": "code",
   "execution_count": 16,
   "id": "a5276f77",
   "metadata": {},
   "outputs": [
    {
     "name": "stdout",
     "output_type": "stream",
     "text": [
      "<class 'pandas.core.frame.DataFrame'>\n",
      "RangeIndex: 1102743 entries, 0 to 1102742\n",
      "Data columns (total 13 columns):\n",
      " #   Column            Non-Null Count    Dtype \n",
      "---  ------            --------------    ----- \n",
      " 0   title             1102743 non-null  object\n",
      " 1   sub_title         811764 non-null   object\n",
      " 2   body_text         1102743 non-null  object\n",
      " 3   keyword           1102743 non-null  object\n",
      " 4   likes             1102743 non-null  int64 \n",
      " 5   num_comments      1102743 non-null  int64 \n",
      " 6   post_date         1102743 non-null  object\n",
      " 7   post_url          1102743 non-null  object\n",
      " 8   author            1102623 non-null  object\n",
      " 9   author_id         1102743 non-null  object\n",
      " 10  author_belong     841130 non-null   object\n",
      " 11  author_desc       1101864 non-null  object\n",
      " 12  num_subscription  1102743 non-null  int64 \n",
      "dtypes: int64(3), object(10)\n",
      "memory usage: 109.4+ MB\n"
     ]
    }
   ],
   "source": [
    "total_df.info()"
   ]
  },
  {
   "cell_type": "code",
   "execution_count": 17,
   "id": "2b293b85",
   "metadata": {},
   "outputs": [],
   "source": [
    "# url 기준 중복 제거\n",
    "total_df = total_df.drop_duplicates(['post_url'])\n",
    "total_df.reset_index(inplace=True, drop=True) # 인덱스 초기화"
   ]
  },
  {
   "cell_type": "code",
   "execution_count": 18,
   "id": "72e654fa",
   "metadata": {},
   "outputs": [
    {
     "name": "stdout",
     "output_type": "stream",
     "text": [
      "<class 'pandas.core.frame.DataFrame'>\n",
      "RangeIndex: 857807 entries, 0 to 857806\n",
      "Data columns (total 13 columns):\n",
      " #   Column            Non-Null Count   Dtype \n",
      "---  ------            --------------   ----- \n",
      " 0   title             857807 non-null  object\n",
      " 1   sub_title         629829 non-null  object\n",
      " 2   body_text         857807 non-null  object\n",
      " 3   keyword           857807 non-null  object\n",
      " 4   likes             857807 non-null  int64 \n",
      " 5   num_comments      857807 non-null  int64 \n",
      " 6   post_date         857807 non-null  object\n",
      " 7   post_url          857807 non-null  object\n",
      " 8   author            857717 non-null  object\n",
      " 9   author_id         857807 non-null  object\n",
      " 10  author_belong     652065 non-null  object\n",
      " 11  author_desc       857098 non-null  object\n",
      " 12  num_subscription  857807 non-null  int64 \n",
      "dtypes: int64(3), object(10)\n",
      "memory usage: 85.1+ MB\n"
     ]
    }
   ],
   "source": [
    "total_df.info()"
   ]
  },
  {
   "cell_type": "markdown",
   "id": "f2cd50b3",
   "metadata": {},
   "source": [
    "총 **857,807**개의 에세이 수집됨"
   ]
  },
  {
   "cell_type": "markdown",
   "id": "ef48afb8",
   "metadata": {},
   "source": [
    "### 전체 에세이 평균 글자수"
   ]
  },
  {
   "cell_type": "code",
   "execution_count": 19,
   "id": "2b5a7d4d",
   "metadata": {},
   "outputs": [
    {
     "name": "stdout",
     "output_type": "stream",
     "text": [
      "글자수 평균: 2147자\n"
     ]
    }
   ],
   "source": [
    "total_text_len = []\n",
    "for _, row in total_df.iterrows():\n",
    "    body_text = row['body_text']\n",
    "    total_text_len.append(len(body_text))\n",
    "print(f\"글자수 평균: {int(sum(total_text_len)/len(total_text_len))}자\")"
   ]
  },
  {
   "cell_type": "code",
   "execution_count": 20,
   "id": "4dec81d5",
   "metadata": {},
   "outputs": [
    {
     "data": {
      "text/plain": [
       "(array([118594., 102965., 126664., 131832., 108948.,  80271.,  56021.,\n",
       "         38276.,  26304.,  17990.,  12598.,   9095.,   6420.,   4793.,\n",
       "          3471.,   2692.,   2007.,   1529.,   1174.,   1008.,    812.,\n",
       "           660.,    533.,    427.,    356.,    315.,    240.,    199.,\n",
       "           182.]),\n",
       " array([1.0000e+00, 5.0100e+02, 1.0010e+03, 1.5010e+03, 2.0010e+03,\n",
       "        2.5010e+03, 3.0010e+03, 3.5010e+03, 4.0010e+03, 4.5010e+03,\n",
       "        5.0010e+03, 5.5010e+03, 6.0010e+03, 6.5010e+03, 7.0010e+03,\n",
       "        7.5010e+03, 8.0010e+03, 8.5010e+03, 9.0010e+03, 9.5010e+03,\n",
       "        1.0001e+04, 1.0501e+04, 1.1001e+04, 1.1501e+04, 1.2001e+04,\n",
       "        1.2501e+04, 1.3001e+04, 1.3501e+04, 1.4001e+04, 1.4501e+04]),\n",
       " <BarContainer object of 29 artists>)"
      ]
     },
     "execution_count": 20,
     "metadata": {},
     "output_type": "execute_result"
    },
    {
     "data": {
      "image/png": "[encoded data removed]",
      "text/plain": [
       "<Figure size 640x480 with 1 Axes>"
      ]
     },
     "metadata": {},
     "output_type": "display_data"
    }
   ],
   "source": [
    "plt.xlabel('글자 수')\n",
    "plt.hist(total_text_len, bins=[i for i in range(1,15000,500)])"
   ]
  },
  {
   "cell_type": "code",
   "execution_count": 21,
   "id": "53a369f1",
   "metadata": {},
   "outputs": [],
   "source": [
    "# 문자열로 저장된 리스트를 파이썬 리스트 타입으로 변환해주는 함수\n",
    "def str_to_list(cell):\n",
    "    cell = ''.join(c for c in cell if c not in \"'[]\")\n",
    "    cell = cell.split(', ')\n",
    "    return cell"
   ]
  },
  {
   "cell_type": "markdown",
   "id": "0c4ee2ef",
   "metadata": {},
   "source": [
    "### 평균 키워드(태그) 개수"
   ]
  },
  {
   "cell_type": "code",
   "execution_count": 22,
   "id": "2561a7ba",
   "metadata": {
    "scrolled": true
   },
   "outputs": [
    {
     "name": "stdout",
     "output_type": "stream",
     "text": [
      "키워드 수 평균: 2.9169498500245394개\n"
     ]
    }
   ],
   "source": [
    "total_keyword_len = []\n",
    "for _, row in total_df.iterrows():\n",
    "    keyword = str_to_list(row['keyword'])\n",
    "    total_keyword_len.append(len(keyword))\n",
    "    \n",
    "print(f\"키워드 수 평균: {sum(total_keyword_len)/len(total_keyword_len)}개\")"
   ]
  },
  {
   "cell_type": "markdown",
   "id": "d51678cd",
   "metadata": {},
   "source": [
    "### 평균 좋아요(하트) 수 "
   ]
  },
  {
   "cell_type": "code",
   "execution_count": 23,
   "id": "27b15138",
   "metadata": {},
   "outputs": [],
   "source": [
    "total_likes = total_df['likes'].to_list()"
   ]
  },
  {
   "cell_type": "code",
   "execution_count": 24,
   "id": "6af65e4e",
   "metadata": {},
   "outputs": [
    {
     "data": {
      "text/plain": [
       "(array([222908., 207521., 179234.,  83368.,  37436.,  20240.,  12807.,\n",
       "          8699.,   6414.,   4914.,   3685.,   2892.,   2343.,   1949.,\n",
       "          1856.]),\n",
       " array([ 1.,  6., 11., 16., 21., 26., 31., 36., 41., 46., 51., 56., 61.,\n",
       "        66., 71., 76.]),\n",
       " <BarContainer object of 15 artists>)"
      ]
     },
     "execution_count": 24,
     "metadata": {},
     "output_type": "execute_result"
    },
    {
     "data": {
      "image/png": "[encoded data removed]",
      "text/plain": [
       "<Figure size 640x480 with 1 Axes>"
      ]
     },
     "metadata": {},
     "output_type": "display_data"
    }
   ],
   "source": [
    "plt.xlabel('좋아요 수')\n",
    "plt.hist(total_likes, bins=[i for i in range(1,80,5)] )"
   ]
  }
 ],
 "metadata": {
  "kernelspec": {
   "display_name": "Python 3 (ipykernel)",
   "language": "python",
   "name": "python3"
  },
  "language_info": {
   "codemirror_mode": {
    "name": "ipython",
    "version": 3
   },
   "file_extension": ".py",
   "mimetype": "text/x-python",
   "name": "python",
   "nbconvert_exporter": "python",
   "pygments_lexer": "ipython3",
   "version": "3.11.1"
  }
 },
 "nbformat": 4,
 "nbformat_minor": 5
}
